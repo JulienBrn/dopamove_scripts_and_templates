{
 "cells": [
  {
   "cell_type": "code",
   "execution_count": null,
   "metadata": {},
   "outputs": [],
   "source": [
    "import numpy as np, pandas as pd, xarray as xr\n",
    "from pathlib import Path\n",
    "import datetime, networkx as nx, yaml, warnings, sys, logging\n",
    "from disjoint_set import DisjointSet\n",
    "from helper import singleglob, nxrender, Step, dict_merge, PdfWriter, DictWriter, TableWriter, TextWriter\n",
    "import matplotlib.pyplot as plt\n",
    "import matplotlib as mpl, seaborn as sns\n",
    "mpl.rcParams['figure.figsize'] = [15, 6]"
   ]
  },
  {
   "cell_type": "code",
   "execution_count": null,
   "metadata": {},
   "outputs": [],
   "source": [
    "notebook_name = Path(\"plot_rt_mt.ipynb\")"
   ]
  },
  {
   "cell_type": "code",
   "execution_count": null,
   "metadata": {},
   "outputs": [],
   "source": [
    "base_folder = Path(\".\").resolve().parent\n",
    "result_folder = Path(\".\")/notebook_name.stem\n",
    "result_folder.mkdir(exist_ok=True, parents=True)\n"
   ]
  },
  {
   "cell_type": "code",
   "execution_count": null,
   "metadata": {},
   "outputs": [],
   "source": [
    "tables = TableWriter(result_folder/\"tables.xlsx\")\n",
    "figures = PdfWriter(result_folder/\"figures.pdf\")\n",
    "dicts = DictWriter(result_folder/\"dicts.yaml\")\n",
    "notebook_save_path = result_folder/\"notebook.html\"\n",
    "warn =  TextWriter(result_folder/\"warnings.txt\")"
   ]
  },
  {
   "cell_type": "code",
   "execution_count": null,
   "metadata": {},
   "outputs": [],
   "source": [
    "input_data = pd.DataFrame()\n",
    "input_data[\"sessions\"] = [base_folder] if base_folder.stem.startswith(\"Session--\") else [f for f in base_folder.glob(\"**/Session--*\")]\n",
    "input_data[\"metadata_file\"] = input_data[\"sessions\"].apply(lambda f: f/\"metadata.yaml\")\n",
    "input_data[\"trial_event_file\"] = input_data[\"sessions\"].apply(lambda f: f/\"analysis\"/\"events\"/\"trial_events.nc\")\n",
    "input_data[\"run\"] = input_data.apply(lambda row: (row[\"metadata_file\"].exists() & row[\"trial_event_file\"].exists()), axis=1)\n",
    "tables.write(input_data=input_data)\n"
   ]
  },
  {
   "cell_type": "code",
   "execution_count": null,
   "metadata": {},
   "outputs": [],
   "source": [
    "run_data = input_data.loc[input_data[\"run\"]]\n",
    "run_data = pd.concat([run_data, run_data])\n",
    "datasets = []\n",
    "for _, row in run_data.iterrows():\n",
    "    data = xr.load_dataset(row[\"trial_event_file\"])\n",
    "    metadata = yaml.safe_load(row[\"metadata_file\"].open(\"r\"))\n",
    "    data = data.assign(session_date=metadata[\"date\"], subject=metadata[\"subject\"][\"name\"], opsin=metadata[\"subject\"][\"opsin\"], handedness=metadata[\"subject\"][\"handedness\"], task=metadata[\"task\"][\"name\"])\n",
    "    data[\"trial_num\"] = data[\"trial\"]\n",
    "    data = data.drop_vars(\"trial\")\n",
    "    datasets.append(data)\n",
    "all = xr.concat(datasets, dim=\"trial\")\n",
    "all"
   ]
  },
  {
   "cell_type": "code",
   "execution_count": null,
   "metadata": {},
   "outputs": [],
   "source": [
    "all[\"rt\"] = all[\"event_t\"].sel(event_name=\"mouvement_start\") - all[\"event_t\"].sel(event_name=\"cue\")\n",
    "all[\"mt\"] = all[\"event_t\"].sel(event_name=\"leverpress\") - all[\"event_t\"].sel(event_name=\"mouvement_start\")\n",
    "all[\"sucess\"] = all[\"event_t\"].sel(event_name = \"error\").isnull() & all[\"rt\"].notnull() & all[\"mt\"].notnull() & (all[\"rt\"] < 2) & (all[\"mt\"] < 2)\n",
    "all"
   ]
  },
  {
   "cell_type": "code",
   "execution_count": null,
   "metadata": {},
   "outputs": [],
   "source": [
    "sucess = all.where(all[\"sucess\"], drop=True)\n",
    "sucess"
   ]
  },
  {
   "cell_type": "code",
   "execution_count": null,
   "metadata": {},
   "outputs": [],
   "source": [
    "motor_df = sucess.drop_dims(\"event_name\").to_dataframe()\n",
    "print(motor_df.to_string())"
   ]
  },
  {
   "cell_type": "code",
   "execution_count": null,
   "metadata": {},
   "outputs": [],
   "source": [
    "\n",
    "motor_df = motor_df.loc[motor_df[\"go\"].fillna(0) > 0.5]\n",
    "motor_df = motor_df.set_index([c for c in motor_df.columns if not c in [\"rt\", \"mt\"]]).stack()\n",
    "motor_df.index.rename(\"var\", level=-1, inplace=True)\n",
    "motor_df = motor_df.rename(\"value\").reset_index()\n",
    "motor_df[\"trial_type\"] = motor_df[\"cue_type\"].astype(str) + \", \"+motor_df[\"stimulation\"].astype(str)\n",
    "motor_df[\"protocol\"] = motor_df[\"task\"].str.extract('(_Cue-RT)', expand=False).fillna(\"_MT\")\n",
    "print(motor_df.to_string()) "
   ]
  },
  {
   "cell_type": "code",
   "execution_count": null,
   "metadata": {},
   "outputs": [],
   "source": [
    "zscore_df = motor_df.loc[(motor_df[\"cue_type\"]==\"LowPitch\") & (motor_df[\"stimulation\"]==\"None\")].groupby([\"var\", \"session_date\", \"subject\"], as_index=False)[\"value\"].agg([\"mean\", \"std\"]).reset_index(level=0, drop=True)\n",
    "zscore_df"
   ]
  },
  {
   "cell_type": "code",
   "execution_count": null,
   "metadata": {},
   "outputs": [],
   "source": [
    "merged_df = pd.merge(motor_df, zscore_df, how=\"left\", on=[\"var\", \"session_date\", \"subject\"])\n",
    "merged_df[\"value_zscored\"] = (merged_df[\"value\"] - merged_df[\"mean\"])/merged_df[\"std\"]\n",
    "merged_df = merged_df[(~(merged_df[\"std\"]==0)) & (~merged_df[\"std\"].isna()) ]\n",
    "merged_df"
   ]
  },
  {
   "cell_type": "code",
   "execution_count": null,
   "metadata": {},
   "outputs": [],
   "source": [
    "final_df = merged_df.reset_index(names=[\"trial\"]).drop(columns=[\"mean\", \"std\"])\n",
    "final_df\n"
   ]
  },
  {
   "cell_type": "code",
   "execution_count": null,
   "metadata": {},
   "outputs": [],
   "source": [
    "print(final_df[final_df[\"task\"]==\"HF_55_RandomTrial_NoGoGo_left_both_sound_LaserChrim_S1_Cue-RT1_4p15Hz_2rew_NoPadCheck_3000\"].to_string())"
   ]
  },
  {
   "cell_type": "code",
   "execution_count": null,
   "metadata": {},
   "outputs": [],
   "source": [
    "vars = final_df[\"var\"].drop_duplicates().to_list()\n",
    "opsins = final_df[\"opsin\"].drop_duplicates().to_list()\n",
    "trial_types = final_df[\"trial_type\"].drop_duplicates().to_list()\n",
    "tasks = final_df[\"task\"].drop_duplicates().to_list()\n",
    "subjects=final_df[\"subject\"].drop_duplicates().to_list()\n",
    "vars, opsins, trial_types, tasks, subjects"
   ]
  },
  {
   "cell_type": "code",
   "execution_count": null,
   "metadata": {},
   "outputs": [],
   "source": [
    "print(final_df.groupby([\"var\", \"opsin\",\"protocol\", \"task\", \"trial_type\", ])[\"value\"].count().to_string())"
   ]
  },
  {
   "cell_type": "code",
   "execution_count": null,
   "metadata": {},
   "outputs": [],
   "source": [
    "\n",
    "if  final_df[\"subject\"].nunique() > 1:\n",
    "    points_col=\"session_date\"\n",
    "    avg_col = \"subject\"\n",
    "else:\n",
    "    points_col = \"trial\"\n",
    "    avg_col=\"session_date\"\n",
    "avg_col_order =  sorted(final_df[avg_col].drop_duplicates().to_list())\n",
    "display_lim = [-3, 5]\n",
    "for task, plot_df in final_df.groupby(\"protocol\"):\n",
    "    f, axs = plt.subplots(len(opsins), len(vars), squeeze=False, figsize=(16, 5*len(opsins)))\n",
    "    for col, var in enumerate(vars):\n",
    "        for row, opsin in enumerate(opsins):\n",
    "            ax: plt.Axes=axs[row, col]\n",
    "            grp = plot_df[(plot_df[\"var\"]==var) & (plot_df[\"opsin\"]==opsin)]\n",
    "            sns.violinplot(data=grp,  y=\"value_zscored\", x=\"trial_type\", common_norm=False, order=trial_types, ax=ax, cut=0, color=\"wheat\", alpha=0.5, zorder=5, inner=None)\n",
    "            points = grp.groupby([\"trial_type\", points_col, avg_col])[\"value_zscored\"].mean().reset_index()\n",
    "            sns.swarmplot(data=points,  y=\"value_zscored\", x=\"trial_type\", hue=avg_col, hue_order=avg_col_order, order=trial_types, ax=ax, size=1.5, dodge=True, legend=False, zorder=1)\n",
    "            avgs = grp.groupby([\"trial_type\", avg_col])[\"value_zscored\"].mean().reset_index()\n",
    "            sns.swarmplot(data=avgs,  y=\"value_zscored\", x=\"trial_type\", \n",
    "                        hue=avg_col, hue_order=avg_col_order, order=trial_types, linewidth=10, size=1, ax=ax, dodge=True, legend=False if col!=0 or row!=0 else \"auto\"\n",
    "                        , zorder=0, marker=\"|\")\n",
    "            total = grp.groupby([\"trial_type\"])[\"value_zscored\"].agg([\"mean\", \"median\"]).reset_index()\n",
    "            sns.scatterplot(data=total, x=\"trial_type\", y=\"mean\", color=\"black\",  linewidth=10, size=1.2, zorder=6, marker=\"|\", ax=ax, legend=False)\n",
    "            ax.axhline(y=0, color=\"gray\", alpha=0.5, linewidth=0.7) #linestyle=(0, (1,3))\n",
    "            ax.set_title(f\"{var}, {opsin}\")\n",
    "            ax.set_ylim(display_lim)\n",
    "            if col==0 and row==0:\n",
    "                lgd = f.legend(handles=ax.legend().legend_handles, ncols=5, loc='lower center', bbox_to_anchor=(0.5, -0.04*3/(len(opsins))))\n",
    "                ax.legend().remove()\n",
    "    suptitle = plt.suptitle(task)\n",
    "    figures.write(bbox_extra_artists=(lgd,suptitle), bbox_inches='tight')\n",
    "    plt.tight_layout()\n",
    "    plt.show()\n",
    "    \n"
   ]
  },
  {
   "cell_type": "code",
   "execution_count": null,
   "metadata": {},
   "outputs": [],
   "source": [
    "del tables\n",
    "del dicts\n",
    "del figures"
   ]
  }
 ],
 "metadata": {
  "kernelspec": {
   "display_name": "dev",
   "language": "python",
   "name": "python3"
  },
  "language_info": {
   "codemirror_mode": {
    "name": "ipython",
    "version": 3
   },
   "file_extension": ".py",
   "mimetype": "text/x-python",
   "name": "python",
   "nbconvert_exporter": "python",
   "pygments_lexer": "ipython3",
   "version": "3.11.8"
  }
 },
 "nbformat": 4,
 "nbformat_minor": 2
}
