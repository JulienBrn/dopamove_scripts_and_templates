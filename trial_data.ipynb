{
 "cells": [
  {
   "cell_type": "code",
   "execution_count": null,
   "metadata": {},
   "outputs": [],
   "source": [
    "import numpy as np, pandas as pd, xarray as xr\n",
    "from pathlib import Path\n",
    "import datetime, networkx as nx, yaml, warnings, sys, logging\n",
    "from disjoint_set import DisjointSet\n",
    "from helper import singleglob, nxrender, Step, dict_merge, PdfWriter, DictWriter, TableWriter, TextWriter\n",
    "import matplotlib.pyplot as plt\n",
    "import matplotlib as mpl, seaborn as sns\n",
    "mpl.rcParams['figure.figsize'] = [15, 6]"
   ]
  },
  {
   "cell_type": "code",
   "execution_count": null,
   "metadata": {},
   "outputs": [],
   "source": [
    "notebook_name = Path(\"trial_data.ipynb\")"
   ]
  },
  {
   "cell_type": "code",
   "execution_count": null,
   "metadata": {},
   "outputs": [],
   "source": [
    "base_folder = Path(\".\").resolve().parent\n",
    "result_folder = Path(\".\")/notebook_name.stem\n",
    "result_folder.mkdir(exist_ok=True, parents=True)\n",
    "event_step = Step(Path(\".\").resolve() / \"events.ipynb\")\n",
    "fiber_file = singleglob(base_folder, \"fiber/Fluorescence.csv\")\n",
    "result_path =  result_folder / \"trial_data.nc\"\n",
    "base_folder, fiber_file, event_step"
   ]
  },
  {
   "cell_type": "code",
   "execution_count": null,
   "metadata": {},
   "outputs": [],
   "source": [
    "tables = TableWriter(result_folder/\"tables.xlsx\")\n",
    "figures = PdfWriter(result_folder/\"figures.pdf\")\n",
    "dicts = DictWriter(result_folder/\"dicts.yaml\")\n",
    "notebook_save_path = result_folder/\"notebook.html\"\n",
    "warn =  TextWriter(result_folder/\"warnings.txt\")\n"
   ]
  },
  {
   "cell_type": "code",
   "execution_count": null,
   "metadata": {},
   "outputs": [],
   "source": [
    "events = xr.load_dataset(event_step.exec_if_necessary()/\"trial_events.nc\")\n",
    "events"
   ]
  },
  {
   "cell_type": "code",
   "execution_count": null,
   "metadata": {},
   "outputs": [],
   "source": [
    "fiber_data = pd.read_csv(fiber_file, skiprows=1).dropna(axis=1, how=\"all\")\n",
    "fiber_data.insert(0, \"t\", fiber_data[\"TimeStamp\"]/1000)\n",
    "fiber_data = fiber_data.drop(columns=[\"TimeStamp\", \"Events\"])\n",
    "fiber_data\n"
   ]
  },
  {
   "cell_type": "code",
   "execution_count": null,
   "metadata": {},
   "outputs": [],
   "source": [
    "stacked = fiber_data.set_index(\"t\").rename_axis(\"channel\", axis=1).stack().to_frame(\"value\").reset_index()\n",
    "stacked[\"channel_hemi\"] = stacked[\"channel\"].str.extract('CH(\\d*)-').astype(int)\n",
    "stacked[\"channel_hemi\"] = stacked[\"channel_hemi\"].map({1: \"Left\", 2:\"Right\"})\n",
    "stacked[\"channel_type\"] = stacked[\"channel\"].str.extract('CH\\d*-(\\d*)').astype(int)\n",
    "stacked[\"channel_type\"] = stacked[\"channel_type\"].map({410: \"baseline\", 470:\"dlight\"})\n",
    "dataset = stacked.set_index([\"t\", \"channel_hemi\", \"channel_type\"])[\"value\"].to_xarray().to_dataset(name=\"raw_value\")\n",
    "dataset"
   ]
  },
  {
   "cell_type": "code",
   "execution_count": null,
   "metadata": {},
   "outputs": [],
   "source": [
    "dataset[\"df/f\"] = (dataset[\"raw_value\"].sel(channel_type=\"dlight\") - dataset[\"raw_value\"].sel(channel_type=\"baseline\"))/dataset[\"raw_value\"].sel(channel_type=\"baseline\")\n",
    "dataset"
   ]
  },
  {
   "cell_type": "code",
   "execution_count": null,
   "metadata": {},
   "outputs": [],
   "source": [
    "dataset[\"t_trial\"] = xr.DataArray(np.arange(-3, 10, step=0.020), dims=\"t_trial\")\n",
    "dataset[\"aligned_df/f\"] = dataset[\"df/f\"].interp(t=events[\"event_t\"]+dataset[\"t_trial\"])\n",
    "dataset"
   ]
  },
  {
   "cell_type": "code",
   "execution_count": null,
   "metadata": {},
   "outputs": [],
   "source": [
    "zscore_window = dataset[\"aligned_df/f\"].sel(event_name=\"cue\", t_trial=slice(-1, 0))\n",
    "dataset[\"zscored\"] =(dataset[\"aligned_df/f\"] - zscore_window.mean(\"t_trial\"))/zscore_window.std(\"t_trial\")\n",
    "dataset\n"
   ]
  },
  {
   "cell_type": "code",
   "execution_count": null,
   "metadata": {},
   "outputs": [],
   "source": [
    "dataset = xr.merge([dataset, events])\n",
    "dataset"
   ]
  },
  {
   "cell_type": "code",
   "execution_count": null,
   "metadata": {},
   "outputs": [],
   "source": [
    "dataset[\"rt\"] = dataset[\"event_t\"].sel(event_name=\"mouvement_start\") - dataset[\"event_t\"].sel(event_name=\"cue\")\n",
    "dataset[\"mt\"] = dataset[\"event_t\"].sel(event_name=\"leverpress\") - dataset[\"event_t\"].sel(event_name=\"mouvement_start\")\n",
    "dataset[\"sucess\"] = dataset[\"event_t\"].sel(event_name = \"error\").isnull() & dataset[\"rt\"].notnull() & dataset[\"mt\"].notnull() & (dataset[\"rt\"] < 2) & (dataset[\"mt\"] < 2)"
   ]
  },
  {
   "cell_type": "code",
   "execution_count": null,
   "metadata": {},
   "outputs": [],
   "source": [
    "res = dataset.drop_dims(\"t\").drop_vars(\"aligned_df/f\")\n",
    "res.to_netcdf(result_path)\n",
    "xr.load_dataset(result_path)"
   ]
  },
  {
   "cell_type": "markdown",
   "metadata": {},
   "source": [
    "# Finishing"
   ]
  },
  {
   "cell_type": "code",
   "execution_count": null,
   "metadata": {},
   "outputs": [],
   "source": [
    "%%javascript\n",
    "IPython.notebook.save_notebook()"
   ]
  },
  {
   "cell_type": "code",
   "execution_count": null,
   "metadata": {},
   "outputs": [],
   "source": [
    "import os\n",
    "os.system(f'jupyter nbconvert --to html {notebook_name} --output {notebook_save_path} --no-prompt --Application.log_level=40')\n"
   ]
  },
  {
   "cell_type": "code",
   "execution_count": null,
   "metadata": {},
   "outputs": [],
   "source": [
    "del tables\n",
    "del dicts\n",
    "del figures\n",
    "del warn"
   ]
  }
 ],
 "metadata": {
  "kernelspec": {
   "display_name": "dev",
   "language": "python",
   "name": "python3"
  },
  "language_info": {
   "codemirror_mode": {
    "name": "ipython",
    "version": 3
   },
   "file_extension": ".py",
   "mimetype": "text/x-python",
   "name": "python",
   "nbconvert_exporter": "python",
   "pygments_lexer": "ipython3",
   "version": "3.11.8"
  }
 },
 "nbformat": 4,
 "nbformat_minor": 2
}
