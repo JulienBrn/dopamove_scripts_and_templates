{
 "cells": [
  {
   "cell_type": "code",
   "execution_count": null,
   "metadata": {},
   "outputs": [],
   "source": [
    "import numpy as np, pandas as pd, xarray as xr\n",
    "from pathlib import Path\n",
    "import datetime, networkx as nx, yaml, warnings, sys, logging\n",
    "from disjoint_set import DisjointSet\n",
    "from helper import singleglob, nxrender, Step, dict_merge, PdfWriter, DictWriter, TableWriter, TextWriter\n",
    "import matplotlib.pyplot as plt\n",
    "import matplotlib as mpl, seaborn as sns\n",
    "mpl.rcParams['figure.figsize'] = [15, 6]"
   ]
  },
  {
   "cell_type": "code",
   "execution_count": null,
   "metadata": {},
   "outputs": [],
   "source": [
    "notebook_name = Path(\"plot_heatmap.ipynb\")"
   ]
  },
  {
   "cell_type": "code",
   "execution_count": null,
   "metadata": {},
   "outputs": [],
   "source": [
    "base_folder = Path(\".\").resolve().parent\n",
    "result_folder = Path(\".\")/notebook_name.stem\n",
    "result_folder.mkdir(exist_ok=True, parents=True)\n"
   ]
  },
  {
   "cell_type": "code",
   "execution_count": null,
   "metadata": {},
   "outputs": [],
   "source": [
    "tables = TableWriter(result_folder/\"tables.xlsx\")\n",
    "figures = PdfWriter(result_folder/\"figures.pdf\")\n",
    "dicts = DictWriter(result_folder/\"dicts.yaml\")\n",
    "notebook_save_path = result_folder/\"notebook.html\"\n",
    "warn =  TextWriter(result_folder/\"warnings.txt\")"
   ]
  },
  {
   "cell_type": "code",
   "execution_count": null,
   "metadata": {},
   "outputs": [],
   "source": [
    "input_data = pd.DataFrame()\n",
    "input_data[\"sessions\"] = [base_folder] if base_folder.stem.startswith(\"Session--\") else [f for f in base_folder.glob(\"**/Session--*\")]\n",
    "input_data[\"metadata_file\"] = input_data[\"sessions\"].apply(lambda f: f/\"metadata.yaml\")\n",
    "input_data[\"trial_data_file\"] = input_data[\"sessions\"].apply(lambda f: f/\"analysis\"/\"trial_data\"/\"trial_data.nc\")\n",
    "input_data[\"run\"] = input_data.apply(lambda row: (row[\"metadata_file\"].exists() & row[\"trial_data_file\"].exists()), axis=1)\n",
    "tables.write(input_data=input_data)\n"
   ]
  },
  {
   "cell_type": "code",
   "execution_count": null,
   "metadata": {},
   "outputs": [],
   "source": [
    "run_data = input_data.loc[input_data[\"run\"]]\n",
    "run_data = pd.concat([run_data, run_data])\n",
    "datasets = []\n",
    "for _, row in run_data.iterrows():\n",
    "    data = xr.load_dataset(row[\"trial_data_file\"])\n",
    "    metadata = yaml.safe_load(row[\"metadata_file\"].open(\"r\"))\n",
    "    data = data.assign(session_date=metadata[\"date\"], subject=metadata[\"subject\"][\"name\"], handedness=metadata[\"subject\"][\"handedness\"], opsin=metadata[\"subject\"][\"opsin\"], task=metadata[\"task\"][\"name\"])\n",
    "    data[\"trial_num\"] = data[\"trial\"]\n",
    "    data = data.drop_vars(\"trial\")\n",
    "    datasets.append(data)\n",
    "all = xr.concat(datasets, dim=\"trial\")\n",
    "all"
   ]
  },
  {
   "cell_type": "code",
   "execution_count": null,
   "metadata": {},
   "outputs": [],
   "source": [
    "kept = all.where(all[\"sucess\"] & (all[\"go\"].fillna(0) > 0.5) & (all[\"cue_type\"]==\"LowPitch\"), drop=True)\n",
    "kept = kept.where(kept[\"event_name\"].isin([\"cue\", \"leverpress\", \"mouvement_start\"]))\n",
    "kept[\"protocol\"] = \"Protocol\"+ kept[\"task\"].str.extract('(_Cue-RT)', dim=None).fillna(\"_MT\")\n",
    "kept[\"trial_type\"] = kept[\"cue_type\"] + \", \" + kept[\"stimulation\"]\n",
    "kept[\"side\"] = xr.where(kept[\"channel_hemi\"].str.lower() == kept[\"handedness\"].str.lower(), \"ipsi\", \"contra\")"
   ]
  },
  {
   "cell_type": "code",
   "execution_count": null,
   "metadata": {},
   "outputs": [],
   "source": [
    "sides = kept[\"side\"].drop_duplicates(...).to_list()\n",
    "opsins = kept[\"opsin\"].drop_duplicates(...).to_list()\n",
    "trial_types = kept[\"trial_type\"].drop_duplicates(...).to_list()\n",
    "subjects=kept[\"subject\"].drop_duplicates(...).to_list()\n",
    "events = kept[\"event_name\"].drop_duplicates(...).to_list()\n",
    "protocols = kept[\"protocol\"].drop_duplicates(...).to_list()\n",
    "sides, opsins, trial_types, subjects, events, protocols"
   ]
  },
  {
   "cell_type": "code",
   "execution_count": null,
   "metadata": {},
   "outputs": [],
   "source": [
    "# print(tables.write(counts=final_df.groupby([\"opsin\",\"protocol\", \"trial_type\"]).size(name=\"count\").reset_index()).to_string())"
   ]
  },
  {
   "cell_type": "code",
   "execution_count": null,
   "metadata": {},
   "outputs": [],
   "source": [
    "\n",
    "# if  final_df[\"subject\"].nunique() > 1:\n",
    "#     points_col=\"session_date\"\n",
    "#     avg_col = \"subject\"\n",
    "# else:\n",
    "#     points_col = \"trial\"\n",
    "#     avg_col=\"session_date\"\n",
    "# avg_col_order =  sorted(final_df[avg_col].drop_duplicates().to_list())\n",
    "# display_lim = [-3, 5]\n",
    "from itertools import product\n",
    "for side, opsin, protocol in product(sides, opsins, protocols):\n",
    "    f, axs = plt.subplots(len(events), len(trial_types)+1, squeeze=False, figsize=(16, 5*len(events)))\n",
    "    for col, trial_type in enumerate(trial_types):\n",
    "        for row, event in enumerate(events):\n",
    "            arr = kept.where((kept[\"side\"] == side) & (kept[\"opsin\"] == opsin) & (kept[\"protocol\"] == protocol) & (kept[\"trial_type\"] == trial_type)).sel(event_name=event)\n",
    "            print(arr)\n",
    "            raise Exception(\"Stop\")\n",
    "# for task, plot_df in final_df.groupby(\"protocol\"):\n",
    "#     f, axs = plt.subplots(len(opsins), len(vars), squeeze=False, figsize=(16, 5*len(opsins)))\n",
    "#     for col, var in enumerate(vars):\n",
    "#         for row, opsin in enumerate(opsins):\n",
    "#             ax: plt.Axes=axs[row, col]\n",
    "#             grp = plot_df[(plot_df[\"var\"]==var) & (plot_df[\"opsin\"]==opsin)]\n",
    "#             sns.violinplot(data=grp,  y=\"value_zscored\", x=\"trial_type\", common_norm=False, order=trial_types, ax=ax, cut=0, color=\"wheat\", alpha=0.5, zorder=5, inner=None)\n",
    "#             points = grp.groupby([\"trial_type\", points_col, avg_col])[\"value_zscored\"].mean().reset_index()\n",
    "#             sns.swarmplot(data=points,  y=\"value_zscored\", x=\"trial_type\", hue=avg_col, hue_order=avg_col_order, order=trial_types, ax=ax, size=1.5, dodge=True, legend=False, zorder=1)\n",
    "#             avgs = grp.groupby([\"trial_type\", avg_col])[\"value_zscored\"].mean().reset_index()\n",
    "#             sns.swarmplot(data=avgs,  y=\"value_zscored\", x=\"trial_type\", \n",
    "#                         hue=avg_col, hue_order=avg_col_order, order=trial_types, linewidth=10, size=1, ax=ax, dodge=True, legend=False if col!=0 or row!=0 else \"auto\"\n",
    "#                         , zorder=0, marker=\"|\")\n",
    "#             total = grp.groupby([\"trial_type\"])[\"value_zscored\"].agg([\"mean\", \"median\"]).reset_index()\n",
    "#             sns.scatterplot(data=total, x=\"trial_type\", y=\"mean\", color=\"black\",  linewidth=10, size=1.2, zorder=6, marker=\"|\", ax=ax, legend=False)\n",
    "#             counts = grp.groupby(\"trial_type\")[\"value_zscored\"].count().reset_index()\n",
    "#             for _, r in counts.iterrows():\n",
    "#                 ax.text(x=trial_types.index(r[\"trial_type\"]), y=display_lim[0]*0.9, s= f'n_trials={r[\"value_zscored\"]}', horizontalalignment=\"center\")\n",
    "#             ax.axhline(y=0, color=\"gray\", alpha=0.5, linewidth=0.7) #linestyle=(0, (1,3))\n",
    "#             ax.set_title(f\"{var}, {opsin}\")\n",
    "#             ax.set_ylim(display_lim)\n",
    "#             if col==0 and row==0:\n",
    "#                 lgd = f.legend(handles=ax.legend().legend_handles, ncols=5, loc='lower center', bbox_to_anchor=(0.5, -0.04*3/(len(opsins))))\n",
    "#                 ax.legend().remove()\n",
    "#     suptitle = plt.suptitle(task)\n",
    "#     figures.write(bbox_extra_artists=(lgd,suptitle), bbox_inches='tight')\n",
    "#     plt.tight_layout()\n",
    "#     plt.show()\n",
    "    \n"
   ]
  },
  {
   "cell_type": "code",
   "execution_count": null,
   "metadata": {},
   "outputs": [],
   "source": [
    "# for task, plot_df in final_df.groupby(\"protocol\"):\n",
    "#     f, axs = plt.subplots(len(opsins), 1, squeeze=False, figsize=(16, 5*len(opsins)))\n",
    "#     for row, opsin in enumerate(opsins):\n",
    "#         ax: plt.Axes=axs[row, 0]\n",
    "#         grp = plot_df[(plot_df[\"opsin\"]==opsin)][[\"trial\", \"var\", \"value_zscored\", \"trial_type\"]].set_index([\"trial\", \"var\", \"trial_type\"])[\"value_zscored\"].unstack(\"var\").reset_index()\n",
    "#         grp=grp.rename(columns=dict(rt=\"rt_zscored\", mt=\"mt_zscored\"))\n",
    "#         def get_regression_lines(d):\n",
    "#             a, b = np.polyfit(d[\"rt_zscored\"], d[\"mt_zscored\"], 1)\n",
    "#             return pd.DataFrame([dict(rt_zscored=x, mt_zscored=a*x +b) for x in [d[\"rt_zscored\"].min(), d[\"rt_zscored\"].max()]])\n",
    "#         regressions = grp.groupby(\"trial_type\").apply(get_regression_lines, include_groups=False).reset_index()\n",
    "#         # print(regressions)\n",
    "#         sns.scatterplot(data=grp, x=\"rt_zscored\", y=\"mt_zscored\", hue=\"trial_type\", hue_order=trial_types, legend=\"auto\" if row==0 else False, ax=ax)\n",
    "#         sns.lineplot(data=regressions, x=\"rt_zscored\", y=\"mt_zscored\", hue=\"trial_type\", hue_order=trial_types, legend=False, ax=ax)\n",
    "#         if row==0:\n",
    "#             lgd = f.legend(handles=ax.legend().legend_handles, ncols=5, loc='lower center', bbox_to_anchor=(0.5, -0.04*3/(len(opsins))))\n",
    "#             ax.legend().remove()\n",
    "#         ax.set_title(f\"{opsin}\")\n",
    "#         ax.set_xlim(display_lim)\n",
    "#         ax.set_ylim(display_lim)\n",
    "#     suptitle = plt.suptitle(f\"{task}\")\n",
    "#     figures.write(bbox_extra_artists=(lgd,suptitle), bbox_inches='tight')\n",
    "#     plt.tight_layout()\n",
    "#     plt.show()"
   ]
  },
  {
   "cell_type": "code",
   "execution_count": null,
   "metadata": {},
   "outputs": [],
   "source": [
    "del tables\n",
    "del dicts\n",
    "del figures"
   ]
  }
 ],
 "metadata": {
  "kernelspec": {
   "display_name": "dev",
   "language": "python",
   "name": "python3"
  },
  "language_info": {
   "codemirror_mode": {
    "name": "ipython",
    "version": 3
   },
   "file_extension": ".py",
   "mimetype": "text/x-python",
   "name": "python",
   "nbconvert_exporter": "python",
   "pygments_lexer": "ipython3",
   "version": "3.11.8"
  }
 },
 "nbformat": 4,
 "nbformat_minor": 2
}
