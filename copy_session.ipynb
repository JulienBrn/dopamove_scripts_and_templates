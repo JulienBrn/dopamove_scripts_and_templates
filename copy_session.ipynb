{
 "cells": [
  {
   "cell_type": "code",
   "execution_count": 1,
   "metadata": {},
   "outputs": [],
   "source": [
    "import numpy as np, pandas as pd, xarray as xr\n",
    "from pathlib import Path\n",
    "import datetime, networkx as nx, yaml, warnings, sys, logging, shutil\n",
    "from disjoint_set import DisjointSet\n",
    "from helper import singleglob, nxrender, Step, dict_merge, PdfWriter, DictWriter, TableWriter, TextWriter\n",
    "import matplotlib.pyplot as plt\n",
    "import matplotlib as mpl, seaborn as sns"
   ]
  },
  {
   "cell_type": "code",
   "execution_count": null,
   "metadata": {
    "tags": [
     "parameters"
    ]
   },
   "outputs": [],
   "source": [
    "\n",
    "session_folder = _ #\"/media/filer2/T4/Clara/Data/Luisa/Rat101/opto_MT/Rat101_20240801/\"\n",
    "dest_folder = _ #\"/home/julienb/Documents/Data/Luisa/\""
   ]
  },
  {
   "cell_type": "code",
   "execution_count": 2,
   "metadata": {},
   "outputs": [
    {
     "data": {
      "text/plain": [
       "(PosixPath('/media/filer2/T4/Clara/Data/Luisa/Rat101/opto_MT/Rat101_20240801'),\n",
       " PosixPath('/home/julienb/Documents/Data/Luisa/Rat101/opto_MT/Rat101_20240801'),\n",
       " PosixPath('/home/julienb/Documents/Luisa/scripts_and_templates'))"
      ]
     },
     "execution_count": 2,
     "metadata": {},
     "output_type": "execute_result"
    }
   ],
   "source": [
    "session_folder = Path(session_folder)\n",
    "dest_folder =  Path(dest_folder) \n",
    "templates_folder = Path(\".\").resolve()\n",
    "session_folder, dest_folder, templates_folder"
   ]
  },
  {
   "cell_type": "code",
   "execution_count": 3,
   "metadata": {},
   "outputs": [],
   "source": [
    "poly_folder = dest_folder / \"poly\"\n",
    "fiber_folder = dest_folder / \"fiber\"\n",
    "spike2_folder = dest_folder / \"spike2\"\n",
    "video_folder = dest_folder / \"video\"\n",
    "poly_folder.mkdir(exist_ok=True, parents=True)\n",
    "fiber_folder.mkdir(exist_ok=True, parents=True)\n",
    "spike2_folder.mkdir(exist_ok=True, parents=True)\n",
    "video_folder.mkdir(exist_ok=True, parents=True)\n"
   ]
  },
  {
   "cell_type": "code",
   "execution_count": 4,
   "metadata": {},
   "outputs": [
    {
     "data": {
      "text/plain": [
       "{'experimenter': {'name': 'Luisa Abels'},\n",
       " 'date': '2024/08/01',\n",
       " 'project_name': 'Dopa-Move',\n",
       " 'subject': {'name': 'Rat101',\n",
       "  'cre-line': 'TH-Cre',\n",
       "  'sex': 'F',\n",
       "  'handedness': 'Left',\n",
       "  'opsin': 'Control',\n",
       "  'opsin_injection_date': '2024/06/20',\n",
       "  'opsin_location': 'SNc'},\n",
       " 'recordings': {'fiber': {'channels': {'CH-1': {'brain_location': 'Left-DLS'},\n",
       "    'CH-2': {'brain_location': 'Right-DLS'}},\n",
       "   'tool': None},\n",
       "  'electrophy': None,\n",
       "  'behavior': 'Poly'},\n",
       " 'task': {'name': 'HF_55_RandomTrial_NoGoGo_left_both_sound_nico_LaserJAWS_S1_MT1_1sec_NoPadCheck_3000',\n",
       "  'position': 'head-fixed',\n",
       "  'behavior': {'category': 'lever-press',\n",
       "   'cases': {'go': ['go', 'nogo'],\n",
       "    'mouvement': ['straight'],\n",
       "    'stimulation': [True]}},\n",
       "  'opto': {'name': None,\n",
       "   'laser_protocol': {'type': 'continuous',\n",
       "    'pulse_info': {'n_pulse': 4, 'frequency_Hz': 15}},\n",
       "   'laser_intensity_mW': 15,\n",
       "   'timing': {'event': 'pad_lift',\n",
       "    'start_rel_event_ms': 0,\n",
       "    'duration_ms': 1000,\n",
       "    'end_event': 'leverpress'}}},\n",
       " 'data_files': {'poly_dat_file': None,\n",
       "  'spike2_file': None,\n",
       "  'poly_task_file': None,\n",
       "  'fiber_event_file': None,\n",
       "  'fiber_recording_file': None,\n",
       "  'video_file': None}}"
      ]
     },
     "execution_count": 4,
     "metadata": {},
     "output_type": "execute_result"
    }
   ],
   "source": [
    "metadata_path = session_folder/\"metadata.yaml\"\n",
    "metadata = yaml.safe_load(metadata_path.open(\"r\"))\n",
    "metadata"
   ]
  },
  {
   "cell_type": "code",
   "execution_count": 5,
   "metadata": {},
   "outputs": [
    {
     "data": {
      "text/plain": [
       "{'experimenter': {'name': 'Luisa Abels'},\n",
       " 'date': '2024/08/01',\n",
       " 'project_name': 'Dopa-Move',\n",
       " 'subject': {'name': 'Rat101',\n",
       "  'cre-line': 'TH-Cre',\n",
       "  'sex': 'F',\n",
       "  'handedness': 'Left',\n",
       "  'opsin': 'Control',\n",
       "  'opsin_injection_date': '2024/06/20',\n",
       "  'opsin_location': 'SNc'},\n",
       " 'recordings': {'fiber': {'channels': {'CH-1': {'brain_location': 'Left-DLS'},\n",
       "    'CH-2': {'brain_location': 'Right-DLS'}}},\n",
       "  'electrophy': None,\n",
       "  'poly': {'valid_recording_intervals': [{'start': None, 'end': None}]}},\n",
       " 'task': {'name': 'HF_55_RandomTrial_NoGoGo_left_both_sound_nico_LaserJAWS_S1_MT1_1sec_NoPadCheck_3000',\n",
       "  'position': 'head-fixed',\n",
       "  'opto': {'name': None,\n",
       "   'laser_protocol': {'type': 'continuous',\n",
       "    'pulse_info': {'n_pulse': 4, 'frequency_Hz': 15}},\n",
       "   'laser_intensity_mW': 15,\n",
       "   'timing': {'event': 'pad_lift',\n",
       "    'start_rel_event_ms': 0,\n",
       "    'duration_ms': 1000,\n",
       "    'end_event': 'leverpress'}},\n",
       "  'cue_location': {'LowPitch': 'Left', 'HighPitch': 'Left'}}}"
      ]
     },
     "execution_count": 5,
     "metadata": {},
     "output_type": "execute_result"
    }
   ],
   "source": [
    "del metadata[\"data_files\"]\n",
    "del metadata[\"task\"][\"behavior\"]\n",
    "del metadata[\"recordings\"][\"behavior\"]\n",
    "metadata[\"recordings\"][\"poly\"]={}\n",
    "del metadata[\"recordings\"][\"fiber\"][\"tool\"]\n",
    "metadata[\"recordings\"][\"poly\"][\"valid_recording_intervals\"] = [dict(start=None, end=None)]\n",
    "metadata[\"task\"][\"cue_location\"]=dict(LowPitch= \"Left\", HighPitch=\"Left\")\n",
    "metadata\n"
   ]
  },
  {
   "cell_type": "code",
   "execution_count": 6,
   "metadata": {},
   "outputs": [
    {
     "data": {
      "text/plain": [
       "{'task': {'name': 'HF_55_RandomTrial_NoGoGo_left_both_sound_nico_LaserJAWS_S1_MT1_1sec_NoPadCheck_3000',\n",
       "  'subject_position': 'head-fixed',\n",
       "  'cue_location': {'LowPitch': 'Left', 'HighPitch': 'Left'},\n",
       "  'events': {'poly': [{'detection': {'poly_line_num': 33},\n",
       "     'description': {'event': 'cue',\n",
       "      'trial_type': {'stimulation': 'None',\n",
       "       'go': False,\n",
       "       'cue': 'WhiteNoise'}}},\n",
       "    {'detection': {'poly_line_num': 41},\n",
       "     'description': {'event': 'cue',\n",
       "      'trial_type': {'stimulation': '1000ms', 'go': True, 'cue': 'LowPitch'}}},\n",
       "    {'detection': {'poly_line_num': 7},\n",
       "     'description': {'event': 'cue',\n",
       "      'trial_type': {'stimulation': 'None', 'go': True, 'cue': 'LowPitch'}}},\n",
       "    {'detection': {'poly_line_num': 12},\n",
       "     'description': {'event': 'cue',\n",
       "      'trial_type': {'stimulation': 'None', 'go': True, 'cue': 'HighPitch'}}},\n",
       "    {'detection': {'poly_name': 'MT'},\n",
       "     'description': {'event': 'mouvement_start'}},\n",
       "    {'detection': {'poly_line_num': [45, 11, 16, 34]},\n",
       "     'description': {'event': 'reward'}},\n",
       "    {'detection': {'poly_line_num': 3},\n",
       "     'description': {'event': 'trial_start'}},\n",
       "    {'detection': {'poly_name': 'MT\\\\d+', 'poly_ignore_name': 'erreur'},\n",
       "     'description': {'event': 'leverpress'}},\n",
       "    {'detection': {'poly_name': 'erreur'},\n",
       "     'description': {'event': 'error'}}]}}}"
      ]
     },
     "execution_count": 6,
     "metadata": {},
     "output_type": "execute_result"
    }
   ],
   "source": [
    "task  = metadata[\"task\"][\"name\"]\n",
    "task_path = singleglob(session_folder, f\"*{task}*.xls\")\n",
    "task_poly_template = singleglob(templates_folder / \"PolyEventTemplates\",f\"*{task}*.yaml\")\n",
    "poly_template = yaml.safe_load(task_poly_template.open(\"r\"))\n",
    "poly_template\n"
   ]
  },
  {
   "cell_type": "code",
   "execution_count": 7,
   "metadata": {},
   "outputs": [
    {
     "data": {
      "text/plain": [
       "{'fiber': [{'detection': {'name': 'Input1',\n",
       "    'duration_min': 0.13,\n",
       "    'duration_max': 0.17},\n",
       "   'description': {'event': 'cue',\n",
       "    'trial_type': {'stimulation': 'None',\n",
       "     'go': False,\n",
       "     'cue_type': 'WhiteNoise'}}},\n",
       "  {'detection': {'name': 'Input1', 'duration_min': 0.18, 'duration_max': 0.22},\n",
       "   'description': {'event': 'cue',\n",
       "    'trial_type': {'stimulation': 'bilateral',\n",
       "     'go': True,\n",
       "     'cue_type': 'LowPitch'}}},\n",
       "  {'detection': {'name': 'Input1', 'duration_min': 0.02, 'duration_max': 0.06},\n",
       "   'description': {'event': 'cue',\n",
       "    'trial_type': {'stimulation': 'None',\n",
       "     'go': True,\n",
       "     'cue_type': 'LowPitch'}}},\n",
       "  {'detection': {'name': 'Input1', 'duration_min': 0.08, 'duration_max': 0.12},\n",
       "   'description': {'event': 'cue',\n",
       "    'trial_type': {'stimulation': 'None',\n",
       "     'go': True,\n",
       "     'cue_type': 'HighPitch'}}},\n",
       "  {'detection': {'name': 'Input2'},\n",
       "   'description': {'event': 'mouvement_start'}},\n",
       "  {'detection': {'name': 'Input3', 'duration_min': 0.13, 'duration_max': 0.17},\n",
       "   'description': {'event': 'reward', 'trial_type': {'go': False}}},\n",
       "  {'detection': {'name': 'Input3', 'duration_min': 0.17},\n",
       "   'description': {'event': 'leverpress'}},\n",
       "  {'detection': {'name': 'Input3', 'duration_max': 0.13},\n",
       "   'description': {'event': 'leverpress'}},\n",
       "  {'detection': {'name': 'Input4'}, 'description': {'event': 'error'}}]}"
      ]
     },
     "execution_count": 7,
     "metadata": {},
     "output_type": "execute_result"
    }
   ],
   "source": [
    "fiber_template = yaml.safe_load((templates_folder/\"fiber_event_template.yaml\").open(\"r\"))\n",
    "fiber_template"
   ]
  },
  {
   "cell_type": "code",
   "execution_count": 8,
   "metadata": {},
   "outputs": [
    {
     "data": {
      "text/plain": [
       "{'experimenter': {'name': 'Luisa Abels'},\n",
       " 'date': '2024/08/01',\n",
       " 'project_name': 'Dopa-Move',\n",
       " 'subject': {'name': 'Rat101',\n",
       "  'cre-line': 'TH-Cre',\n",
       "  'sex': 'F',\n",
       "  'handedness': 'Left',\n",
       "  'opsin': 'Control',\n",
       "  'opsin_injection_date': '2024/06/20',\n",
       "  'opsin_location': 'SNc'},\n",
       " 'recordings': {'fiber': {'channels': {'CH-1': {'brain_location': 'Left-DLS'},\n",
       "    'CH-2': {'brain_location': 'Right-DLS'}}},\n",
       "  'electrophy': None,\n",
       "  'poly': {'valid_recording_intervals': [{'start': None, 'end': None}]}},\n",
       " 'task': {'name': 'HF_55_RandomTrial_NoGoGo_left_both_sound_nico_LaserJAWS_S1_MT1_1sec_NoPadCheck_3000',\n",
       "  'position': 'head-fixed',\n",
       "  'opto': {'name': None,\n",
       "   'laser_protocol': {'type': 'continuous',\n",
       "    'pulse_info': {'n_pulse': 4, 'frequency_Hz': 15}},\n",
       "   'laser_intensity_mW': 15,\n",
       "   'timing': {'event': 'pad_lift',\n",
       "    'start_rel_event_ms': 0,\n",
       "    'duration_ms': 1000,\n",
       "    'end_event': 'leverpress'}},\n",
       "  'cue_location': {'LowPitch': 'Left', 'HighPitch': 'Left'},\n",
       "  'events': {'poly': [{'detection': {'poly_line_num': 33},\n",
       "     'description': {'event': 'cue',\n",
       "      'trial_type': {'stimulation': 'None',\n",
       "       'go': False,\n",
       "       'cue': 'WhiteNoise'}}},\n",
       "    {'detection': {'poly_line_num': 41},\n",
       "     'description': {'event': 'cue',\n",
       "      'trial_type': {'stimulation': '1000ms', 'go': True, 'cue': 'LowPitch'}}},\n",
       "    {'detection': {'poly_line_num': 7},\n",
       "     'description': {'event': 'cue',\n",
       "      'trial_type': {'stimulation': 'None', 'go': True, 'cue': 'LowPitch'}}},\n",
       "    {'detection': {'poly_line_num': 12},\n",
       "     'description': {'event': 'cue',\n",
       "      'trial_type': {'stimulation': 'None', 'go': True, 'cue': 'HighPitch'}}},\n",
       "    {'detection': {'poly_name': 'MT'},\n",
       "     'description': {'event': 'mouvement_start'}},\n",
       "    {'detection': {'poly_line_num': [45, 11, 16, 34]},\n",
       "     'description': {'event': 'reward'}},\n",
       "    {'detection': {'poly_line_num': 3},\n",
       "     'description': {'event': 'trial_start'}},\n",
       "    {'detection': {'poly_name': 'MT\\\\d+', 'poly_ignore_name': 'erreur'},\n",
       "     'description': {'event': 'leverpress'}},\n",
       "    {'detection': {'poly_name': 'erreur'}, 'description': {'event': 'error'}}],\n",
       "   'fiber': {'fiber': [{'detection': {'name': 'Input1',\n",
       "       'duration_min': 0.13,\n",
       "       'duration_max': 0.17},\n",
       "      'description': {'event': 'cue',\n",
       "       'trial_type': {'stimulation': 'None',\n",
       "        'go': False,\n",
       "        'cue_type': 'WhiteNoise'}}},\n",
       "     {'detection': {'name': 'Input1',\n",
       "       'duration_min': 0.18,\n",
       "       'duration_max': 0.22},\n",
       "      'description': {'event': 'cue',\n",
       "       'trial_type': {'stimulation': 'bilateral',\n",
       "        'go': True,\n",
       "        'cue_type': 'LowPitch'}}},\n",
       "     {'detection': {'name': 'Input1',\n",
       "       'duration_min': 0.02,\n",
       "       'duration_max': 0.06},\n",
       "      'description': {'event': 'cue',\n",
       "       'trial_type': {'stimulation': 'None',\n",
       "        'go': True,\n",
       "        'cue_type': 'LowPitch'}}},\n",
       "     {'detection': {'name': 'Input1',\n",
       "       'duration_min': 0.08,\n",
       "       'duration_max': 0.12},\n",
       "      'description': {'event': 'cue',\n",
       "       'trial_type': {'stimulation': 'None',\n",
       "        'go': True,\n",
       "        'cue_type': 'HighPitch'}}},\n",
       "     {'detection': {'name': 'Input2'},\n",
       "      'description': {'event': 'mouvement_start'}},\n",
       "     {'detection': {'name': 'Input3',\n",
       "       'duration_min': 0.13,\n",
       "       'duration_max': 0.17},\n",
       "      'description': {'event': 'reward', 'trial_type': {'go': False}}},\n",
       "     {'detection': {'name': 'Input3', 'duration_min': 0.17},\n",
       "      'description': {'event': 'leverpress'}},\n",
       "     {'detection': {'name': 'Input3', 'duration_max': 0.13},\n",
       "      'description': {'event': 'leverpress'}},\n",
       "     {'detection': {'name': 'Input4'}, 'description': {'event': 'error'}}]}}}}"
      ]
     },
     "execution_count": 8,
     "metadata": {},
     "output_type": "execute_result"
    }
   ],
   "source": [
    "metadata[\"task\"][\"events\"] = dict(poly=poly_template[\"task\"][\"events\"][\"poly\"], fiber=fiber_template)\n",
    "metadata"
   ]
  },
  {
   "cell_type": "code",
   "execution_count": 9,
   "metadata": {},
   "outputs": [],
   "source": [
    "yaml.safe_dump(metadata, (dest_folder / \"metadata.yaml\").open(\"w\"), sort_keys=False)"
   ]
  },
  {
   "cell_type": "code",
   "execution_count": 10,
   "metadata": {},
   "outputs": [
    {
     "data": {
      "text/plain": [
       "PosixPath('/home/julienb/Documents/Data/Luisa/Rat101/opto_MT/Rat101_20240801/poly/task -- HF_55_RandomTrial_NoGoGo_left_both_sound_nico_LaserJAWS_S1_MT1_1sec_NoPadCheck_3000.xls')"
      ]
     },
     "execution_count": 10,
     "metadata": {},
     "output_type": "execute_result"
    }
   ],
   "source": [
    "shutil.copy(task_path, poly_folder/f\"task -- {task_path.name}\")\n"
   ]
  },
  {
   "cell_type": "code",
   "execution_count": 11,
   "metadata": {},
   "outputs": [
    {
     "ename": "PermissionError",
     "evalue": "[Errno 13] Permission denied: '/home/julienb/Documents/Data/Luisa/Rat101/opto_MT/Rat101_20240801/poly/events -- Rat101_0801_opto_01.dat'",
     "output_type": "error",
     "traceback": [
      "\u001b[0;31m---------------------------------------------------------------------------\u001b[0m",
      "\u001b[0;31mPermissionError\u001b[0m                           Traceback (most recent call last)",
      "Cell \u001b[0;32mIn[11], line 2\u001b[0m\n\u001b[1;32m      1\u001b[0m dat_file \u001b[38;5;241m=\u001b[39m singleglob(session_folder, \u001b[38;5;124m\"\u001b[39m\u001b[38;5;124m**/*.dat\u001b[39m\u001b[38;5;124m\"\u001b[39m)\n\u001b[0;32m----> 2\u001b[0m \u001b[43mshutil\u001b[49m\u001b[38;5;241;43m.\u001b[39;49m\u001b[43mcopy\u001b[49m\u001b[43m(\u001b[49m\u001b[43mdat_file\u001b[49m\u001b[43m,\u001b[49m\u001b[43m \u001b[49m\u001b[43mpoly_folder\u001b[49m\u001b[38;5;241;43m/\u001b[39;49m\u001b[38;5;124;43mf\u001b[39;49m\u001b[38;5;124;43m\"\u001b[39;49m\u001b[38;5;124;43mevents -- \u001b[39;49m\u001b[38;5;132;43;01m{\u001b[39;49;00m\u001b[43mdat_file\u001b[49m\u001b[38;5;241;43m.\u001b[39;49m\u001b[43mname\u001b[49m\u001b[38;5;132;43;01m}\u001b[39;49;00m\u001b[38;5;124;43m\"\u001b[39;49m\u001b[43m)\u001b[49m\n",
      "File \u001b[0;32m~/miniconda3/envs/dev/lib/python3.11/shutil.py:431\u001b[0m, in \u001b[0;36mcopy\u001b[0;34m(src, dst, follow_symlinks)\u001b[0m\n\u001b[1;32m    429\u001b[0m \u001b[38;5;28;01mif\u001b[39;00m os\u001b[38;5;241m.\u001b[39mpath\u001b[38;5;241m.\u001b[39misdir(dst):\n\u001b[1;32m    430\u001b[0m     dst \u001b[38;5;241m=\u001b[39m os\u001b[38;5;241m.\u001b[39mpath\u001b[38;5;241m.\u001b[39mjoin(dst, os\u001b[38;5;241m.\u001b[39mpath\u001b[38;5;241m.\u001b[39mbasename(src))\n\u001b[0;32m--> 431\u001b[0m \u001b[43mcopyfile\u001b[49m\u001b[43m(\u001b[49m\u001b[43msrc\u001b[49m\u001b[43m,\u001b[49m\u001b[43m \u001b[49m\u001b[43mdst\u001b[49m\u001b[43m,\u001b[49m\u001b[43m \u001b[49m\u001b[43mfollow_symlinks\u001b[49m\u001b[38;5;241;43m=\u001b[39;49m\u001b[43mfollow_symlinks\u001b[49m\u001b[43m)\u001b[49m\n\u001b[1;32m    432\u001b[0m copymode(src, dst, follow_symlinks\u001b[38;5;241m=\u001b[39mfollow_symlinks)\n\u001b[1;32m    433\u001b[0m \u001b[38;5;28;01mreturn\u001b[39;00m dst\n",
      "File \u001b[0;32m~/miniconda3/envs/dev/lib/python3.11/shutil.py:258\u001b[0m, in \u001b[0;36mcopyfile\u001b[0;34m(src, dst, follow_symlinks)\u001b[0m\n\u001b[1;32m    256\u001b[0m \u001b[38;5;28;01mwith\u001b[39;00m \u001b[38;5;28mopen\u001b[39m(src, \u001b[38;5;124m'\u001b[39m\u001b[38;5;124mrb\u001b[39m\u001b[38;5;124m'\u001b[39m) \u001b[38;5;28;01mas\u001b[39;00m fsrc:\n\u001b[1;32m    257\u001b[0m     \u001b[38;5;28;01mtry\u001b[39;00m:\n\u001b[0;32m--> 258\u001b[0m         \u001b[38;5;28;01mwith\u001b[39;00m \u001b[38;5;28;43mopen\u001b[39;49m\u001b[43m(\u001b[49m\u001b[43mdst\u001b[49m\u001b[43m,\u001b[49m\u001b[43m \u001b[49m\u001b[38;5;124;43m'\u001b[39;49m\u001b[38;5;124;43mwb\u001b[39;49m\u001b[38;5;124;43m'\u001b[39;49m\u001b[43m)\u001b[49m \u001b[38;5;28;01mas\u001b[39;00m fdst:\n\u001b[1;32m    259\u001b[0m             \u001b[38;5;66;03m# macOS\u001b[39;00m\n\u001b[1;32m    260\u001b[0m             \u001b[38;5;28;01mif\u001b[39;00m _HAS_FCOPYFILE:\n\u001b[1;32m    261\u001b[0m                 \u001b[38;5;28;01mtry\u001b[39;00m:\n",
      "\u001b[0;31mPermissionError\u001b[0m: [Errno 13] Permission denied: '/home/julienb/Documents/Data/Luisa/Rat101/opto_MT/Rat101_20240801/poly/events -- Rat101_0801_opto_01.dat'"
     ]
    }
   ],
   "source": [
    "dat_file = singleglob(session_folder, \"**/*.dat\")\n",
    "shutil.copy(dat_file, poly_folder/f\"events -- {dat_file.name}\")"
   ]
  },
  {
   "cell_type": "code",
   "execution_count": null,
   "metadata": {},
   "outputs": [],
   "source": [
    "for s in [\"Events.csv\", \"Fluorescence.csv\", \"Fluorescence-unaligned.csv\"]:\n",
    "    shutil.copy(singleglob(session_folder, f\"**/{s}\"), fiber_folder/s)"
   ]
  },
  {
   "cell_type": "code",
   "execution_count": 12,
   "metadata": {},
   "outputs": [],
   "source": [
    "for f in session_folder.glob(\"**/*.sea\"):\n",
    "    shutil.copy(f, poly_folder / f.name)\n",
    "for f in session_folder.glob(\"**/*.cpt\"):\n",
    "    shutil.copy(f, poly_folder / f.name)"
   ]
  },
  {
   "cell_type": "code",
   "execution_count": 13,
   "metadata": {},
   "outputs": [
    {
     "data": {
      "text/plain": [
       "PosixPath('/home/julienb/Documents/Data/Luisa/Rat101/opto_MT/Rat101_20240801/spike2/channel_data -- rat101_20240801_opto.s2rx')"
      ]
     },
     "execution_count": 13,
     "metadata": {},
     "output_type": "execute_result"
    }
   ],
   "source": [
    "sr2x = singleglob(session_folder, \"**/*.s2rx\")\n",
    "shutil.copy(sr2x, spike2_folder/f\"channel_metadata -- {sr2x.name}\")\n",
    "smrx = singleglob(session_folder, \"**/*.smrx\")\n",
    "shutil.copy(smrx, spike2_folder/f\"channel_data -- {sr2x.name}\")"
   ]
  },
  {
   "cell_type": "code",
   "execution_count": 14,
   "metadata": {},
   "outputs": [],
   "source": [
    "analysis_folder = dest_folder / \"analysis\"\n",
    "analysis_folder.mkdir(exist_ok=True, parents=True)\n"
   ]
  }
 ],
 "metadata": {
  "kernelspec": {
   "display_name": "dev",
   "language": "python",
   "name": "python3"
  },
  "language_info": {
   "codemirror_mode": {
    "name": "ipython",
    "version": 3
   },
   "file_extension": ".py",
   "mimetype": "text/x-python",
   "name": "python",
   "nbconvert_exporter": "python",
   "pygments_lexer": "ipython3",
   "version": "3.11.8"
  }
 },
 "nbformat": 4,
 "nbformat_minor": 2
}
