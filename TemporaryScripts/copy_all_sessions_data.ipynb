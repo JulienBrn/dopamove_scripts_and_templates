{
 "cells": [
  {
   "cell_type": "code",
   "execution_count": 1,
   "metadata": {},
   "outputs": [],
   "source": [
    "import numpy as np, pandas as pd, xarray as xr\n",
    "from pathlib import Path\n",
    "import datetime, networkx as nx, yaml, warnings, sys, logging, shutil, papermill\n",
    "from disjoint_set import DisjointSet\n",
    "from helper import singleglob, nxrender, Step, dict_merge, PdfWriter, DictWriter, TableWriter, TextWriter\n",
    "import matplotlib.pyplot as plt\n",
    "import matplotlib as mpl, seaborn as sns\n",
    "from tqdm.notebook import tqdm"
   ]
  },
  {
   "cell_type": "code",
   "execution_count": 2,
   "metadata": {},
   "outputs": [],
   "source": [
    "base_folder =  Path(\"/media/filer2/T4/Clara/Data/Luisa/\")\n",
    "dest_base_folder = Path(\"/home/julienb/Documents/Data/Luisa/\")\n",
    "force=True"
   ]
  },
  {
   "cell_type": "code",
   "execution_count": 3,
   "metadata": {},
   "outputs": [
    {
     "data": {
      "text/html": [
       "<div>\n",
       "<style scoped>\n",
       "    .dataframe tbody tr th:only-of-type {\n",
       "        vertical-align: middle;\n",
       "    }\n",
       "\n",
       "    .dataframe tbody tr th {\n",
       "        vertical-align: top;\n",
       "    }\n",
       "\n",
       "    .dataframe thead th {\n",
       "        text-align: right;\n",
       "    }\n",
       "</style>\n",
       "<table border=\"1\" class=\"dataframe\">\n",
       "  <thead>\n",
       "    <tr style=\"text-align: right;\">\n",
       "      <th></th>\n",
       "      <th>in_session</th>\n",
       "      <th>dest_folder</th>\n",
       "      <th>already_done</th>\n",
       "    </tr>\n",
       "  </thead>\n",
       "  <tbody>\n",
       "    <tr>\n",
       "      <th>0</th>\n",
       "      <td>/media/filer2/T4/Clara/Data/Luisa/Rat101/opto_...</td>\n",
       "      <td>/home/julienb/Documents/Data/Luisa/Rat101/opto...</td>\n",
       "      <td>True</td>\n",
       "    </tr>\n",
       "    <tr>\n",
       "      <th>1</th>\n",
       "      <td>/media/filer2/T4/Clara/Data/Luisa/Rat101/opto_...</td>\n",
       "      <td>/home/julienb/Documents/Data/Luisa/Rat101/opto...</td>\n",
       "      <td>True</td>\n",
       "    </tr>\n",
       "    <tr>\n",
       "      <th>2</th>\n",
       "      <td>/media/filer2/T4/Clara/Data/Luisa/Rat101/opto_...</td>\n",
       "      <td>/home/julienb/Documents/Data/Luisa/Rat101/opto...</td>\n",
       "      <td>True</td>\n",
       "    </tr>\n",
       "    <tr>\n",
       "      <th>3</th>\n",
       "      <td>/media/filer2/T4/Clara/Data/Luisa/Rat101/opto_...</td>\n",
       "      <td>/home/julienb/Documents/Data/Luisa/Rat101/opto...</td>\n",
       "      <td>True</td>\n",
       "    </tr>\n",
       "    <tr>\n",
       "      <th>4</th>\n",
       "      <td>/media/filer2/T4/Clara/Data/Luisa/Rat101/opto_...</td>\n",
       "      <td>/home/julienb/Documents/Data/Luisa/Rat101/opto...</td>\n",
       "      <td>True</td>\n",
       "    </tr>\n",
       "    <tr>\n",
       "      <th>...</th>\n",
       "      <td>...</td>\n",
       "      <td>...</td>\n",
       "      <td>...</td>\n",
       "    </tr>\n",
       "    <tr>\n",
       "      <th>192</th>\n",
       "      <td>/media/filer2/T4/Clara/Data/Luisa/Rat246/opto_...</td>\n",
       "      <td>/home/julienb/Documents/Data/Luisa/Rat246/opto...</td>\n",
       "      <td>True</td>\n",
       "    </tr>\n",
       "    <tr>\n",
       "      <th>193</th>\n",
       "      <td>/media/filer2/T4/Clara/Data/Luisa/Rat246/opto_...</td>\n",
       "      <td>/home/julienb/Documents/Data/Luisa/Rat246/opto...</td>\n",
       "      <td>True</td>\n",
       "    </tr>\n",
       "    <tr>\n",
       "      <th>194</th>\n",
       "      <td>/media/filer2/T4/Clara/Data/Luisa/Rat246/opto_...</td>\n",
       "      <td>/home/julienb/Documents/Data/Luisa/Rat246/opto...</td>\n",
       "      <td>True</td>\n",
       "    </tr>\n",
       "    <tr>\n",
       "      <th>195</th>\n",
       "      <td>/media/filer2/T4/Clara/Data/Luisa/Rat246/opto_...</td>\n",
       "      <td>/home/julienb/Documents/Data/Luisa/Rat246/opto...</td>\n",
       "      <td>True</td>\n",
       "    </tr>\n",
       "    <tr>\n",
       "      <th>196</th>\n",
       "      <td>/media/filer2/T4/Clara/Data/Luisa/Rat246/opto_...</td>\n",
       "      <td>/home/julienb/Documents/Data/Luisa/Rat246/opto...</td>\n",
       "      <td>True</td>\n",
       "    </tr>\n",
       "  </tbody>\n",
       "</table>\n",
       "<p>197 rows × 3 columns</p>\n",
       "</div>"
      ],
      "text/plain": [
       "                                            in_session  \\\n",
       "0    /media/filer2/T4/Clara/Data/Luisa/Rat101/opto_...   \n",
       "1    /media/filer2/T4/Clara/Data/Luisa/Rat101/opto_...   \n",
       "2    /media/filer2/T4/Clara/Data/Luisa/Rat101/opto_...   \n",
       "3    /media/filer2/T4/Clara/Data/Luisa/Rat101/opto_...   \n",
       "4    /media/filer2/T4/Clara/Data/Luisa/Rat101/opto_...   \n",
       "..                                                 ...   \n",
       "192  /media/filer2/T4/Clara/Data/Luisa/Rat246/opto_...   \n",
       "193  /media/filer2/T4/Clara/Data/Luisa/Rat246/opto_...   \n",
       "194  /media/filer2/T4/Clara/Data/Luisa/Rat246/opto_...   \n",
       "195  /media/filer2/T4/Clara/Data/Luisa/Rat246/opto_...   \n",
       "196  /media/filer2/T4/Clara/Data/Luisa/Rat246/opto_...   \n",
       "\n",
       "                                           dest_folder  already_done  \n",
       "0    /home/julienb/Documents/Data/Luisa/Rat101/opto...          True  \n",
       "1    /home/julienb/Documents/Data/Luisa/Rat101/opto...          True  \n",
       "2    /home/julienb/Documents/Data/Luisa/Rat101/opto...          True  \n",
       "3    /home/julienb/Documents/Data/Luisa/Rat101/opto...          True  \n",
       "4    /home/julienb/Documents/Data/Luisa/Rat101/opto...          True  \n",
       "..                                                 ...           ...  \n",
       "192  /home/julienb/Documents/Data/Luisa/Rat246/opto...          True  \n",
       "193  /home/julienb/Documents/Data/Luisa/Rat246/opto...          True  \n",
       "194  /home/julienb/Documents/Data/Luisa/Rat246/opto...          True  \n",
       "195  /home/julienb/Documents/Data/Luisa/Rat246/opto...          True  \n",
       "196  /home/julienb/Documents/Data/Luisa/Rat246/opto...          True  \n",
       "\n",
       "[197 rows x 3 columns]"
      ]
     },
     "execution_count": 3,
     "metadata": {},
     "output_type": "execute_result"
    }
   ],
   "source": [
    "\n",
    "in_sessions = [f.parent for f in base_folder.glob(\"**/metadata.yaml\")]\n",
    "sessions = pd.DataFrame()\n",
    "sessions[\"in_session\"] = in_sessions\n",
    "sessions[\"dest_folder\"] = [dest_base_folder / s.relative_to(base_folder).with_name(f\"Session--{s.name}\") for s in in_sessions]\n",
    "sessions[\"already_done\"] = sessions[\"dest_folder\"].apply(lambda d: (d/\"analysis\").exists())\n",
    "sessions\n"
   ]
  },
  {
   "cell_type": "code",
   "execution_count": 4,
   "metadata": {},
   "outputs": [
    {
     "name": "stdout",
     "output_type": "stream",
     "text": [
      "env: PYDEVD_DISABLE_FILE_VALIDATION=1\n"
     ]
    },
    {
     "data": {
      "application/vnd.jupyter.widget-view+json": {
       "model_id": "fbeb4abe8e3e4e6bb2474536c2e5b6c9",
       "version_major": 2,
       "version_minor": 0
      },
      "text/plain": [
       "  0%|          | 0/197 [00:00<?, ?it/s]"
      ]
     },
     "metadata": {},
     "output_type": "display_data"
    },
    {
     "name": "stdout",
     "output_type": "stream",
     "text": [
      "\n",
      "---------------------------------------------------------------------------\n",
      "Exception encountered at \"In [10]\":\n",
      "---------------------------------------------------------------------------\n",
      "FileNotFoundError                         Traceback (most recent call last)\n",
      "Cell In[10], line 1\n",
      "----> 1 dat_file = singleglob(session_folder, \"**/*.dat\")\n",
      "\n",
      "File ~/Documents/helper/src/helper/main.py:30, in singleglob(p, error_string, only_ok, *patterns)\n",
      "     28     return len(all)==1\n",
      "     29 if len(all) >1:\n",
      "---> 30     raise FileNotFoundError(error_string.format(p=p, n=len(all), patterns=patterns))\n",
      "     31 if len(all) ==0:\n",
      "     32     raise FileNotFoundError(error_string.format(p=p, n=len(all), patterns=patterns))\n",
      "\n",
      "FileNotFoundError: Found 2 candidates for pattern ('**/*.dat',) in folder /media/filer2/T4/Clara/Data/Luisa/Rat101/opto_Fastest/Rat101_20240909\n",
      "\n"
     ]
    },
    {
     "data": {
      "text/plain": [
       "None"
      ]
     },
     "metadata": {},
     "output_type": "display_data"
    },
    {
     "name": "stdout",
     "output_type": "stream",
     "text": [
      "\n",
      "---------------------------------------------------------------------------\n",
      "Exception encountered at \"In [10]\":\n",
      "---------------------------------------------------------------------------\n",
      "FileNotFoundError                         Traceback (most recent call last)\n",
      "Cell In[10], line 1\n",
      "----> 1 dat_file = singleglob(session_folder, \"**/*.dat\")\n",
      "\n",
      "File ~/Documents/helper/src/helper/main.py:30, in singleglob(p, error_string, only_ok, *patterns)\n",
      "     28     return len(all)==1\n",
      "     29 if len(all) >1:\n",
      "---> 30     raise FileNotFoundError(error_string.format(p=p, n=len(all), patterns=patterns))\n",
      "     31 if len(all) ==0:\n",
      "     32     raise FileNotFoundError(error_string.format(p=p, n=len(all), patterns=patterns))\n",
      "\n",
      "FileNotFoundError: Found 2 candidates for pattern ('**/*.dat',) in folder /media/filer2/T4/Clara/Data/Luisa/Rat101/opto_MT/Rat101_20240731__lostdata\n",
      "\n"
     ]
    },
    {
     "data": {
      "text/plain": [
       "None"
      ]
     },
     "metadata": {},
     "output_type": "display_data"
    },
    {
     "name": "stdout",
     "output_type": "stream",
     "text": [
      "\n",
      "---------------------------------------------------------------------------\n",
      "Exception encountered at \"In [10]\":\n",
      "---------------------------------------------------------------------------\n",
      "FileNotFoundError                         Traceback (most recent call last)\n",
      "Cell In[10], line 1\n",
      "----> 1 dat_file = singleglob(session_folder, \"**/*.dat\")\n",
      "\n",
      "File ~/Documents/helper/src/helper/main.py:32, in singleglob(p, error_string, only_ok, *patterns)\n",
      "     30     raise FileNotFoundError(error_string.format(p=p, n=len(all), patterns=patterns))\n",
      "     31 if len(all) ==0:\n",
      "---> 32     raise FileNotFoundError(error_string.format(p=p, n=len(all), patterns=patterns))\n",
      "     33 return all[0]\n",
      "\n",
      "FileNotFoundError: Found 0 candidates for pattern ('**/*.dat',) in folder /media/filer2/T4/Clara/Data/Luisa/Rat226/opto_MT/Rat226_20240806__lostdata\n",
      "\n"
     ]
    },
    {
     "data": {
      "text/plain": [
       "None"
      ]
     },
     "metadata": {},
     "output_type": "display_data"
    },
    {
     "name": "stdout",
     "output_type": "stream",
     "text": [
      "\n",
      "---------------------------------------------------------------------------\n",
      "Exception encountered at \"In [15]\":\n",
      "---------------------------------------------------------------------------\n",
      "FileNotFoundError                         Traceback (most recent call last)\n",
      "Cell In[15], line 3\n",
      "      1 for s in [\"Events.csv\", \"Fluorescence.csv\", \"Fluorescence-unaligned.csv\"]:\n",
      "      2     if not (fiber_folder/s).exists():\n",
      "----> 3         shutil.copy(singleglob(session_folder, f\"**/{s}\"), fiber_folder/s)\n",
      "\n",
      "File ~/Documents/helper/src/helper/main.py:30, in singleglob(p, error_string, only_ok, *patterns)\n",
      "     28     return len(all)==1\n",
      "     29 if len(all) >1:\n",
      "---> 30     raise FileNotFoundError(error_string.format(p=p, n=len(all), patterns=patterns))\n",
      "     31 if len(all) ==0:\n",
      "     32     raise FileNotFoundError(error_string.format(p=p, n=len(all), patterns=patterns))\n",
      "\n",
      "FileNotFoundError: Found 2 candidates for pattern ('**/Events.csv',) in folder /media/filer2/T4/Clara/Data/Luisa/Rat230/opto_Fastest/Rat230_20240909\n",
      "\n"
     ]
    },
    {
     "data": {
      "text/plain": [
       "None"
      ]
     },
     "metadata": {},
     "output_type": "display_data"
    },
    {
     "name": "stdout",
     "output_type": "stream",
     "text": [
      "\n",
      "---------------------------------------------------------------------------\n",
      "Exception encountered at \"In [10]\":\n",
      "---------------------------------------------------------------------------\n",
      "FileNotFoundError                         Traceback (most recent call last)\n",
      "Cell In[10], line 1\n",
      "----> 1 dat_file = singleglob(session_folder, \"**/*.dat\")\n",
      "\n",
      "File ~/Documents/helper/src/helper/main.py:30, in singleglob(p, error_string, only_ok, *patterns)\n",
      "     28     return len(all)==1\n",
      "     29 if len(all) >1:\n",
      "---> 30     raise FileNotFoundError(error_string.format(p=p, n=len(all), patterns=patterns))\n",
      "     31 if len(all) ==0:\n",
      "     32     raise FileNotFoundError(error_string.format(p=p, n=len(all), patterns=patterns))\n",
      "\n",
      "FileNotFoundError: Found 3 candidates for pattern ('**/*.dat',) in folder /media/filer2/T4/Clara/Data/Luisa/Rat230/opto_MT/Rat230_20240801\n",
      "\n"
     ]
    },
    {
     "data": {
      "text/plain": [
       "None"
      ]
     },
     "metadata": {},
     "output_type": "display_data"
    },
    {
     "name": "stdout",
     "output_type": "stream",
     "text": [
      "\n",
      "---------------------------------------------------------------------------\n",
      "Exception encountered at \"In [15]\":\n",
      "---------------------------------------------------------------------------\n",
      "FileNotFoundError                         Traceback (most recent call last)\n",
      "Cell In[15], line 3\n",
      "      1 for s in [\"Events.csv\", \"Fluorescence.csv\", \"Fluorescence-unaligned.csv\"]:\n",
      "      2     if not (fiber_folder/s).exists():\n",
      "----> 3         shutil.copy(singleglob(session_folder, f\"**/{s}\"), fiber_folder/s)\n",
      "\n",
      "File ~/Documents/helper/src/helper/main.py:30, in singleglob(p, error_string, only_ok, *patterns)\n",
      "     28     return len(all)==1\n",
      "     29 if len(all) >1:\n",
      "---> 30     raise FileNotFoundError(error_string.format(p=p, n=len(all), patterns=patterns))\n",
      "     31 if len(all) ==0:\n",
      "     32     raise FileNotFoundError(error_string.format(p=p, n=len(all), patterns=patterns))\n",
      "\n",
      "FileNotFoundError: Found 2 candidates for pattern ('**/Events.csv',) in folder /media/filer2/T4/Clara/Data/Luisa/Rat233/opto_MT/Rat233_20240729\n",
      "\n"
     ]
    },
    {
     "data": {
      "text/plain": [
       "None"
      ]
     },
     "metadata": {},
     "output_type": "display_data"
    },
    {
     "name": "stdout",
     "output_type": "stream",
     "text": [
      "\n",
      "---------------------------------------------------------------------------\n",
      "Exception encountered at \"In [10]\":\n",
      "---------------------------------------------------------------------------\n",
      "FileNotFoundError                         Traceback (most recent call last)\n",
      "Cell In[10], line 1\n",
      "----> 1 dat_file = singleglob(session_folder, \"**/*.dat\")\n",
      "\n",
      "File ~/Documents/helper/src/helper/main.py:30, in singleglob(p, error_string, only_ok, *patterns)\n",
      "     28     return len(all)==1\n",
      "     29 if len(all) >1:\n",
      "---> 30     raise FileNotFoundError(error_string.format(p=p, n=len(all), patterns=patterns))\n",
      "     31 if len(all) ==0:\n",
      "     32     raise FileNotFoundError(error_string.format(p=p, n=len(all), patterns=patterns))\n",
      "\n",
      "FileNotFoundError: Found 2 candidates for pattern ('**/*.dat',) in folder /media/filer2/T4/Clara/Data/Luisa/Rat233/opto_MT/Rat233_20240731\n",
      "\n"
     ]
    },
    {
     "data": {
      "text/plain": [
       "None"
      ]
     },
     "metadata": {},
     "output_type": "display_data"
    },
    {
     "name": "stdout",
     "output_type": "stream",
     "text": [
      "\n",
      "---------------------------------------------------------------------------\n",
      "Exception encountered at \"In [15]\":\n",
      "---------------------------------------------------------------------------\n",
      "FileNotFoundError                         Traceback (most recent call last)\n",
      "Cell In[15], line 3\n",
      "      1 for s in [\"Events.csv\", \"Fluorescence.csv\", \"Fluorescence-unaligned.csv\"]:\n",
      "      2     if not (fiber_folder/s).exists():\n",
      "----> 3         shutil.copy(singleglob(session_folder, f\"**/{s}\"), fiber_folder/s)\n",
      "\n",
      "File ~/Documents/helper/src/helper/main.py:30, in singleglob(p, error_string, only_ok, *patterns)\n",
      "     28     return len(all)==1\n",
      "     29 if len(all) >1:\n",
      "---> 30     raise FileNotFoundError(error_string.format(p=p, n=len(all), patterns=patterns))\n",
      "     31 if len(all) ==0:\n",
      "     32     raise FileNotFoundError(error_string.format(p=p, n=len(all), patterns=patterns))\n",
      "\n",
      "FileNotFoundError: Found 2 candidates for pattern ('**/Events.csv',) in folder /media/filer2/T4/Clara/Data/Luisa/Rat233/opto_MT/Rat233_20240807\n",
      "\n"
     ]
    },
    {
     "data": {
      "text/plain": [
       "None"
      ]
     },
     "metadata": {},
     "output_type": "display_data"
    },
    {
     "name": "stdout",
     "output_type": "stream",
     "text": [
      "\n",
      "---------------------------------------------------------------------------\n",
      "Exception encountered at \"In [10]\":\n",
      "---------------------------------------------------------------------------\n",
      "FileNotFoundError                         Traceback (most recent call last)\n",
      "Cell In[10], line 1\n",
      "----> 1 dat_file = singleglob(session_folder, \"**/*.dat\")\n",
      "\n",
      "File ~/Documents/helper/src/helper/main.py:30, in singleglob(p, error_string, only_ok, *patterns)\n",
      "     28     return len(all)==1\n",
      "     29 if len(all) >1:\n",
      "---> 30     raise FileNotFoundError(error_string.format(p=p, n=len(all), patterns=patterns))\n",
      "     31 if len(all) ==0:\n",
      "     32     raise FileNotFoundError(error_string.format(p=p, n=len(all), patterns=patterns))\n",
      "\n",
      "FileNotFoundError: Found 2 candidates for pattern ('**/*.dat',) in folder /media/filer2/T4/Clara/Data/Luisa/Rat239/opto_MT/bilat/Rat239_20240729\n",
      "\n"
     ]
    },
    {
     "data": {
      "text/plain": [
       "None"
      ]
     },
     "metadata": {},
     "output_type": "display_data"
    },
    {
     "name": "stdout",
     "output_type": "stream",
     "text": [
      "\n",
      "---------------------------------------------------------------------------\n",
      "Exception encountered at \"In [17]\":\n",
      "---------------------------------------------------------------------------\n",
      "FileNotFoundError                         Traceback (most recent call last)\n",
      "Cell In[17], line 1\n",
      "----> 1 sr2x = singleglob(session_folder, \"**/*.s2rx\")\n",
      "      2 if not (spike2_folder/f\"channel_metadata -- {sr2x.name}\").exists():\n",
      "      3     shutil.copy(sr2x, spike2_folder/f\"channel_metadata -- {sr2x.name}\")\n",
      "\n",
      "File ~/Documents/helper/src/helper/main.py:32, in singleglob(p, error_string, only_ok, *patterns)\n",
      "     30     raise FileNotFoundError(error_string.format(p=p, n=len(all), patterns=patterns))\n",
      "     31 if len(all) ==0:\n",
      "---> 32     raise FileNotFoundError(error_string.format(p=p, n=len(all), patterns=patterns))\n",
      "     33 return all[0]\n",
      "\n",
      "FileNotFoundError: Found 0 candidates for pattern ('**/*.s2rx',) in folder /media/filer2/T4/Clara/Data/Luisa/Rat239/opto_MT/right_only/Rat239_20240911\n",
      "\n"
     ]
    },
    {
     "data": {
      "text/plain": [
       "None"
      ]
     },
     "metadata": {},
     "output_type": "display_data"
    },
    {
     "name": "stdout",
     "output_type": "stream",
     "text": [
      "\n",
      "---------------------------------------------------------------------------\n",
      "Exception encountered at \"In [15]\":\n",
      "---------------------------------------------------------------------------\n",
      "FileNotFoundError                         Traceback (most recent call last)\n",
      "Cell In[15], line 3\n",
      "      1 for s in [\"Events.csv\", \"Fluorescence.csv\", \"Fluorescence-unaligned.csv\"]:\n",
      "      2     if not (fiber_folder/s).exists():\n",
      "----> 3         shutil.copy(singleglob(session_folder, f\"**/{s}\"), fiber_folder/s)\n",
      "\n",
      "File ~/Documents/helper/src/helper/main.py:30, in singleglob(p, error_string, only_ok, *patterns)\n",
      "     28     return len(all)==1\n",
      "     29 if len(all) >1:\n",
      "---> 30     raise FileNotFoundError(error_string.format(p=p, n=len(all), patterns=patterns))\n",
      "     31 if len(all) ==0:\n",
      "     32     raise FileNotFoundError(error_string.format(p=p, n=len(all), patterns=patterns))\n",
      "\n",
      "FileNotFoundError: Found 2 candidates for pattern ('**/Events.csv',) in folder /media/filer2/T4/Clara/Data/Luisa/Rat240/opto_MT/Rat240_20240730\n",
      "\n"
     ]
    },
    {
     "data": {
      "text/plain": [
       "None"
      ]
     },
     "metadata": {},
     "output_type": "display_data"
    },
    {
     "name": "stdout",
     "output_type": "stream",
     "text": [
      "\n",
      "---------------------------------------------------------------------------\n",
      "Exception encountered at \"In [15]\":\n",
      "---------------------------------------------------------------------------\n",
      "FileNotFoundError                         Traceback (most recent call last)\n",
      "Cell In[15], line 3\n",
      "      1 for s in [\"Events.csv\", \"Fluorescence.csv\", \"Fluorescence-unaligned.csv\"]:\n",
      "      2     if not (fiber_folder/s).exists():\n",
      "----> 3         shutil.copy(singleglob(session_folder, f\"**/{s}\"), fiber_folder/s)\n",
      "\n",
      "File ~/Documents/helper/src/helper/main.py:30, in singleglob(p, error_string, only_ok, *patterns)\n",
      "     28     return len(all)==1\n",
      "     29 if len(all) >1:\n",
      "---> 30     raise FileNotFoundError(error_string.format(p=p, n=len(all), patterns=patterns))\n",
      "     31 if len(all) ==0:\n",
      "     32     raise FileNotFoundError(error_string.format(p=p, n=len(all), patterns=patterns))\n",
      "\n",
      "FileNotFoundError: Found 2 candidates for pattern ('**/Events.csv',) in folder /media/filer2/T4/Clara/Data/Luisa/Rat241/opto_ALLTRIALS/Rat241_20240910\n",
      "\n"
     ]
    },
    {
     "data": {
      "text/plain": [
       "None"
      ]
     },
     "metadata": {},
     "output_type": "display_data"
    },
    {
     "name": "stdout",
     "output_type": "stream",
     "text": [
      "\n",
      "---------------------------------------------------------------------------\n",
      "Exception encountered at \"In [10]\":\n",
      "---------------------------------------------------------------------------\n",
      "FileNotFoundError                         Traceback (most recent call last)\n",
      "Cell In[10], line 1\n",
      "----> 1 dat_file = singleglob(session_folder, \"**/*.dat\")\n",
      "\n",
      "File ~/Documents/helper/src/helper/main.py:30, in singleglob(p, error_string, only_ok, *patterns)\n",
      "     28     return len(all)==1\n",
      "     29 if len(all) >1:\n",
      "---> 30     raise FileNotFoundError(error_string.format(p=p, n=len(all), patterns=patterns))\n",
      "     31 if len(all) ==0:\n",
      "     32     raise FileNotFoundError(error_string.format(p=p, n=len(all), patterns=patterns))\n",
      "\n",
      "FileNotFoundError: Found 2 candidates for pattern ('**/*.dat',) in folder /media/filer2/T4/Clara/Data/Luisa/Rat241/opto_CueRT/Rat241_20240905\n",
      "\n"
     ]
    },
    {
     "data": {
      "text/plain": [
       "None"
      ]
     },
     "metadata": {},
     "output_type": "display_data"
    },
    {
     "name": "stdout",
     "output_type": "stream",
     "text": [
      "\n",
      "---------------------------------------------------------------------------\n",
      "Exception encountered at \"In [10]\":\n",
      "---------------------------------------------------------------------------\n",
      "FileNotFoundError                         Traceback (most recent call last)\n",
      "Cell In[10], line 1\n",
      "----> 1 dat_file = singleglob(session_folder, \"**/*.dat\")\n",
      "\n",
      "File ~/Documents/helper/src/helper/main.py:30, in singleglob(p, error_string, only_ok, *patterns)\n",
      "     28     return len(all)==1\n",
      "     29 if len(all) >1:\n",
      "---> 30     raise FileNotFoundError(error_string.format(p=p, n=len(all), patterns=patterns))\n",
      "     31 if len(all) ==0:\n",
      "     32     raise FileNotFoundError(error_string.format(p=p, n=len(all), patterns=patterns))\n",
      "\n",
      "FileNotFoundError: Found 2 candidates for pattern ('**/*.dat',) in folder /media/filer2/T4/Clara/Data/Luisa/Rat246/opto_MT/Rat246_20240731\n",
      "\n"
     ]
    },
    {
     "data": {
      "text/plain": [
       "None"
      ]
     },
     "metadata": {},
     "output_type": "display_data"
    },
    {
     "data": {
      "text/plain": [
       "'                                                                        session\\n0         /media/filer2/T4/Clara/Data/Luisa/Rat101/opto_Fastest/Rat101_20240909\\n1    /media/filer2/T4/Clara/Data/Luisa/Rat101/opto_MT/Rat101_20240731__lostdata\\n2    /media/filer2/T4/Clara/Data/Luisa/Rat226/opto_MT/Rat226_20240806__lostdata\\n3         /media/filer2/T4/Clara/Data/Luisa/Rat230/opto_Fastest/Rat230_20240909\\n4              /media/filer2/T4/Clara/Data/Luisa/Rat230/opto_MT/Rat230_20240801\\n5              /media/filer2/T4/Clara/Data/Luisa/Rat233/opto_MT/Rat233_20240729\\n6              /media/filer2/T4/Clara/Data/Luisa/Rat233/opto_MT/Rat233_20240731\\n7              /media/filer2/T4/Clara/Data/Luisa/Rat233/opto_MT/Rat233_20240807\\n8        /media/filer2/T4/Clara/Data/Luisa/Rat239/opto_MT/bilat/Rat239_20240729\\n9   /media/filer2/T4/Clara/Data/Luisa/Rat239/opto_MT/right_only/Rat239_20240911\\n10             /media/filer2/T4/Clara/Data/Luisa/Rat240/opto_MT/Rat240_20240730\\n11      /media/filer2/T4/Clara/Data/Luisa/Rat241/opto_ALLTRIALS/Rat241_20240910\\n12          /media/filer2/T4/Clara/Data/Luisa/Rat241/opto_CueRT/Rat241_20240905\\n13             /media/filer2/T4/Clara/Data/Luisa/Rat246/opto_MT/Rat246_20240731'"
      ]
     },
     "metadata": {},
     "output_type": "display_data"
    },
    {
     "name": "stderr",
     "output_type": "stream",
     "text": [
      "  + Exception Group Traceback (most recent call last):\n",
      "  |   File \"/home/julienb/miniconda3/envs/dev/lib/python3.11/site-packages/IPython/core/interactiveshell.py\", line 3577, in run_code\n",
      "  |     exec(code_obj, self.user_global_ns, self.user_ns)\n",
      "  |   File \"/tmp/ipykernel_302053/3676244282.py\", line 20, in <module>\n",
      "  |     raise ExceptionGroup(\"Errors during copy\", [e for s, e in errors])\n",
      "  | ExceptionGroup: Errors during copy (14 sub-exceptions)\n",
      "  +-+---------------- 1 ----------------\n",
      "    | Traceback (most recent call last):\n",
      "    |   File \"/tmp/ipykernel_302053/3676244282.py\", line 10, in <module>\n",
      "    |     papermill.execute_notebook(\"copy_session_data.ipynb\", \"copy_session_data_tmp.ipynb\", parameters=\n",
      "    |   File \"/home/julienb/miniconda3/envs/dev/lib/python3.11/site-packages/papermill/execute.py\", line 131, in execute_notebook\n",
      "    |     raise_for_execution_errors(nb, output_path)\n",
      "    |   File \"/home/julienb/miniconda3/envs/dev/lib/python3.11/site-packages/papermill/execute.py\", line 251, in raise_for_execution_errors\n",
      "    |     raise error\n",
      "    | papermill.exceptions.PapermillExecutionError: \n",
      "    | ---------------------------------------------------------------------------\n",
      "    | Exception encountered at \"In [10]\":\n",
      "    | ---------------------------------------------------------------------------\n",
      "    | FileNotFoundError                         Traceback (most recent call last)\n",
      "    | Cell In[10], line 1\n",
      "    | ----> 1 dat_file = singleglob(session_folder, \"**/*.dat\")\n",
      "    | \n",
      "    | File ~/Documents/helper/src/helper/main.py:30, in singleglob(p, error_string, only_ok, *patterns)\n",
      "    |      28     return len(all)==1\n",
      "    |      29 if len(all) >1:\n",
      "    | ---> 30     raise FileNotFoundError(error_string.format(p=p, n=len(all), patterns=patterns))\n",
      "    |      31 if len(all) ==0:\n",
      "    |      32     raise FileNotFoundError(error_string.format(p=p, n=len(all), patterns=patterns))\n",
      "    | \n",
      "    | FileNotFoundError: Found 2 candidates for pattern ('**/*.dat',) in folder /media/filer2/T4/Clara/Data/Luisa/Rat101/opto_Fastest/Rat101_20240909\n",
      "    | \n",
      "    | Error for preparing session /media/filer2/T4/Clara/Data/Luisa/Rat101/opto_Fastest/Rat101_20240909\n",
      "    +---------------- 2 ----------------\n",
      "    | Traceback (most recent call last):\n",
      "    |   File \"/tmp/ipykernel_302053/3676244282.py\", line 10, in <module>\n",
      "    |     papermill.execute_notebook(\"copy_session_data.ipynb\", \"copy_session_data_tmp.ipynb\", parameters=\n",
      "    |   File \"/home/julienb/miniconda3/envs/dev/lib/python3.11/site-packages/papermill/execute.py\", line 131, in execute_notebook\n",
      "    |     raise_for_execution_errors(nb, output_path)\n",
      "    |   File \"/home/julienb/miniconda3/envs/dev/lib/python3.11/site-packages/papermill/execute.py\", line 251, in raise_for_execution_errors\n",
      "    |     raise error\n",
      "    | papermill.exceptions.PapermillExecutionError: \n",
      "    | ---------------------------------------------------------------------------\n",
      "    | Exception encountered at \"In [10]\":\n",
      "    | ---------------------------------------------------------------------------\n",
      "    | FileNotFoundError                         Traceback (most recent call last)\n",
      "    | Cell In[10], line 1\n",
      "    | ----> 1 dat_file = singleglob(session_folder, \"**/*.dat\")\n",
      "    | \n",
      "    | File ~/Documents/helper/src/helper/main.py:30, in singleglob(p, error_string, only_ok, *patterns)\n",
      "    |      28     return len(all)==1\n",
      "    |      29 if len(all) >1:\n",
      "    | ---> 30     raise FileNotFoundError(error_string.format(p=p, n=len(all), patterns=patterns))\n",
      "    |      31 if len(all) ==0:\n",
      "    |      32     raise FileNotFoundError(error_string.format(p=p, n=len(all), patterns=patterns))\n",
      "    | \n",
      "    | FileNotFoundError: Found 2 candidates for pattern ('**/*.dat',) in folder /media/filer2/T4/Clara/Data/Luisa/Rat101/opto_MT/Rat101_20240731__lostdata\n",
      "    | \n",
      "    | Error for preparing session /media/filer2/T4/Clara/Data/Luisa/Rat101/opto_MT/Rat101_20240731__lostdata\n",
      "    +---------------- 3 ----------------\n",
      "    | Traceback (most recent call last):\n",
      "    |   File \"/tmp/ipykernel_302053/3676244282.py\", line 10, in <module>\n",
      "    |     papermill.execute_notebook(\"copy_session_data.ipynb\", \"copy_session_data_tmp.ipynb\", parameters=\n",
      "    |   File \"/home/julienb/miniconda3/envs/dev/lib/python3.11/site-packages/papermill/execute.py\", line 131, in execute_notebook\n",
      "    |     raise_for_execution_errors(nb, output_path)\n",
      "    |   File \"/home/julienb/miniconda3/envs/dev/lib/python3.11/site-packages/papermill/execute.py\", line 251, in raise_for_execution_errors\n",
      "    |     raise error\n",
      "    | papermill.exceptions.PapermillExecutionError: \n",
      "    | ---------------------------------------------------------------------------\n",
      "    | Exception encountered at \"In [10]\":\n",
      "    | ---------------------------------------------------------------------------\n",
      "    | FileNotFoundError                         Traceback (most recent call last)\n",
      "    | Cell In[10], line 1\n",
      "    | ----> 1 dat_file = singleglob(session_folder, \"**/*.dat\")\n",
      "    | \n",
      "    | File ~/Documents/helper/src/helper/main.py:32, in singleglob(p, error_string, only_ok, *patterns)\n",
      "    |      30     raise FileNotFoundError(error_string.format(p=p, n=len(all), patterns=patterns))\n",
      "    |      31 if len(all) ==0:\n",
      "    | ---> 32     raise FileNotFoundError(error_string.format(p=p, n=len(all), patterns=patterns))\n",
      "    |      33 return all[0]\n",
      "    | \n",
      "    | FileNotFoundError: Found 0 candidates for pattern ('**/*.dat',) in folder /media/filer2/T4/Clara/Data/Luisa/Rat226/opto_MT/Rat226_20240806__lostdata\n",
      "    | \n",
      "    | Error for preparing session /media/filer2/T4/Clara/Data/Luisa/Rat226/opto_MT/Rat226_20240806__lostdata\n",
      "    +---------------- 4 ----------------\n",
      "    | Traceback (most recent call last):\n",
      "    |   File \"/tmp/ipykernel_302053/3676244282.py\", line 10, in <module>\n",
      "    |     papermill.execute_notebook(\"copy_session_data.ipynb\", \"copy_session_data_tmp.ipynb\", parameters=\n",
      "    |   File \"/home/julienb/miniconda3/envs/dev/lib/python3.11/site-packages/papermill/execute.py\", line 131, in execute_notebook\n",
      "    |     raise_for_execution_errors(nb, output_path)\n",
      "    |   File \"/home/julienb/miniconda3/envs/dev/lib/python3.11/site-packages/papermill/execute.py\", line 251, in raise_for_execution_errors\n",
      "    |     raise error\n",
      "    | papermill.exceptions.PapermillExecutionError: \n",
      "    | ---------------------------------------------------------------------------\n",
      "    | Exception encountered at \"In [15]\":\n",
      "    | ---------------------------------------------------------------------------\n",
      "    | FileNotFoundError                         Traceback (most recent call last)\n",
      "    | Cell In[15], line 3\n",
      "    |       1 for s in [\"Events.csv\", \"Fluorescence.csv\", \"Fluorescence-unaligned.csv\"]:\n",
      "    |       2     if not (fiber_folder/s).exists():\n",
      "    | ----> 3         shutil.copy(singleglob(session_folder, f\"**/{s}\"), fiber_folder/s)\n",
      "    | \n",
      "    | File ~/Documents/helper/src/helper/main.py:30, in singleglob(p, error_string, only_ok, *patterns)\n",
      "    |      28     return len(all)==1\n",
      "    |      29 if len(all) >1:\n",
      "    | ---> 30     raise FileNotFoundError(error_string.format(p=p, n=len(all), patterns=patterns))\n",
      "    |      31 if len(all) ==0:\n",
      "    |      32     raise FileNotFoundError(error_string.format(p=p, n=len(all), patterns=patterns))\n",
      "    | \n",
      "    | FileNotFoundError: Found 2 candidates for pattern ('**/Events.csv',) in folder /media/filer2/T4/Clara/Data/Luisa/Rat230/opto_Fastest/Rat230_20240909\n",
      "    | \n",
      "    | Error for preparing session /media/filer2/T4/Clara/Data/Luisa/Rat230/opto_Fastest/Rat230_20240909\n",
      "    +---------------- 5 ----------------\n",
      "    | Traceback (most recent call last):\n",
      "    |   File \"/tmp/ipykernel_302053/3676244282.py\", line 10, in <module>\n",
      "    |     papermill.execute_notebook(\"copy_session_data.ipynb\", \"copy_session_data_tmp.ipynb\", parameters=\n",
      "    |   File \"/home/julienb/miniconda3/envs/dev/lib/python3.11/site-packages/papermill/execute.py\", line 131, in execute_notebook\n",
      "    |     raise_for_execution_errors(nb, output_path)\n",
      "    |   File \"/home/julienb/miniconda3/envs/dev/lib/python3.11/site-packages/papermill/execute.py\", line 251, in raise_for_execution_errors\n",
      "    |     raise error\n",
      "    | papermill.exceptions.PapermillExecutionError: \n",
      "    | ---------------------------------------------------------------------------\n",
      "    | Exception encountered at \"In [10]\":\n",
      "    | ---------------------------------------------------------------------------\n",
      "    | FileNotFoundError                         Traceback (most recent call last)\n",
      "    | Cell In[10], line 1\n",
      "    | ----> 1 dat_file = singleglob(session_folder, \"**/*.dat\")\n",
      "    | \n",
      "    | File ~/Documents/helper/src/helper/main.py:30, in singleglob(p, error_string, only_ok, *patterns)\n",
      "    |      28     return len(all)==1\n",
      "    |      29 if len(all) >1:\n",
      "    | ---> 30     raise FileNotFoundError(error_string.format(p=p, n=len(all), patterns=patterns))\n",
      "    |      31 if len(all) ==0:\n",
      "    |      32     raise FileNotFoundError(error_string.format(p=p, n=len(all), patterns=patterns))\n",
      "    | \n",
      "    | FileNotFoundError: Found 3 candidates for pattern ('**/*.dat',) in folder /media/filer2/T4/Clara/Data/Luisa/Rat230/opto_MT/Rat230_20240801\n",
      "    | \n",
      "    | Error for preparing session /media/filer2/T4/Clara/Data/Luisa/Rat230/opto_MT/Rat230_20240801\n",
      "    +---------------- 6 ----------------\n",
      "    | Traceback (most recent call last):\n",
      "    |   File \"/tmp/ipykernel_302053/3676244282.py\", line 10, in <module>\n",
      "    |     papermill.execute_notebook(\"copy_session_data.ipynb\", \"copy_session_data_tmp.ipynb\", parameters=\n",
      "    |   File \"/home/julienb/miniconda3/envs/dev/lib/python3.11/site-packages/papermill/execute.py\", line 131, in execute_notebook\n",
      "    |     raise_for_execution_errors(nb, output_path)\n",
      "    |   File \"/home/julienb/miniconda3/envs/dev/lib/python3.11/site-packages/papermill/execute.py\", line 251, in raise_for_execution_errors\n",
      "    |     raise error\n",
      "    | papermill.exceptions.PapermillExecutionError: \n",
      "    | ---------------------------------------------------------------------------\n",
      "    | Exception encountered at \"In [15]\":\n",
      "    | ---------------------------------------------------------------------------\n",
      "    | FileNotFoundError                         Traceback (most recent call last)\n",
      "    | Cell In[15], line 3\n",
      "    |       1 for s in [\"Events.csv\", \"Fluorescence.csv\", \"Fluorescence-unaligned.csv\"]:\n",
      "    |       2     if not (fiber_folder/s).exists():\n",
      "    | ----> 3         shutil.copy(singleglob(session_folder, f\"**/{s}\"), fiber_folder/s)\n",
      "    | \n",
      "    | File ~/Documents/helper/src/helper/main.py:30, in singleglob(p, error_string, only_ok, *patterns)\n",
      "    |      28     return len(all)==1\n",
      "    |      29 if len(all) >1:\n",
      "    | ---> 30     raise FileNotFoundError(error_string.format(p=p, n=len(all), patterns=patterns))\n",
      "    |      31 if len(all) ==0:\n",
      "    |      32     raise FileNotFoundError(error_string.format(p=p, n=len(all), patterns=patterns))\n",
      "    | \n",
      "    | FileNotFoundError: Found 2 candidates for pattern ('**/Events.csv',) in folder /media/filer2/T4/Clara/Data/Luisa/Rat233/opto_MT/Rat233_20240729\n",
      "    | \n",
      "    | Error for preparing session /media/filer2/T4/Clara/Data/Luisa/Rat233/opto_MT/Rat233_20240729\n",
      "    +---------------- 7 ----------------\n",
      "    | Traceback (most recent call last):\n",
      "    |   File \"/tmp/ipykernel_302053/3676244282.py\", line 10, in <module>\n",
      "    |     papermill.execute_notebook(\"copy_session_data.ipynb\", \"copy_session_data_tmp.ipynb\", parameters=\n",
      "    |   File \"/home/julienb/miniconda3/envs/dev/lib/python3.11/site-packages/papermill/execute.py\", line 131, in execute_notebook\n",
      "    |     raise_for_execution_errors(nb, output_path)\n",
      "    |   File \"/home/julienb/miniconda3/envs/dev/lib/python3.11/site-packages/papermill/execute.py\", line 251, in raise_for_execution_errors\n",
      "    |     raise error\n",
      "    | papermill.exceptions.PapermillExecutionError: \n",
      "    | ---------------------------------------------------------------------------\n",
      "    | Exception encountered at \"In [10]\":\n",
      "    | ---------------------------------------------------------------------------\n",
      "    | FileNotFoundError                         Traceback (most recent call last)\n",
      "    | Cell In[10], line 1\n",
      "    | ----> 1 dat_file = singleglob(session_folder, \"**/*.dat\")\n",
      "    | \n",
      "    | File ~/Documents/helper/src/helper/main.py:30, in singleglob(p, error_string, only_ok, *patterns)\n",
      "    |      28     return len(all)==1\n",
      "    |      29 if len(all) >1:\n",
      "    | ---> 30     raise FileNotFoundError(error_string.format(p=p, n=len(all), patterns=patterns))\n",
      "    |      31 if len(all) ==0:\n",
      "    |      32     raise FileNotFoundError(error_string.format(p=p, n=len(all), patterns=patterns))\n",
      "    | \n",
      "    | FileNotFoundError: Found 2 candidates for pattern ('**/*.dat',) in folder /media/filer2/T4/Clara/Data/Luisa/Rat233/opto_MT/Rat233_20240731\n",
      "    | \n",
      "    | Error for preparing session /media/filer2/T4/Clara/Data/Luisa/Rat233/opto_MT/Rat233_20240731\n",
      "    +---------------- 8 ----------------\n",
      "    | Traceback (most recent call last):\n",
      "    |   File \"/tmp/ipykernel_302053/3676244282.py\", line 10, in <module>\n",
      "    |     papermill.execute_notebook(\"copy_session_data.ipynb\", \"copy_session_data_tmp.ipynb\", parameters=\n",
      "    |   File \"/home/julienb/miniconda3/envs/dev/lib/python3.11/site-packages/papermill/execute.py\", line 131, in execute_notebook\n",
      "    |     raise_for_execution_errors(nb, output_path)\n",
      "    |   File \"/home/julienb/miniconda3/envs/dev/lib/python3.11/site-packages/papermill/execute.py\", line 251, in raise_for_execution_errors\n",
      "    |     raise error\n",
      "    | papermill.exceptions.PapermillExecutionError: \n",
      "    | ---------------------------------------------------------------------------\n",
      "    | Exception encountered at \"In [15]\":\n",
      "    | ---------------------------------------------------------------------------\n",
      "    | FileNotFoundError                         Traceback (most recent call last)\n",
      "    | Cell In[15], line 3\n",
      "    |       1 for s in [\"Events.csv\", \"Fluorescence.csv\", \"Fluorescence-unaligned.csv\"]:\n",
      "    |       2     if not (fiber_folder/s).exists():\n",
      "    | ----> 3         shutil.copy(singleglob(session_folder, f\"**/{s}\"), fiber_folder/s)\n",
      "    | \n",
      "    | File ~/Documents/helper/src/helper/main.py:30, in singleglob(p, error_string, only_ok, *patterns)\n",
      "    |      28     return len(all)==1\n",
      "    |      29 if len(all) >1:\n",
      "    | ---> 30     raise FileNotFoundError(error_string.format(p=p, n=len(all), patterns=patterns))\n",
      "    |      31 if len(all) ==0:\n",
      "    |      32     raise FileNotFoundError(error_string.format(p=p, n=len(all), patterns=patterns))\n",
      "    | \n",
      "    | FileNotFoundError: Found 2 candidates for pattern ('**/Events.csv',) in folder /media/filer2/T4/Clara/Data/Luisa/Rat233/opto_MT/Rat233_20240807\n",
      "    | \n",
      "    | Error for preparing session /media/filer2/T4/Clara/Data/Luisa/Rat233/opto_MT/Rat233_20240807\n",
      "    +---------------- 9 ----------------\n",
      "    | Traceback (most recent call last):\n",
      "    |   File \"/tmp/ipykernel_302053/3676244282.py\", line 10, in <module>\n",
      "    |     papermill.execute_notebook(\"copy_session_data.ipynb\", \"copy_session_data_tmp.ipynb\", parameters=\n",
      "    |   File \"/home/julienb/miniconda3/envs/dev/lib/python3.11/site-packages/papermill/execute.py\", line 131, in execute_notebook\n",
      "    |     raise_for_execution_errors(nb, output_path)\n",
      "    |   File \"/home/julienb/miniconda3/envs/dev/lib/python3.11/site-packages/papermill/execute.py\", line 251, in raise_for_execution_errors\n",
      "    |     raise error\n",
      "    | papermill.exceptions.PapermillExecutionError: \n",
      "    | ---------------------------------------------------------------------------\n",
      "    | Exception encountered at \"In [10]\":\n",
      "    | ---------------------------------------------------------------------------\n",
      "    | FileNotFoundError                         Traceback (most recent call last)\n",
      "    | Cell In[10], line 1\n",
      "    | ----> 1 dat_file = singleglob(session_folder, \"**/*.dat\")\n",
      "    | \n",
      "    | File ~/Documents/helper/src/helper/main.py:30, in singleglob(p, error_string, only_ok, *patterns)\n",
      "    |      28     return len(all)==1\n",
      "    |      29 if len(all) >1:\n",
      "    | ---> 30     raise FileNotFoundError(error_string.format(p=p, n=len(all), patterns=patterns))\n",
      "    |      31 if len(all) ==0:\n",
      "    |      32     raise FileNotFoundError(error_string.format(p=p, n=len(all), patterns=patterns))\n",
      "    | \n",
      "    | FileNotFoundError: Found 2 candidates for pattern ('**/*.dat',) in folder /media/filer2/T4/Clara/Data/Luisa/Rat239/opto_MT/bilat/Rat239_20240729\n",
      "    | \n",
      "    | Error for preparing session /media/filer2/T4/Clara/Data/Luisa/Rat239/opto_MT/bilat/Rat239_20240729\n",
      "    +---------------- 10 ----------------\n",
      "    | Traceback (most recent call last):\n",
      "    |   File \"/tmp/ipykernel_302053/3676244282.py\", line 10, in <module>\n",
      "    |     papermill.execute_notebook(\"copy_session_data.ipynb\", \"copy_session_data_tmp.ipynb\", parameters=\n",
      "    |   File \"/home/julienb/miniconda3/envs/dev/lib/python3.11/site-packages/papermill/execute.py\", line 131, in execute_notebook\n",
      "    |     raise_for_execution_errors(nb, output_path)\n",
      "    |   File \"/home/julienb/miniconda3/envs/dev/lib/python3.11/site-packages/papermill/execute.py\", line 251, in raise_for_execution_errors\n",
      "    |     raise error\n",
      "    | papermill.exceptions.PapermillExecutionError: \n",
      "    | ---------------------------------------------------------------------------\n",
      "    | Exception encountered at \"In [17]\":\n",
      "    | ---------------------------------------------------------------------------\n",
      "    | FileNotFoundError                         Traceback (most recent call last)\n",
      "    | Cell In[17], line 1\n",
      "    | ----> 1 sr2x = singleglob(session_folder, \"**/*.s2rx\")\n",
      "    |       2 if not (spike2_folder/f\"channel_metadata -- {sr2x.name}\").exists():\n",
      "    |       3     shutil.copy(sr2x, spike2_folder/f\"channel_metadata -- {sr2x.name}\")\n",
      "    | \n",
      "    | File ~/Documents/helper/src/helper/main.py:32, in singleglob(p, error_string, only_ok, *patterns)\n",
      "    |      30     raise FileNotFoundError(error_string.format(p=p, n=len(all), patterns=patterns))\n",
      "    |      31 if len(all) ==0:\n",
      "    | ---> 32     raise FileNotFoundError(error_string.format(p=p, n=len(all), patterns=patterns))\n",
      "    |      33 return all[0]\n",
      "    | \n",
      "    | FileNotFoundError: Found 0 candidates for pattern ('**/*.s2rx',) in folder /media/filer2/T4/Clara/Data/Luisa/Rat239/opto_MT/right_only/Rat239_20240911\n",
      "    | \n",
      "    | Error for preparing session /media/filer2/T4/Clara/Data/Luisa/Rat239/opto_MT/right_only/Rat239_20240911\n",
      "    +---------------- 11 ----------------\n",
      "    | Traceback (most recent call last):\n",
      "    |   File \"/tmp/ipykernel_302053/3676244282.py\", line 10, in <module>\n",
      "    |     papermill.execute_notebook(\"copy_session_data.ipynb\", \"copy_session_data_tmp.ipynb\", parameters=\n",
      "    |   File \"/home/julienb/miniconda3/envs/dev/lib/python3.11/site-packages/papermill/execute.py\", line 131, in execute_notebook\n",
      "    |     raise_for_execution_errors(nb, output_path)\n",
      "    |   File \"/home/julienb/miniconda3/envs/dev/lib/python3.11/site-packages/papermill/execute.py\", line 251, in raise_for_execution_errors\n",
      "    |     raise error\n",
      "    | papermill.exceptions.PapermillExecutionError: \n",
      "    | ---------------------------------------------------------------------------\n",
      "    | Exception encountered at \"In [15]\":\n",
      "    | ---------------------------------------------------------------------------\n",
      "    | FileNotFoundError                         Traceback (most recent call last)\n",
      "    | Cell In[15], line 3\n",
      "    |       1 for s in [\"Events.csv\", \"Fluorescence.csv\", \"Fluorescence-unaligned.csv\"]:\n",
      "    |       2     if not (fiber_folder/s).exists():\n",
      "    | ----> 3         shutil.copy(singleglob(session_folder, f\"**/{s}\"), fiber_folder/s)\n",
      "    | \n",
      "    | File ~/Documents/helper/src/helper/main.py:30, in singleglob(p, error_string, only_ok, *patterns)\n",
      "    |      28     return len(all)==1\n",
      "    |      29 if len(all) >1:\n",
      "    | ---> 30     raise FileNotFoundError(error_string.format(p=p, n=len(all), patterns=patterns))\n",
      "    |      31 if len(all) ==0:\n",
      "    |      32     raise FileNotFoundError(error_string.format(p=p, n=len(all), patterns=patterns))\n",
      "    | \n",
      "    | FileNotFoundError: Found 2 candidates for pattern ('**/Events.csv',) in folder /media/filer2/T4/Clara/Data/Luisa/Rat240/opto_MT/Rat240_20240730\n",
      "    | \n",
      "    | Error for preparing session /media/filer2/T4/Clara/Data/Luisa/Rat240/opto_MT/Rat240_20240730\n",
      "    +---------------- 12 ----------------\n",
      "    | Traceback (most recent call last):\n",
      "    |   File \"/tmp/ipykernel_302053/3676244282.py\", line 10, in <module>\n",
      "    |     papermill.execute_notebook(\"copy_session_data.ipynb\", \"copy_session_data_tmp.ipynb\", parameters=\n",
      "    |   File \"/home/julienb/miniconda3/envs/dev/lib/python3.11/site-packages/papermill/execute.py\", line 131, in execute_notebook\n",
      "    |     raise_for_execution_errors(nb, output_path)\n",
      "    |   File \"/home/julienb/miniconda3/envs/dev/lib/python3.11/site-packages/papermill/execute.py\", line 251, in raise_for_execution_errors\n",
      "    |     raise error\n",
      "    | papermill.exceptions.PapermillExecutionError: \n",
      "    | ---------------------------------------------------------------------------\n",
      "    | Exception encountered at \"In [15]\":\n",
      "    | ---------------------------------------------------------------------------\n",
      "    | FileNotFoundError                         Traceback (most recent call last)\n",
      "    | Cell In[15], line 3\n",
      "    |       1 for s in [\"Events.csv\", \"Fluorescence.csv\", \"Fluorescence-unaligned.csv\"]:\n",
      "    |       2     if not (fiber_folder/s).exists():\n",
      "    | ----> 3         shutil.copy(singleglob(session_folder, f\"**/{s}\"), fiber_folder/s)\n",
      "    | \n",
      "    | File ~/Documents/helper/src/helper/main.py:30, in singleglob(p, error_string, only_ok, *patterns)\n",
      "    |      28     return len(all)==1\n",
      "    |      29 if len(all) >1:\n",
      "    | ---> 30     raise FileNotFoundError(error_string.format(p=p, n=len(all), patterns=patterns))\n",
      "    |      31 if len(all) ==0:\n",
      "    |      32     raise FileNotFoundError(error_string.format(p=p, n=len(all), patterns=patterns))\n",
      "    | \n",
      "    | FileNotFoundError: Found 2 candidates for pattern ('**/Events.csv',) in folder /media/filer2/T4/Clara/Data/Luisa/Rat241/opto_ALLTRIALS/Rat241_20240910\n",
      "    | \n",
      "    | Error for preparing session /media/filer2/T4/Clara/Data/Luisa/Rat241/opto_ALLTRIALS/Rat241_20240910\n",
      "    +---------------- 13 ----------------\n",
      "    | Traceback (most recent call last):\n",
      "    |   File \"/tmp/ipykernel_302053/3676244282.py\", line 10, in <module>\n",
      "    |     papermill.execute_notebook(\"copy_session_data.ipynb\", \"copy_session_data_tmp.ipynb\", parameters=\n",
      "    |   File \"/home/julienb/miniconda3/envs/dev/lib/python3.11/site-packages/papermill/execute.py\", line 131, in execute_notebook\n",
      "    |     raise_for_execution_errors(nb, output_path)\n",
      "    |   File \"/home/julienb/miniconda3/envs/dev/lib/python3.11/site-packages/papermill/execute.py\", line 251, in raise_for_execution_errors\n",
      "    |     raise error\n",
      "    | papermill.exceptions.PapermillExecutionError: \n",
      "    | ---------------------------------------------------------------------------\n",
      "    | Exception encountered at \"In [10]\":\n",
      "    | ---------------------------------------------------------------------------\n",
      "    | FileNotFoundError                         Traceback (most recent call last)\n",
      "    | Cell In[10], line 1\n",
      "    | ----> 1 dat_file = singleglob(session_folder, \"**/*.dat\")\n",
      "    | \n",
      "    | File ~/Documents/helper/src/helper/main.py:30, in singleglob(p, error_string, only_ok, *patterns)\n",
      "    |      28     return len(all)==1\n",
      "    |      29 if len(all) >1:\n",
      "    | ---> 30     raise FileNotFoundError(error_string.format(p=p, n=len(all), patterns=patterns))\n",
      "    |      31 if len(all) ==0:\n",
      "    |      32     raise FileNotFoundError(error_string.format(p=p, n=len(all), patterns=patterns))\n",
      "    | \n",
      "    | FileNotFoundError: Found 2 candidates for pattern ('**/*.dat',) in folder /media/filer2/T4/Clara/Data/Luisa/Rat241/opto_CueRT/Rat241_20240905\n",
      "    | \n",
      "    | Error for preparing session /media/filer2/T4/Clara/Data/Luisa/Rat241/opto_CueRT/Rat241_20240905\n",
      "    +---------------- 14 ----------------\n",
      "    | Traceback (most recent call last):\n",
      "    |   File \"/tmp/ipykernel_302053/3676244282.py\", line 10, in <module>\n",
      "    |     papermill.execute_notebook(\"copy_session_data.ipynb\", \"copy_session_data_tmp.ipynb\", parameters=\n",
      "    |   File \"/home/julienb/miniconda3/envs/dev/lib/python3.11/site-packages/papermill/execute.py\", line 131, in execute_notebook\n",
      "    |     raise_for_execution_errors(nb, output_path)\n",
      "    |   File \"/home/julienb/miniconda3/envs/dev/lib/python3.11/site-packages/papermill/execute.py\", line 251, in raise_for_execution_errors\n",
      "    |     raise error\n",
      "    | papermill.exceptions.PapermillExecutionError: \n",
      "    | ---------------------------------------------------------------------------\n",
      "    | Exception encountered at \"In [10]\":\n",
      "    | ---------------------------------------------------------------------------\n",
      "    | FileNotFoundError                         Traceback (most recent call last)\n",
      "    | Cell In[10], line 1\n",
      "    | ----> 1 dat_file = singleglob(session_folder, \"**/*.dat\")\n",
      "    | \n",
      "    | File ~/Documents/helper/src/helper/main.py:30, in singleglob(p, error_string, only_ok, *patterns)\n",
      "    |      28     return len(all)==1\n",
      "    |      29 if len(all) >1:\n",
      "    | ---> 30     raise FileNotFoundError(error_string.format(p=p, n=len(all), patterns=patterns))\n",
      "    |      31 if len(all) ==0:\n",
      "    |      32     raise FileNotFoundError(error_string.format(p=p, n=len(all), patterns=patterns))\n",
      "    | \n",
      "    | FileNotFoundError: Found 2 candidates for pattern ('**/*.dat',) in folder /media/filer2/T4/Clara/Data/Luisa/Rat246/opto_MT/Rat246_20240731\n",
      "    | \n",
      "    | Error for preparing session /media/filer2/T4/Clara/Data/Luisa/Rat246/opto_MT/Rat246_20240731\n",
      "    +------------------------------------\n"
     ]
    }
   ],
   "source": [
    "%env PYDEVD_DISABLE_FILE_VALIDATION=1\n",
    "\n",
    "\n",
    "df = sessions[[\"in_session\", \"dest_folder\"]] if force else sessions.loc[~sessions[\"already_done\"], [\"in_session\", \"dest_folder\"]]\n",
    "progress = tqdm(df.iterrows(), total=len(df.index))\n",
    "errors = []\n",
    "for _, (s, dest_folder) in progress:\n",
    "    progress.set_postfix_str(f\"Copying {s.stem}, n_copy_err {len(errors)}\")\n",
    "    try:\n",
    "        papermill.execute_notebook(\"copy_session_data.ipynb\", \"copy_session_data_tmp.ipynb\", parameters=\n",
    "                                dict(dest_folder = str(dest_folder), session_folder=str(s)), progress_bar=False)\n",
    "    except Exception as e:\n",
    "        e.add_note(f\"Error for preparing session {s}\")\n",
    "        display(print(e))\n",
    "        errors.append((s, e))\n",
    "if len(errors) > 0:\n",
    "    errors_df = pd.DataFrame(errors, columns=[\"session\", \"exception\"])\n",
    "    errors_df[\"err_message\"] = errors_df[\"exception\"].astype(str)\n",
    "    display(errors_df[[\"session\"]].to_string())\n",
    "    raise ExceptionGroup(\"Errors during copy\", [e for s, e in errors])\n",
    "else:\n",
    "    if Path(\"copy_session_data_tmp.ipynb\").exists():\n",
    "        Path(\"copy_session_data_tmp.ipynb\").unlink()\n"
   ]
  },
  {
   "cell_type": "code",
   "execution_count": null,
   "metadata": {},
   "outputs": [
    {
     "name": "stdout",
     "output_type": "stream",
     "text": [
      "\n",
      "---------------------------------------------------------------------------\n",
      "Exception encountered at \"In [10]\":\n",
      "---------------------------------------------------------------------------\n",
      "FileNotFoundError                         Traceback (most recent call last)\n",
      "Cell In[10], line 1\n",
      "----> 1 dat_file = singleglob(session_folder, \"**/*.dat\")\n",
      "\n",
      "File ~/Documents/helper/src/helper/main.py:30, in singleglob(p, error_string, only_ok, *patterns)\n",
      "     28     return len(all)==1\n",
      "     29 if len(all) >1:\n",
      "---> 30     raise FileNotFoundError(error_string.format(p=p, n=len(all), patterns=patterns))\n",
      "     31 if len(all) ==0:\n",
      "     32     raise FileNotFoundError(error_string.format(p=p, n=len(all), patterns=patterns))\n",
      "\n",
      "FileNotFoundError: Found 2 candidates for pattern ('**/*.dat',) in folder /media/filer2/T4/Clara/Data/Luisa/Rat101/opto_Fastest/Rat101_20240909\n",
      "\n"
     ]
    },
    {
     "data": {
      "text/plain": [
       "None"
      ]
     },
     "metadata": {},
     "output_type": "display_data"
    },
    {
     "name": "stdout",
     "output_type": "stream",
     "text": [
      "\n",
      "---------------------------------------------------------------------------\n",
      "Exception encountered at \"In [10]\":\n",
      "---------------------------------------------------------------------------\n",
      "FileNotFoundError                         Traceback (most recent call last)\n",
      "Cell In[10], line 1\n",
      "----> 1 dat_file = singleglob(session_folder, \"**/*.dat\")\n",
      "\n",
      "File ~/Documents/helper/src/helper/main.py:30, in singleglob(p, error_string, only_ok, *patterns)\n",
      "     28     return len(all)==1\n",
      "     29 if len(all) >1:\n",
      "---> 30     raise FileNotFoundError(error_string.format(p=p, n=len(all), patterns=patterns))\n",
      "     31 if len(all) ==0:\n",
      "     32     raise FileNotFoundError(error_string.format(p=p, n=len(all), patterns=patterns))\n",
      "\n",
      "FileNotFoundError: Found 2 candidates for pattern ('**/*.dat',) in folder /media/filer2/T4/Clara/Data/Luisa/Rat101/opto_MT/Rat101_20240731__lostdata\n",
      "\n"
     ]
    },
    {
     "data": {
      "text/plain": [
       "None"
      ]
     },
     "metadata": {},
     "output_type": "display_data"
    },
    {
     "name": "stdout",
     "output_type": "stream",
     "text": [
      "\n",
      "---------------------------------------------------------------------------\n",
      "Exception encountered at \"In [10]\":\n",
      "---------------------------------------------------------------------------\n",
      "FileNotFoundError                         Traceback (most recent call last)\n",
      "Cell In[10], line 1\n",
      "----> 1 dat_file = singleglob(session_folder, \"**/*.dat\")\n",
      "\n",
      "File ~/Documents/helper/src/helper/main.py:32, in singleglob(p, error_string, only_ok, *patterns)\n",
      "     30     raise FileNotFoundError(error_string.format(p=p, n=len(all), patterns=patterns))\n",
      "     31 if len(all) ==0:\n",
      "---> 32     raise FileNotFoundError(error_string.format(p=p, n=len(all), patterns=patterns))\n",
      "     33 return all[0]\n",
      "\n",
      "FileNotFoundError: Found 0 candidates for pattern ('**/*.dat',) in folder /media/filer2/T4/Clara/Data/Luisa/Rat226/opto_MT/Rat226_20240806__lostdata\n",
      "\n"
     ]
    },
    {
     "data": {
      "text/plain": [
       "None"
      ]
     },
     "metadata": {},
     "output_type": "display_data"
    },
    {
     "name": "stdout",
     "output_type": "stream",
     "text": [
      "\n",
      "---------------------------------------------------------------------------\n",
      "Exception encountered at \"In [15]\":\n",
      "---------------------------------------------------------------------------\n",
      "FileNotFoundError                         Traceback (most recent call last)\n",
      "Cell In[15], line 3\n",
      "      1 for s in [\"Events.csv\", \"Fluorescence.csv\", \"Fluorescence-unaligned.csv\"]:\n",
      "      2     if not (fiber_folder/s).exists():\n",
      "----> 3         shutil.copy(singleglob(session_folder, f\"**/{s}\"), fiber_folder/s)\n",
      "\n",
      "File ~/Documents/helper/src/helper/main.py:30, in singleglob(p, error_string, only_ok, *patterns)\n",
      "     28     return len(all)==1\n",
      "     29 if len(all) >1:\n",
      "---> 30     raise FileNotFoundError(error_string.format(p=p, n=len(all), patterns=patterns))\n",
      "     31 if len(all) ==0:\n",
      "     32     raise FileNotFoundError(error_string.format(p=p, n=len(all), patterns=patterns))\n",
      "\n",
      "FileNotFoundError: Found 2 candidates for pattern ('**/Events.csv',) in folder /media/filer2/T4/Clara/Data/Luisa/Rat230/opto_Fastest/Rat230_20240909\n",
      "\n"
     ]
    },
    {
     "data": {
      "text/plain": [
       "None"
      ]
     },
     "metadata": {},
     "output_type": "display_data"
    },
    {
     "name": "stdout",
     "output_type": "stream",
     "text": [
      "\n",
      "---------------------------------------------------------------------------\n",
      "Exception encountered at \"In [10]\":\n",
      "---------------------------------------------------------------------------\n",
      "FileNotFoundError                         Traceback (most recent call last)\n",
      "Cell In[10], line 1\n",
      "----> 1 dat_file = singleglob(session_folder, \"**/*.dat\")\n",
      "\n",
      "File ~/Documents/helper/src/helper/main.py:30, in singleglob(p, error_string, only_ok, *patterns)\n",
      "     28     return len(all)==1\n",
      "     29 if len(all) >1:\n",
      "---> 30     raise FileNotFoundError(error_string.format(p=p, n=len(all), patterns=patterns))\n",
      "     31 if len(all) ==0:\n",
      "     32     raise FileNotFoundError(error_string.format(p=p, n=len(all), patterns=patterns))\n",
      "\n",
      "FileNotFoundError: Found 3 candidates for pattern ('**/*.dat',) in folder /media/filer2/T4/Clara/Data/Luisa/Rat230/opto_MT/Rat230_20240801\n",
      "\n"
     ]
    },
    {
     "data": {
      "text/plain": [
       "None"
      ]
     },
     "metadata": {},
     "output_type": "display_data"
    },
    {
     "name": "stdout",
     "output_type": "stream",
     "text": [
      "\n",
      "---------------------------------------------------------------------------\n",
      "Exception encountered at \"In [15]\":\n",
      "---------------------------------------------------------------------------\n",
      "FileNotFoundError                         Traceback (most recent call last)\n",
      "Cell In[15], line 3\n",
      "      1 for s in [\"Events.csv\", \"Fluorescence.csv\", \"Fluorescence-unaligned.csv\"]:\n",
      "      2     if not (fiber_folder/s).exists():\n",
      "----> 3         shutil.copy(singleglob(session_folder, f\"**/{s}\"), fiber_folder/s)\n",
      "\n",
      "File ~/Documents/helper/src/helper/main.py:30, in singleglob(p, error_string, only_ok, *patterns)\n",
      "     28     return len(all)==1\n",
      "     29 if len(all) >1:\n",
      "---> 30     raise FileNotFoundError(error_string.format(p=p, n=len(all), patterns=patterns))\n",
      "     31 if len(all) ==0:\n",
      "     32     raise FileNotFoundError(error_string.format(p=p, n=len(all), patterns=patterns))\n",
      "\n",
      "FileNotFoundError: Found 2 candidates for pattern ('**/Events.csv',) in folder /media/filer2/T4/Clara/Data/Luisa/Rat233/opto_MT/Rat233_20240729\n",
      "\n"
     ]
    },
    {
     "data": {
      "text/plain": [
       "None"
      ]
     },
     "metadata": {},
     "output_type": "display_data"
    },
    {
     "name": "stdout",
     "output_type": "stream",
     "text": [
      "\n",
      "---------------------------------------------------------------------------\n",
      "Exception encountered at \"In [10]\":\n",
      "---------------------------------------------------------------------------\n",
      "FileNotFoundError                         Traceback (most recent call last)\n",
      "Cell In[10], line 1\n",
      "----> 1 dat_file = singleglob(session_folder, \"**/*.dat\")\n",
      "\n",
      "File ~/Documents/helper/src/helper/main.py:30, in singleglob(p, error_string, only_ok, *patterns)\n",
      "     28     return len(all)==1\n",
      "     29 if len(all) >1:\n",
      "---> 30     raise FileNotFoundError(error_string.format(p=p, n=len(all), patterns=patterns))\n",
      "     31 if len(all) ==0:\n",
      "     32     raise FileNotFoundError(error_string.format(p=p, n=len(all), patterns=patterns))\n",
      "\n",
      "FileNotFoundError: Found 2 candidates for pattern ('**/*.dat',) in folder /media/filer2/T4/Clara/Data/Luisa/Rat233/opto_MT/Rat233_20240731\n",
      "\n"
     ]
    },
    {
     "data": {
      "text/plain": [
       "None"
      ]
     },
     "metadata": {},
     "output_type": "display_data"
    },
    {
     "name": "stdout",
     "output_type": "stream",
     "text": [
      "\n",
      "---------------------------------------------------------------------------\n",
      "Exception encountered at \"In [15]\":\n",
      "---------------------------------------------------------------------------\n",
      "FileNotFoundError                         Traceback (most recent call last)\n",
      "Cell In[15], line 3\n",
      "      1 for s in [\"Events.csv\", \"Fluorescence.csv\", \"Fluorescence-unaligned.csv\"]:\n",
      "      2     if not (fiber_folder/s).exists():\n",
      "----> 3         shutil.copy(singleglob(session_folder, f\"**/{s}\"), fiber_folder/s)\n",
      "\n",
      "File ~/Documents/helper/src/helper/main.py:30, in singleglob(p, error_string, only_ok, *patterns)\n",
      "     28     return len(all)==1\n",
      "     29 if len(all) >1:\n",
      "---> 30     raise FileNotFoundError(error_string.format(p=p, n=len(all), patterns=patterns))\n",
      "     31 if len(all) ==0:\n",
      "     32     raise FileNotFoundError(error_string.format(p=p, n=len(all), patterns=patterns))\n",
      "\n",
      "FileNotFoundError: Found 2 candidates for pattern ('**/Events.csv',) in folder /media/filer2/T4/Clara/Data/Luisa/Rat233/opto_MT/Rat233_20240807\n",
      "\n"
     ]
    },
    {
     "data": {
      "text/plain": [
       "None"
      ]
     },
     "metadata": {},
     "output_type": "display_data"
    },
    {
     "name": "stdout",
     "output_type": "stream",
     "text": [
      "\n",
      "---------------------------------------------------------------------------\n",
      "Exception encountered at \"In [10]\":\n",
      "---------------------------------------------------------------------------\n",
      "FileNotFoundError                         Traceback (most recent call last)\n",
      "Cell In[10], line 1\n",
      "----> 1 dat_file = singleglob(session_folder, \"**/*.dat\")\n",
      "\n",
      "File ~/Documents/helper/src/helper/main.py:30, in singleglob(p, error_string, only_ok, *patterns)\n",
      "     28     return len(all)==1\n",
      "     29 if len(all) >1:\n",
      "---> 30     raise FileNotFoundError(error_string.format(p=p, n=len(all), patterns=patterns))\n",
      "     31 if len(all) ==0:\n",
      "     32     raise FileNotFoundError(error_string.format(p=p, n=len(all), patterns=patterns))\n",
      "\n",
      "FileNotFoundError: Found 2 candidates for pattern ('**/*.dat',) in folder /media/filer2/T4/Clara/Data/Luisa/Rat239/opto_MT/bilat/Rat239_20240729\n",
      "\n"
     ]
    },
    {
     "data": {
      "text/plain": [
       "None"
      ]
     },
     "metadata": {},
     "output_type": "display_data"
    },
    {
     "name": "stdout",
     "output_type": "stream",
     "text": [
      "\n",
      "---------------------------------------------------------------------------\n",
      "Exception encountered at \"In [17]\":\n",
      "---------------------------------------------------------------------------\n",
      "FileNotFoundError                         Traceback (most recent call last)\n",
      "Cell In[17], line 1\n",
      "----> 1 sr2x = singleglob(session_folder, \"**/*.s2rx\")\n",
      "      2 if not (spike2_folder/f\"channel_metadata -- {sr2x.name}\").exists():\n",
      "      3     shutil.copy(sr2x, spike2_folder/f\"channel_metadata -- {sr2x.name}\")\n",
      "\n",
      "File ~/Documents/helper/src/helper/main.py:32, in singleglob(p, error_string, only_ok, *patterns)\n",
      "     30     raise FileNotFoundError(error_string.format(p=p, n=len(all), patterns=patterns))\n",
      "     31 if len(all) ==0:\n",
      "---> 32     raise FileNotFoundError(error_string.format(p=p, n=len(all), patterns=patterns))\n",
      "     33 return all[0]\n",
      "\n",
      "FileNotFoundError: Found 0 candidates for pattern ('**/*.s2rx',) in folder /media/filer2/T4/Clara/Data/Luisa/Rat239/opto_MT/right_only/Rat239_20240911\n",
      "\n"
     ]
    },
    {
     "data": {
      "text/plain": [
       "None"
      ]
     },
     "metadata": {},
     "output_type": "display_data"
    },
    {
     "name": "stdout",
     "output_type": "stream",
     "text": [
      "\n",
      "---------------------------------------------------------------------------\n",
      "Exception encountered at \"In [15]\":\n",
      "---------------------------------------------------------------------------\n",
      "FileNotFoundError                         Traceback (most recent call last)\n",
      "Cell In[15], line 3\n",
      "      1 for s in [\"Events.csv\", \"Fluorescence.csv\", \"Fluorescence-unaligned.csv\"]:\n",
      "      2     if not (fiber_folder/s).exists():\n",
      "----> 3         shutil.copy(singleglob(session_folder, f\"**/{s}\"), fiber_folder/s)\n",
      "\n",
      "File ~/Documents/helper/src/helper/main.py:30, in singleglob(p, error_string, only_ok, *patterns)\n",
      "     28     return len(all)==1\n",
      "     29 if len(all) >1:\n",
      "---> 30     raise FileNotFoundError(error_string.format(p=p, n=len(all), patterns=patterns))\n",
      "     31 if len(all) ==0:\n",
      "     32     raise FileNotFoundError(error_string.format(p=p, n=len(all), patterns=patterns))\n",
      "\n",
      "FileNotFoundError: Found 2 candidates for pattern ('**/Events.csv',) in folder /media/filer2/T4/Clara/Data/Luisa/Rat240/opto_MT/Rat240_20240730\n",
      "\n"
     ]
    },
    {
     "data": {
      "text/plain": [
       "None"
      ]
     },
     "metadata": {},
     "output_type": "display_data"
    },
    {
     "name": "stdout",
     "output_type": "stream",
     "text": [
      "\n",
      "---------------------------------------------------------------------------\n",
      "Exception encountered at \"In [15]\":\n",
      "---------------------------------------------------------------------------\n",
      "FileNotFoundError                         Traceback (most recent call last)\n",
      "Cell In[15], line 3\n",
      "      1 for s in [\"Events.csv\", \"Fluorescence.csv\", \"Fluorescence-unaligned.csv\"]:\n",
      "      2     if not (fiber_folder/s).exists():\n",
      "----> 3         shutil.copy(singleglob(session_folder, f\"**/{s}\"), fiber_folder/s)\n",
      "\n",
      "File ~/Documents/helper/src/helper/main.py:30, in singleglob(p, error_string, only_ok, *patterns)\n",
      "     28     return len(all)==1\n",
      "     29 if len(all) >1:\n",
      "---> 30     raise FileNotFoundError(error_string.format(p=p, n=len(all), patterns=patterns))\n",
      "     31 if len(all) ==0:\n",
      "     32     raise FileNotFoundError(error_string.format(p=p, n=len(all), patterns=patterns))\n",
      "\n",
      "FileNotFoundError: Found 2 candidates for pattern ('**/Events.csv',) in folder /media/filer2/T4/Clara/Data/Luisa/Rat241/opto_ALLTRIALS/Rat241_20240910\n",
      "\n"
     ]
    },
    {
     "data": {
      "text/plain": [
       "None"
      ]
     },
     "metadata": {},
     "output_type": "display_data"
    },
    {
     "name": "stdout",
     "output_type": "stream",
     "text": [
      "\n",
      "---------------------------------------------------------------------------\n",
      "Exception encountered at \"In [10]\":\n",
      "---------------------------------------------------------------------------\n",
      "FileNotFoundError                         Traceback (most recent call last)\n",
      "Cell In[10], line 1\n",
      "----> 1 dat_file = singleglob(session_folder, \"**/*.dat\")\n",
      "\n",
      "File ~/Documents/helper/src/helper/main.py:30, in singleglob(p, error_string, only_ok, *patterns)\n",
      "     28     return len(all)==1\n",
      "     29 if len(all) >1:\n",
      "---> 30     raise FileNotFoundError(error_string.format(p=p, n=len(all), patterns=patterns))\n",
      "     31 if len(all) ==0:\n",
      "     32     raise FileNotFoundError(error_string.format(p=p, n=len(all), patterns=patterns))\n",
      "\n",
      "FileNotFoundError: Found 2 candidates for pattern ('**/*.dat',) in folder /media/filer2/T4/Clara/Data/Luisa/Rat241/opto_CueRT/Rat241_20240905\n",
      "\n"
     ]
    },
    {
     "data": {
      "text/plain": [
       "None"
      ]
     },
     "metadata": {},
     "output_type": "display_data"
    },
    {
     "name": "stdout",
     "output_type": "stream",
     "text": [
      "\n",
      "---------------------------------------------------------------------------\n",
      "Exception encountered at \"In [10]\":\n",
      "---------------------------------------------------------------------------\n",
      "FileNotFoundError                         Traceback (most recent call last)\n",
      "Cell In[10], line 1\n",
      "----> 1 dat_file = singleglob(session_folder, \"**/*.dat\")\n",
      "\n",
      "File ~/Documents/helper/src/helper/main.py:30, in singleglob(p, error_string, only_ok, *patterns)\n",
      "     28     return len(all)==1\n",
      "     29 if len(all) >1:\n",
      "---> 30     raise FileNotFoundError(error_string.format(p=p, n=len(all), patterns=patterns))\n",
      "     31 if len(all) ==0:\n",
      "     32     raise FileNotFoundError(error_string.format(p=p, n=len(all), patterns=patterns))\n",
      "\n",
      "FileNotFoundError: Found 2 candidates for pattern ('**/*.dat',) in folder /media/filer2/T4/Clara/Data/Luisa/Rat246/opto_MT/Rat246_20240731\n",
      "\n"
     ]
    },
    {
     "data": {
      "text/plain": [
       "None"
      ]
     },
     "metadata": {},
     "output_type": "display_data"
    }
   ],
   "source": [
    "for s,e in errors:\n",
    "    display(print(e))"
   ]
  }
 ],
 "metadata": {
  "kernelspec": {
   "display_name": "dev",
   "language": "python",
   "name": "python3"
  },
  "language_info": {
   "codemirror_mode": {
    "name": "ipython",
    "version": 3
   },
   "file_extension": ".py",
   "mimetype": "text/x-python",
   "name": "python",
   "nbconvert_exporter": "python",
   "pygments_lexer": "ipython3",
   "version": "3.11.8"
  }
 },
 "nbformat": 4,
 "nbformat_minor": 2
}
