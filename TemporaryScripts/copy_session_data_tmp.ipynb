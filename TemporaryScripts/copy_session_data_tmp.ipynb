{
 "cells": [
  {
   "cell_type": "code",
   "execution_count": 1,
   "id": "62e936b8",
   "metadata": {
    "execution": {
     "iopub.execute_input": "2024-09-18T11:35:34.234713Z",
     "iopub.status.busy": "2024-09-18T11:35:34.234382Z",
     "iopub.status.idle": "2024-09-18T11:35:34.835400Z",
     "shell.execute_reply": "2024-09-18T11:35:34.835048Z"
    },
    "papermill": {
     "duration": 0.608914,
     "end_time": "2024-09-18T11:35:34.836379",
     "exception": false,
     "start_time": "2024-09-18T11:35:34.227465",
     "status": "completed"
    },
    "tags": []
   },
   "outputs": [],
   "source": [
    "import numpy as np, pandas as pd, xarray as xr\n",
    "from pathlib import Path\n",
    "import datetime, networkx as nx, yaml, warnings, sys, logging, shutil\n",
    "from disjoint_set import DisjointSet\n",
    "from helper import singleglob, nxrender, Step, dict_merge, PdfWriter, DictWriter, TableWriter, TextWriter\n",
    "import matplotlib.pyplot as plt\n",
    "import matplotlib as mpl, seaborn as sns"
   ]
  },
  {
   "cell_type": "code",
   "execution_count": 2,
   "id": "2689980e",
   "metadata": {
    "execution": {
     "iopub.execute_input": "2024-09-18T11:35:34.845630Z",
     "iopub.status.busy": "2024-09-18T11:35:34.845465Z",
     "iopub.status.idle": "2024-09-18T11:35:34.847621Z",
     "shell.execute_reply": "2024-09-18T11:35:34.847427Z"
    },
    "papermill": {
     "duration": 0.010909,
     "end_time": "2024-09-18T11:35:34.848434",
     "exception": false,
     "start_time": "2024-09-18T11:35:34.837525",
     "status": "completed"
    },
    "tags": [
     "parameters"
    ]
   },
   "outputs": [],
   "source": [
    "\n",
    "session_folder = _ #\"/media/filer2/T4/Clara/Data/Luisa/Rat101/opto_MT/Rat101_20240801/\"\n",
    "dest_folder = _ #\"/home/julienb/Documents/Data/Luisa/\"\n",
    "force = _ #False"
   ]
  },
  {
   "cell_type": "code",
   "execution_count": 3,
   "id": "0e627f93",
   "metadata": {
    "execution": {
     "iopub.execute_input": "2024-09-18T11:35:34.851353Z",
     "iopub.status.busy": "2024-09-18T11:35:34.851174Z",
     "iopub.status.idle": "2024-09-18T11:35:34.852715Z",
     "shell.execute_reply": "2024-09-18T11:35:34.852549Z"
    },
    "papermill": {
     "duration": 0.004029,
     "end_time": "2024-09-18T11:35:34.853555",
     "exception": false,
     "start_time": "2024-09-18T11:35:34.849526",
     "status": "completed"
    },
    "tags": [
     "injected-parameters"
    ]
   },
   "outputs": [],
   "source": [
    "# Parameters\n",
    "dest_folder = \"/home/julienb/Documents/Data/Luisa/Rat241/opto_MT/Session--Rat241_20240730\"\n",
    "session_folder = \"/media/filer2/T4/Clara/Data/Luisa/Rat241/opto_MT/Rat241_20240730\"\n"
   ]
  },
  {
   "cell_type": "code",
   "execution_count": 4,
   "id": "87b1910a",
   "metadata": {
    "execution": {
     "iopub.execute_input": "2024-09-18T11:35:34.856294Z",
     "iopub.status.busy": "2024-09-18T11:35:34.856143Z",
     "iopub.status.idle": "2024-09-18T11:35:34.859067Z",
     "shell.execute_reply": "2024-09-18T11:35:34.858901Z"
    },
    "papermill": {
     "duration": 0.005087,
     "end_time": "2024-09-18T11:35:34.859729",
     "exception": false,
     "start_time": "2024-09-18T11:35:34.854642",
     "status": "completed"
    },
    "tags": []
   },
   "outputs": [
    {
     "data": {
      "text/plain": [
       "(PosixPath('/media/filer2/T4/Clara/Data/Luisa/Rat241/opto_MT/Rat241_20240730'),\n",
       " PosixPath('/home/julienb/Documents/Data/Luisa/Rat241/opto_MT/Session--Rat241_20240730'),\n",
       " PosixPath('/home/julienb/Documents/Luisa/scripts_and_templates'))"
      ]
     },
     "execution_count": 4,
     "metadata": {},
     "output_type": "execute_result"
    }
   ],
   "source": [
    "session_folder = Path(session_folder)\n",
    "dest_folder =  Path(dest_folder) \n",
    "templates_folder = Path(\"..\").resolve()\n",
    "session_folder, dest_folder, templates_folder\n"
   ]
  },
  {
   "cell_type": "code",
   "execution_count": 5,
   "id": "662453a7",
   "metadata": {
    "execution": {
     "iopub.execute_input": "2024-09-18T11:35:34.862667Z",
     "iopub.status.busy": "2024-09-18T11:35:34.862446Z",
     "iopub.status.idle": "2024-09-18T11:35:34.864344Z",
     "shell.execute_reply": "2024-09-18T11:35:34.864119Z"
    },
    "papermill": {
     "duration": 0.004159,
     "end_time": "2024-09-18T11:35:34.865018",
     "exception": false,
     "start_time": "2024-09-18T11:35:34.860859",
     "status": "completed"
    },
    "tags": []
   },
   "outputs": [],
   "source": [
    "poly_folder = dest_folder / \"poly\"\n",
    "fiber_folder = dest_folder / \"fiber\"\n",
    "spike2_folder = dest_folder / \"spike2\"\n",
    "video_folder = dest_folder / \"video\"\n",
    "poly_folder.mkdir(exist_ok=True, parents=True)\n",
    "fiber_folder.mkdir(exist_ok=True, parents=True)\n",
    "spike2_folder.mkdir(exist_ok=True, parents=True)\n",
    "video_folder.mkdir(exist_ok=True, parents=True)\n"
   ]
  },
  {
   "cell_type": "code",
   "execution_count": 6,
   "id": "7df4b16b",
   "metadata": {
    "execution": {
     "iopub.execute_input": "2024-09-18T11:35:34.867759Z",
     "iopub.status.busy": "2024-09-18T11:35:34.867622Z",
     "iopub.status.idle": "2024-09-18T11:35:34.880061Z",
     "shell.execute_reply": "2024-09-18T11:35:34.879778Z"
    },
    "papermill": {
     "duration": 0.014815,
     "end_time": "2024-09-18T11:35:34.880960",
     "exception": false,
     "start_time": "2024-09-18T11:35:34.866145",
     "status": "completed"
    },
    "tags": []
   },
   "outputs": [
    {
     "data": {
      "text/plain": [
       "{'experimenter': {'name': 'Luisa Abels'},\n",
       " 'date': '2024/07/30',\n",
       " 'project_name': 'Dopa-Move',\n",
       " 'subject': {'name': 'Rat241',\n",
       "  'cre-line': 'TH-Cre',\n",
       "  'sex': 'F',\n",
       "  'handedness': 'Right',\n",
       "  'opsin': 'Jaws',\n",
       "  'opsin_injection_date': '2024/05/28',\n",
       "  'opsin_location': 'SNc'},\n",
       " 'recordings': {'fiber': {'channels': {'CH-1': {'brain_location': 'Left-DLS'},\n",
       "    'CH-2': {'brain_location': 'Right-DLS'}},\n",
       "   'tool': None},\n",
       "  'electrophy': None,\n",
       "  'behavior': 'Poly'},\n",
       " 'task': {'name': 'HF_55_RandomTrial_NoGoGo_Right_both_sound_nico_LaserJAWS_S1_MT1_1sec_NoPadCheck_2000',\n",
       "  'position': 'head-fixed',\n",
       "  'behavior': {'category': 'lever-press',\n",
       "   'cases': {'go': ['go', 'nogo'],\n",
       "    'mouvement': ['straight'],\n",
       "    'stimulation': [True]}},\n",
       "  'opto': {'name': None,\n",
       "   'laser_protocol': {'type': 'continuous',\n",
       "    'pulse_info': {'n_pulse': 4, 'frequency_Hz': 15}},\n",
       "   'laser_intensity_mW': 15,\n",
       "   'timing': {'event': 'pad_lift',\n",
       "    'start_rel_event_ms': 0,\n",
       "    'duration_ms': 1000,\n",
       "    'end_event': 'leverpress'}}},\n",
       " 'data_files': {'poly_dat_file': None,\n",
       "  'spike2_file': None,\n",
       "  'poly_task_file': None,\n",
       "  'fiber_event_file': None,\n",
       "  'fiber_recording_file': None,\n",
       "  'video_file': None}}"
      ]
     },
     "execution_count": 6,
     "metadata": {},
     "output_type": "execute_result"
    }
   ],
   "source": [
    "metadata_path = session_folder/\"metadata.yaml\"\n",
    "metadata = yaml.safe_load(metadata_path.open(\"r\"))\n",
    "metadata"
   ]
  },
  {
   "cell_type": "code",
   "execution_count": 7,
   "id": "6eb972a4",
   "metadata": {
    "execution": {
     "iopub.execute_input": "2024-09-18T11:35:34.885388Z",
     "iopub.status.busy": "2024-09-18T11:35:34.885274Z",
     "iopub.status.idle": "2024-09-18T11:35:34.888818Z",
     "shell.execute_reply": "2024-09-18T11:35:34.888531Z"
    },
    "papermill": {
     "duration": 0.006708,
     "end_time": "2024-09-18T11:35:34.889724",
     "exception": false,
     "start_time": "2024-09-18T11:35:34.883016",
     "status": "completed"
    },
    "tags": []
   },
   "outputs": [
    {
     "data": {
      "text/plain": [
       "{'experimenter': {'name': 'Luisa Abels'},\n",
       " 'date': '2024/07/30',\n",
       " 'project_name': 'Dopa-Move',\n",
       " 'subject': {'name': 'Rat241',\n",
       "  'cre-line': 'TH-Cre',\n",
       "  'sex': 'F',\n",
       "  'handedness': 'Right',\n",
       "  'opsin': 'Jaws',\n",
       "  'opsin_injection_date': '2024/05/28',\n",
       "  'opsin_location': 'SNc'},\n",
       " 'recordings': {'fiber': {'channels': {'CH-1': {'brain_location': 'Left-DLS'},\n",
       "    'CH-2': {'brain_location': 'Right-DLS'}}},\n",
       "  'electrophy': None,\n",
       "  'poly': {'valid_recording_intervals': [{'start': None, 'end': None}]}},\n",
       " 'task': {'name': 'HF_55_RandomTrial_NoGoGo_Right_both_sound_nico_LaserJAWS_S1_MT1_1sec_NoPadCheck_2000',\n",
       "  'position': 'head-fixed',\n",
       "  'opto': {'name': None,\n",
       "   'laser_protocol': {'type': 'continuous',\n",
       "    'pulse_info': {'n_pulse': 4, 'frequency_Hz': 15}},\n",
       "   'laser_intensity_mW': 15,\n",
       "   'timing': {'event': 'pad_lift',\n",
       "    'start_rel_event_ms': 0,\n",
       "    'duration_ms': 1000,\n",
       "    'end_event': 'leverpress'}},\n",
       "  'cue_location': {'LowPitch': 'Left', 'HighPitch': 'Left'}}}"
      ]
     },
     "execution_count": 7,
     "metadata": {},
     "output_type": "execute_result"
    }
   ],
   "source": [
    "del metadata[\"data_files\"]\n",
    "if \"behavior\" in metadata[\"task\"]:\n",
    "    del metadata[\"task\"][\"behavior\"]\n",
    "if \"behavior\" in metadata[\"recordings\"]:\n",
    "    del metadata[\"recordings\"][\"behavior\"]\n",
    "metadata[\"recordings\"][\"poly\"]={}\n",
    "del metadata[\"recordings\"][\"fiber\"][\"tool\"]\n",
    "metadata[\"recordings\"][\"poly\"][\"valid_recording_intervals\"] = [dict(start=None, end=None)]\n",
    "metadata[\"task\"][\"cue_location\"]=dict(LowPitch= \"Left\", HighPitch=\"Left\")\n",
    "metadata\n"
   ]
  },
  {
   "cell_type": "code",
   "execution_count": 8,
   "id": "f00d2801",
   "metadata": {
    "execution": {
     "iopub.execute_input": "2024-09-18T11:35:34.894213Z",
     "iopub.status.busy": "2024-09-18T11:35:34.894053Z",
     "iopub.status.idle": "2024-09-18T11:35:34.902853Z",
     "shell.execute_reply": "2024-09-18T11:35:34.902681Z"
    },
    "papermill": {
     "duration": 0.011786,
     "end_time": "2024-09-18T11:35:34.903568",
     "exception": false,
     "start_time": "2024-09-18T11:35:34.891782",
     "status": "completed"
    },
    "tags": []
   },
   "outputs": [
    {
     "data": {
      "text/plain": [
       "{'task': {'name': 'HF_55_RandomTrial_NoGoGo_Right_both_sound_nico_LaserJAWS_S1_MT1_1sec_NoPadCheck_2000',\n",
       "  'subject_position': 'head-fixed',\n",
       "  'cue_location': {'LowPitch': 'Right', 'HighPitch': 'Right'},\n",
       "  'events': {'poly': [{'detection': {'poly_line_num': 33},\n",
       "     'description': {'event': 'cue',\n",
       "      'trial_type': {'stimulation': 'None',\n",
       "       'go': False,\n",
       "       'cue': 'WhiteNoise'}}},\n",
       "    {'detection': {'poly_line_num': 41},\n",
       "     'description': {'event': 'cue',\n",
       "      'trial_type': {'stimulation': '1000ms', 'go': True, 'cue': 'LowPitch'}}},\n",
       "    {'detection': {'poly_line_num': 7},\n",
       "     'description': {'event': 'cue',\n",
       "      'trial_type': {'stimulation': 'None', 'go': True, 'cue': 'LowPitch'}}},\n",
       "    {'detection': {'poly_line_num': 12},\n",
       "     'description': {'event': 'cue',\n",
       "      'trial_type': {'stimulation': 'None', 'go': True, 'cue': 'HighPitch'}}},\n",
       "    {'detection': {'poly_name': 'MT'},\n",
       "     'description': {'event': 'mouvement_start'}},\n",
       "    {'detection': {'poly_line_num': [45, 11, 16, 34]},\n",
       "     'description': {'event': 'reward'}},\n",
       "    {'detection': {'poly_line_num': 3},\n",
       "     'description': {'event': 'trial_start'}},\n",
       "    {'detection': {'poly_name': 'MT\\\\d+', 'poly_ignore_name': 'erreur'},\n",
       "     'description': {'event': 'leverpress'}},\n",
       "    {'detection': {'poly_name': 'erreur'},\n",
       "     'description': {'event': 'error'}}]}}}"
      ]
     },
     "execution_count": 8,
     "metadata": {},
     "output_type": "execute_result"
    }
   ],
   "source": [
    "task  = metadata[\"task\"][\"name\"]\n",
    "try:\n",
    "    task_path = singleglob(session_folder, f\"*{task}*.xls\")\n",
    "except FileNotFoundError:\n",
    "    task_path = singleglob(templates_folder / \"PolyEventTemplates\",f\"*{task}*.xls\")\n",
    "task_poly_template = singleglob(templates_folder / \"PolyEventTemplates\",f\"*{task}*.yaml\")\n",
    "poly_template = yaml.safe_load(task_poly_template.open(\"r\"))\n",
    "poly_template\n"
   ]
  },
  {
   "cell_type": "code",
   "execution_count": 9,
   "id": "87e2f6e9",
   "metadata": {
    "execution": {
     "iopub.execute_input": "2024-09-18T11:35:34.906890Z",
     "iopub.status.busy": "2024-09-18T11:35:34.906746Z",
     "iopub.status.idle": "2024-09-18T11:35:34.911124Z",
     "shell.execute_reply": "2024-09-18T11:35:34.910906Z"
    },
    "papermill": {
     "duration": 0.006662,
     "end_time": "2024-09-18T11:35:34.911766",
     "exception": false,
     "start_time": "2024-09-18T11:35:34.905104",
     "status": "completed"
    },
    "tags": []
   },
   "outputs": [
    {
     "data": {
      "text/plain": [
       "[{'detection': {'name': 'Input1', 'duration_min': 0.13, 'duration_max': 0.17},\n",
       "  'description': {'event': 'cue',\n",
       "   'trial_type': {'stimulation': 'None',\n",
       "    'go': False,\n",
       "    'cue_type': 'WhiteNoise'}}},\n",
       " {'detection': {'name': 'Input1', 'duration_min': 0.18, 'duration_max': 0.22},\n",
       "  'description': {'event': 'cue',\n",
       "   'trial_type': {'stimulation': 'bilateral',\n",
       "    'go': True,\n",
       "    'cue_type': 'LowPitch'}}},\n",
       " {'detection': {'name': 'Input1', 'duration_min': 0.02, 'duration_max': 0.06},\n",
       "  'description': {'event': 'cue',\n",
       "   'trial_type': {'stimulation': 'None', 'go': True, 'cue_type': 'LowPitch'}}},\n",
       " {'detection': {'name': 'Input1', 'duration_min': 0.08, 'duration_max': 0.12},\n",
       "  'description': {'event': 'cue',\n",
       "   'trial_type': {'stimulation': 'None',\n",
       "    'go': True,\n",
       "    'cue_type': 'HighPitch'}}},\n",
       " {'detection': {'name': 'Input2'},\n",
       "  'description': {'event': 'mouvement_start'}},\n",
       " {'detection': {'name': 'Input3', 'duration_min': 0.13, 'duration_max': 0.17},\n",
       "  'description': {'event': 'reward', 'trial_type': {'go': False}}},\n",
       " {'detection': {'name': 'Input3', 'duration_min': 0.17},\n",
       "  'description': {'event': 'leverpress'}},\n",
       " {'detection': {'name': 'Input3', 'duration_max': 0.13},\n",
       "  'description': {'event': 'leverpress'}},\n",
       " {'detection': {'name': 'Input4'}, 'description': {'event': 'error'}}]"
      ]
     },
     "execution_count": 9,
     "metadata": {},
     "output_type": "execute_result"
    }
   ],
   "source": [
    "fiber_template = yaml.safe_load((templates_folder/\"fiber_event_template.yaml\").open(\"r\"))\n",
    "fiber_template"
   ]
  },
  {
   "cell_type": "markdown",
   "id": "48f4226d",
   "metadata": {
    "papermill": {
     "duration": 0.001351,
     "end_time": "2024-09-18T11:35:34.914573",
     "exception": false,
     "start_time": "2024-09-18T11:35:34.913222",
     "status": "completed"
    },
    "tags": []
   },
   "source": []
  },
  {
   "cell_type": "code",
   "execution_count": 10,
   "id": "50ec89b5",
   "metadata": {
    "execution": {
     "iopub.execute_input": "2024-09-18T11:35:34.917727Z",
     "iopub.status.busy": "2024-09-18T11:35:34.917614Z",
     "iopub.status.idle": "2024-09-18T11:35:34.926395Z",
     "shell.execute_reply": "2024-09-18T11:35:34.926230Z"
    },
    "papermill": {
     "duration": 0.011133,
     "end_time": "2024-09-18T11:35:34.927021",
     "exception": false,
     "start_time": "2024-09-18T11:35:34.915888",
     "status": "completed"
    },
    "tags": []
   },
   "outputs": [],
   "source": [
    "dat_file = singleglob(session_folder, \"**/*.dat\")"
   ]
  },
  {
   "cell_type": "code",
   "execution_count": 11,
   "id": "957c25bf",
   "metadata": {
    "execution": {
     "iopub.execute_input": "2024-09-18T11:35:34.930188Z",
     "iopub.status.busy": "2024-09-18T11:35:34.930049Z",
     "iopub.status.idle": "2024-09-18T11:35:34.962452Z",
     "shell.execute_reply": "2024-09-18T11:35:34.961769Z"
    },
    "papermill": {
     "duration": 0.035794,
     "end_time": "2024-09-18T11:35:34.964177",
     "exception": false,
     "start_time": "2024-09-18T11:35:34.928383",
     "status": "completed"
    },
    "tags": []
   },
   "outputs": [
    {
     "data": {
      "text/plain": [
       "{'experimenter': {'name': 'Luisa Abels'},\n",
       " 'date': '2024/07/30',\n",
       " 'project_name': 'Dopa-Move',\n",
       " 'subject': {'name': 'Rat241',\n",
       "  'cre-line': 'TH-Cre',\n",
       "  'sex': 'F',\n",
       "  'handedness': 'Right',\n",
       "  'opsin': 'Jaws',\n",
       "  'opsin_injection_date': '2024/05/28',\n",
       "  'opsin_location': 'SNc'},\n",
       " 'recordings': {'fiber': {'channels': {'CH-1': {'brain_location': 'Left-DLS'},\n",
       "    'CH-2': {'brain_location': 'Right-DLS'}}},\n",
       "  'electrophy': None,\n",
       "  'poly': {'valid_recording_intervals': [{'start': None, 'end': None}]}},\n",
       " 'task': {'name': 'HF_55_RandomTrial_NoGoGo_Right_both_sound_nico_LaserJAWS_S1_MT1_1sec_NoPadCheck_2000',\n",
       "  'position': 'head-fixed',\n",
       "  'opto': {'name': None,\n",
       "   'laser_protocol': {'type': 'continuous',\n",
       "    'pulse_info': {'n_pulse': 4, 'frequency_Hz': 15}},\n",
       "   'laser_intensity_mW': 15,\n",
       "   'timing': {'event': 'pad_lift',\n",
       "    'start_rel_event_ms': 0,\n",
       "    'duration_ms': 1000,\n",
       "    'end_event': 'leverpress'}},\n",
       "  'cue_location': {'LowPitch': 'Left', 'HighPitch': 'Left'},\n",
       "  'events': {'poly': [{'detection': {'poly_line_num': 33},\n",
       "     'description': {'event': 'cue',\n",
       "      'trial_type': {'stimulation': 'None',\n",
       "       'go': False,\n",
       "       'cue_type': 'WhiteNoise'}}},\n",
       "    {'detection': {'poly_line_num': 41},\n",
       "     'description': {'event': 'cue',\n",
       "      'trial_type': {'stimulation': 'bilateral',\n",
       "       'go': True,\n",
       "       'cue_type': 'LowPitch'}}},\n",
       "    {'detection': {'poly_line_num': 7},\n",
       "     'description': {'event': 'cue',\n",
       "      'trial_type': {'stimulation': 'None',\n",
       "       'go': True,\n",
       "       'cue_type': 'LowPitch'}}},\n",
       "    {'detection': {'poly_line_num': 12},\n",
       "     'description': {'event': 'cue',\n",
       "      'trial_type': {'stimulation': 'None',\n",
       "       'go': True,\n",
       "       'cue_type': 'HighPitch'}}},\n",
       "    {'detection': {'poly_name': 'MT'},\n",
       "     'description': {'event': 'mouvement_start'}},\n",
       "    {'detection': {'poly_line_num': [45, 11, 16, 34]},\n",
       "     'description': {'event': 'reward'}},\n",
       "    {'detection': {'poly_line_num': 3},\n",
       "     'description': {'event': 'trial_start'}},\n",
       "    {'detection': {'poly_name': 'MT\\\\d+', 'poly_ignore_name': 'erreur'},\n",
       "     'description': {'event': 'leverpress'}},\n",
       "    {'detection': {'poly_name': 'erreur'}, 'description': {'event': 'error'}},\n",
       "    {'description': {'event': 'trial_end'},\n",
       "     'detection': {'poly_line_num': 1}}],\n",
       "   'fiber': [{'detection': {'name': 'Input1',\n",
       "      'duration_min': 0.13,\n",
       "      'duration_max': 0.17},\n",
       "     'description': {'event': 'cue',\n",
       "      'trial_type': {'stimulation': 'None',\n",
       "       'go': False,\n",
       "       'cue_type': 'WhiteNoise'}}},\n",
       "    {'detection': {'name': 'Input1',\n",
       "      'duration_min': 0.18,\n",
       "      'duration_max': 0.22},\n",
       "     'description': {'event': 'cue',\n",
       "      'trial_type': {'stimulation': 'bilateral',\n",
       "       'go': True,\n",
       "       'cue_type': 'LowPitch'}}},\n",
       "    {'detection': {'name': 'Input1',\n",
       "      'duration_min': 0.02,\n",
       "      'duration_max': 0.06},\n",
       "     'description': {'event': 'cue',\n",
       "      'trial_type': {'stimulation': 'None',\n",
       "       'go': True,\n",
       "       'cue_type': 'LowPitch'}}},\n",
       "    {'detection': {'name': 'Input1',\n",
       "      'duration_min': 0.08,\n",
       "      'duration_max': 0.12},\n",
       "     'description': {'event': 'cue',\n",
       "      'trial_type': {'stimulation': 'None',\n",
       "       'go': True,\n",
       "       'cue_type': 'HighPitch'}}},\n",
       "    {'detection': {'name': 'Input2'},\n",
       "     'description': {'event': 'mouvement_start'}},\n",
       "    {'detection': {'name': 'Input3',\n",
       "      'duration_min': 0.13,\n",
       "      'duration_max': 0.17},\n",
       "     'description': {'event': 'reward', 'trial_type': {'go': False}}},\n",
       "    {'detection': {'name': 'Input3', 'duration_min': 0.17},\n",
       "     'description': {'event': 'leverpress'}},\n",
       "    {'detection': {'name': 'Input3', 'duration_max': 0.13},\n",
       "     'description': {'event': 'leverpress'}},\n",
       "    {'detection': {'name': 'Input4'}, 'description': {'event': 'error'}}]}}}"
      ]
     },
     "execution_count": 11,
     "metadata": {},
     "output_type": "execute_result"
    }
   ],
   "source": [
    "task_template = poly_template[\"task\"][\"events\"][\"poly\"]\n",
    "for d in task_template:\n",
    "    if \"trial_type\" in d[\"description\"]:\n",
    "        d[\"description\"][\"trial_type\"][\"cue_type\"] = d[\"description\"][\"trial_type\"][\"cue\"]\n",
    "        if str(d[\"description\"][\"trial_type\"][\"stimulation\"]).endswith(\"ms\") or str(d[\"description\"][\"trial_type\"][\"stimulation\"]).endswith(\"Hz\"):\n",
    "            d[\"description\"][\"trial_type\"][\"stimulation\"] = \"bilateral\"\n",
    "        del d[\"description\"][\"trial_type\"][\"cue\"]\n",
    "task_template.append(yaml.safe_load(\n",
    "\"\"\"\n",
    "description:\n",
    "  event: trial_end\n",
    "detection:\n",
    "  poly_line_num: 1\n",
    "\"\"\"\n",
    "))\n",
    "\n",
    "metadata[\"task\"][\"events\"] = dict(poly=task_template, fiber=fiber_template)\n",
    "metadata[\"date\"] = datetime.datetime.strptime(dat_file.open(\"r\").read(10), \"%d/%m/%Y\").strftime('%Y/%m/%d')\n",
    "metadata"
   ]
  },
  {
   "cell_type": "code",
   "execution_count": 12,
   "id": "2409d350",
   "metadata": {
    "execution": {
     "iopub.execute_input": "2024-09-18T11:35:34.971992Z",
     "iopub.status.busy": "2024-09-18T11:35:34.971848Z",
     "iopub.status.idle": "2024-09-18T11:35:34.977773Z",
     "shell.execute_reply": "2024-09-18T11:35:34.977564Z"
    },
    "papermill": {
     "duration": 0.010183,
     "end_time": "2024-09-18T11:35:34.978313",
     "exception": false,
     "start_time": "2024-09-18T11:35:34.968130",
     "status": "completed"
    },
    "tags": []
   },
   "outputs": [],
   "source": [
    "yaml.safe_dump(metadata, (dest_folder / \"metadata.yaml\").open(\"w\"), sort_keys=False)"
   ]
  },
  {
   "cell_type": "code",
   "execution_count": 13,
   "id": "1a6e7723",
   "metadata": {
    "execution": {
     "iopub.execute_input": "2024-09-18T11:35:34.981884Z",
     "iopub.status.busy": "2024-09-18T11:35:34.981755Z",
     "iopub.status.idle": "2024-09-18T11:35:34.983290Z",
     "shell.execute_reply": "2024-09-18T11:35:34.983093Z"
    },
    "papermill": {
     "duration": 0.003871,
     "end_time": "2024-09-18T11:35:34.983763",
     "exception": false,
     "start_time": "2024-09-18T11:35:34.979892",
     "status": "completed"
    },
    "tags": []
   },
   "outputs": [],
   "source": [
    "if not (poly_folder/f\"task -- {task_path.name}\").exists():\n",
    "    shutil.copy(task_path, poly_folder/f\"task -- {task_path.name}\")\n"
   ]
  },
  {
   "cell_type": "code",
   "execution_count": 14,
   "id": "3a1f7879",
   "metadata": {
    "execution": {
     "iopub.execute_input": "2024-09-18T11:35:34.987148Z",
     "iopub.status.busy": "2024-09-18T11:35:34.987018Z",
     "iopub.status.idle": "2024-09-18T11:35:34.997302Z",
     "shell.execute_reply": "2024-09-18T11:35:34.997045Z"
    },
    "papermill": {
     "duration": 0.012873,
     "end_time": "2024-09-18T11:35:34.998132",
     "exception": false,
     "start_time": "2024-09-18T11:35:34.985259",
     "status": "completed"
    },
    "tags": []
   },
   "outputs": [],
   "source": [
    "dat_file = singleglob(session_folder, \"**/*.dat\")\n",
    "if not (poly_folder/f\"events -- {dat_file.name}\").exists():\n",
    "    shutil.copy(dat_file, poly_folder/f\"events -- {dat_file.name}\")"
   ]
  },
  {
   "cell_type": "code",
   "execution_count": 15,
   "id": "ba3ffae9",
   "metadata": {
    "execution": {
     "iopub.execute_input": "2024-09-18T11:35:35.002953Z",
     "iopub.status.busy": "2024-09-18T11:35:35.002831Z",
     "iopub.status.idle": "2024-09-18T11:35:35.004656Z",
     "shell.execute_reply": "2024-09-18T11:35:35.004441Z"
    },
    "papermill": {
     "duration": 0.004784,
     "end_time": "2024-09-18T11:35:35.005265",
     "exception": false,
     "start_time": "2024-09-18T11:35:35.000481",
     "status": "completed"
    },
    "tags": []
   },
   "outputs": [],
   "source": [
    "for s in [\"Events.csv\", \"Fluorescence.csv\", \"Fluorescence-unaligned.csv\"]:\n",
    "    if not (fiber_folder/s).exists():\n",
    "        shutil.copy(singleglob(session_folder, f\"**/{s}\"), fiber_folder/s)"
   ]
  },
  {
   "cell_type": "code",
   "execution_count": 16,
   "id": "0c8cc987",
   "metadata": {
    "execution": {
     "iopub.execute_input": "2024-09-18T11:35:35.009310Z",
     "iopub.status.busy": "2024-09-18T11:35:35.009166Z",
     "iopub.status.idle": "2024-09-18T11:35:35.027659Z",
     "shell.execute_reply": "2024-09-18T11:35:35.026915Z"
    },
    "papermill": {
     "duration": 0.022649,
     "end_time": "2024-09-18T11:35:35.029814",
     "exception": false,
     "start_time": "2024-09-18T11:35:35.007165",
     "status": "completed"
    },
    "tags": []
   },
   "outputs": [],
   "source": [
    "for f in session_folder.glob(\"**/*.sea\"):\n",
    "    if not (poly_folder / f.name).exists():\n",
    "        shutil.copy(f, poly_folder / f.name)\n",
    "for f in session_folder.glob(\"**/*.cpt\"):\n",
    "    if not (poly_folder / f.name).exists():\n",
    "        shutil.copy(f, poly_folder / f.name)"
   ]
  },
  {
   "cell_type": "code",
   "execution_count": 17,
   "id": "d5586516",
   "metadata": {
    "execution": {
     "iopub.execute_input": "2024-09-18T11:35:35.040446Z",
     "iopub.status.busy": "2024-09-18T11:35:35.040201Z",
     "iopub.status.idle": "2024-09-18T11:35:35.059843Z",
     "shell.execute_reply": "2024-09-18T11:35:35.058756Z"
    },
    "papermill": {
     "duration": 0.02666,
     "end_time": "2024-09-18T11:35:35.062087",
     "exception": false,
     "start_time": "2024-09-18T11:35:35.035427",
     "status": "completed"
    },
    "tags": []
   },
   "outputs": [],
   "source": [
    "sr2x = singleglob(session_folder, \"**/*.s2rx\")\n",
    "if not (spike2_folder/f\"channel_metadata -- {sr2x.name}\").exists():\n",
    "    shutil.copy(sr2x, spike2_folder/f\"channel_metadata -- {sr2x.name}\")\n",
    "smrx = singleglob(session_folder, \"**/*.smrx\")\n",
    "if not (spike2_folder/f\"channel_data -- {sr2x.name}\").exists():\n",
    "    shutil.copy(smrx, spike2_folder/f\"channel_data -- {sr2x.name}\")"
   ]
  },
  {
   "cell_type": "code",
   "execution_count": 18,
   "id": "23b337c1",
   "metadata": {
    "execution": {
     "iopub.execute_input": "2024-09-18T11:35:35.072102Z",
     "iopub.status.busy": "2024-09-18T11:35:35.071913Z",
     "iopub.status.idle": "2024-09-18T11:35:35.074763Z",
     "shell.execute_reply": "2024-09-18T11:35:35.074342Z"
    },
    "papermill": {
     "duration": 0.008708,
     "end_time": "2024-09-18T11:35:35.075992",
     "exception": false,
     "start_time": "2024-09-18T11:35:35.067284",
     "status": "completed"
    },
    "tags": []
   },
   "outputs": [],
   "source": [
    "analysis_folder = dest_folder / \"analysis\"\n",
    "analysis_folder.mkdir(exist_ok=True, parents=True)\n"
   ]
  }
 ],
 "metadata": {
  "kernelspec": {
   "display_name": "dev",
   "language": "python",
   "name": "python3"
  },
  "language_info": {
   "codemirror_mode": {
    "name": "ipython",
    "version": 3
   },
   "file_extension": ".py",
   "mimetype": "text/x-python",
   "name": "python",
   "nbconvert_exporter": "python",
   "pygments_lexer": "ipython3",
   "version": "3.11.8"
  },
  "papermill": {
   "default_parameters": {},
   "duration": null,
   "end_time": null,
   "environment_variables": {},
   "exception": null,
   "input_path": "copy_session_data.ipynb",
   "output_path": "copy_session_data_tmp.ipynb",
   "parameters": {
    "dest_folder": "/home/julienb/Documents/Data/Luisa/Rat241/opto_MT/Session--Rat241_20240730",
    "session_folder": "/media/filer2/T4/Clara/Data/Luisa/Rat241/opto_MT/Rat241_20240730"
   },
   "start_time": "2024-09-18T11:35:33.721421",
   "version": "2.6.0"
  }
 },
 "nbformat": 4,
 "nbformat_minor": 5
}