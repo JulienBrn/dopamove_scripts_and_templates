{
 "cells": [
  {
   "cell_type": "code",
   "execution_count": 1,
   "id": "000c1971",
   "metadata": {
    "execution": {
     "iopub.execute_input": "2024-09-18T11:37:07.611383Z",
     "iopub.status.busy": "2024-09-18T11:37:07.611205Z",
     "iopub.status.idle": "2024-09-18T11:37:08.213418Z",
     "shell.execute_reply": "2024-09-18T11:37:08.213029Z"
    },
    "papermill": {
     "duration": 0.609702,
     "end_time": "2024-09-18T11:37:08.214349",
     "exception": false,
     "start_time": "2024-09-18T11:37:07.604647",
     "status": "completed"
    },
    "tags": []
   },
   "outputs": [],
   "source": [
    "import numpy as np, pandas as pd, xarray as xr\n",
    "from pathlib import Path\n",
    "import datetime, networkx as nx, yaml, warnings, sys, logging, shutil\n",
    "from disjoint_set import DisjointSet\n",
    "from helper import singleglob, nxrender, Step, dict_merge, PdfWriter, DictWriter, TableWriter, TextWriter\n",
    "import matplotlib.pyplot as plt\n",
    "import matplotlib as mpl, seaborn as sns"
   ]
  },
  {
   "cell_type": "code",
   "execution_count": 2,
   "id": "23ed1e89",
   "metadata": {
    "execution": {
     "iopub.execute_input": "2024-09-18T11:37:08.223515Z",
     "iopub.status.busy": "2024-09-18T11:37:08.223325Z",
     "iopub.status.idle": "2024-09-18T11:37:08.225395Z",
     "shell.execute_reply": "2024-09-18T11:37:08.225055Z"
    },
    "papermill": {
     "duration": 0.010458,
     "end_time": "2024-09-18T11:37:08.225998",
     "exception": false,
     "start_time": "2024-09-18T11:37:08.215540",
     "status": "completed"
    },
    "tags": [
     "parameters"
    ]
   },
   "outputs": [],
   "source": [
    "\n",
    "session_folder = _ #\"/media/filer2/T4/Clara/Data/Luisa/Rat101/opto_MT/Rat101_20240801/\"\n",
    "dest_folder = _ #\"/home/julienb/Documents/Data/Luisa/\"\n",
    "force = _ #False"
   ]
  },
  {
   "cell_type": "code",
   "execution_count": 3,
   "id": "82f12b6e",
   "metadata": {
    "execution": {
     "iopub.execute_input": "2024-09-18T11:37:08.228625Z",
     "iopub.status.busy": "2024-09-18T11:37:08.228534Z",
     "iopub.status.idle": "2024-09-18T11:37:08.230180Z",
     "shell.execute_reply": "2024-09-18T11:37:08.229966Z"
    },
    "papermill": {
     "duration": 0.003707,
     "end_time": "2024-09-18T11:37:08.230741",
     "exception": false,
     "start_time": "2024-09-18T11:37:08.227034",
     "status": "completed"
    },
    "tags": [
     "injected-parameters"
    ]
   },
   "outputs": [],
   "source": [
    "# Parameters\n",
    "dest_folder = \"/home/julienb/Documents/Data/Luisa/Rat246/opto_MT/Session--Rat246_20240807\"\n",
    "session_folder = \"/media/filer2/T4/Clara/Data/Luisa/Rat246/opto_MT/Rat246_20240807\"\n"
   ]
  },
  {
   "cell_type": "code",
   "execution_count": 4,
   "id": "ba40bc08",
   "metadata": {
    "execution": {
     "iopub.execute_input": "2024-09-18T11:37:08.233351Z",
     "iopub.status.busy": "2024-09-18T11:37:08.233181Z",
     "iopub.status.idle": "2024-09-18T11:37:08.236566Z",
     "shell.execute_reply": "2024-09-18T11:37:08.236279Z"
    },
    "papermill": {
     "duration": 0.0055,
     "end_time": "2024-09-18T11:37:08.237284",
     "exception": false,
     "start_time": "2024-09-18T11:37:08.231784",
     "status": "completed"
    },
    "tags": []
   },
   "outputs": [
    {
     "data": {
      "text/plain": [
       "(PosixPath('/media/filer2/T4/Clara/Data/Luisa/Rat246/opto_MT/Rat246_20240807'),\n",
       " PosixPath('/home/julienb/Documents/Data/Luisa/Rat246/opto_MT/Session--Rat246_20240807'),\n",
       " PosixPath('/home/julienb/Documents/Luisa/scripts_and_templates'))"
      ]
     },
     "execution_count": 4,
     "metadata": {},
     "output_type": "execute_result"
    }
   ],
   "source": [
    "session_folder = Path(session_folder)\n",
    "dest_folder =  Path(dest_folder) \n",
    "templates_folder = Path(\"..\").resolve()\n",
    "session_folder, dest_folder, templates_folder\n"
   ]
  },
  {
   "cell_type": "code",
   "execution_count": 5,
   "id": "8534fe32",
   "metadata": {
    "execution": {
     "iopub.execute_input": "2024-09-18T11:37:08.241049Z",
     "iopub.status.busy": "2024-09-18T11:37:08.240945Z",
     "iopub.status.idle": "2024-09-18T11:37:08.243292Z",
     "shell.execute_reply": "2024-09-18T11:37:08.242993Z"
    },
    "papermill": {
     "duration": 0.005154,
     "end_time": "2024-09-18T11:37:08.243991",
     "exception": false,
     "start_time": "2024-09-18T11:37:08.238837",
     "status": "completed"
    },
    "tags": []
   },
   "outputs": [],
   "source": [
    "poly_folder = dest_folder / \"poly\"\n",
    "fiber_folder = dest_folder / \"fiber\"\n",
    "spike2_folder = dest_folder / \"spike2\"\n",
    "video_folder = dest_folder / \"video\"\n",
    "poly_folder.mkdir(exist_ok=True, parents=True)\n",
    "fiber_folder.mkdir(exist_ok=True, parents=True)\n",
    "spike2_folder.mkdir(exist_ok=True, parents=True)\n",
    "video_folder.mkdir(exist_ok=True, parents=True)\n"
   ]
  },
  {
   "cell_type": "code",
   "execution_count": 6,
   "id": "0ea67cb2",
   "metadata": {
    "execution": {
     "iopub.execute_input": "2024-09-18T11:37:08.247392Z",
     "iopub.status.busy": "2024-09-18T11:37:08.247301Z",
     "iopub.status.idle": "2024-09-18T11:37:08.261765Z",
     "shell.execute_reply": "2024-09-18T11:37:08.261328Z"
    },
    "papermill": {
     "duration": 0.017204,
     "end_time": "2024-09-18T11:37:08.262781",
     "exception": false,
     "start_time": "2024-09-18T11:37:08.245577",
     "status": "completed"
    },
    "tags": []
   },
   "outputs": [
    {
     "data": {
      "text/plain": [
       "{'experimenter': {'name': 'Luisa Abels'},\n",
       " 'date': '2024/08/07',\n",
       " 'project_name': 'Dopa-Move',\n",
       " 'subject': {'name': 'Rat246',\n",
       "  'cre-line': 'TH-Cre',\n",
       "  'sex': 'F',\n",
       "  'handedness': 'Left',\n",
       "  'opsin': 'Jaws',\n",
       "  'opsin_injection_date': '2024/06',\n",
       "  'opsin_location': 'SNc'},\n",
       " 'recordings': {'fiber': {'channels': {'CH-1': {'brain_location': 'Left-DLS'},\n",
       "    'CH-2': {'brain_location': 'Right-DLS'}},\n",
       "   'tool': None},\n",
       "  'electrophy': None,\n",
       "  'behavior': 'Poly'},\n",
       " 'task': {'name': 'HF_55_RandomTrial_NoGoGo_left_both_sound_nico_LaserJAWS_S1_MT1_1sec_NoPadCheck_3000',\n",
       "  'position': 'head-fixed',\n",
       "  'behavior': {'category': 'lever-press',\n",
       "   'cases': {'go': ['go', 'nogo'],\n",
       "    'mouvement': ['straight'],\n",
       "    'stimulation': [True]}},\n",
       "  'opto': {'name': None,\n",
       "   'laser_protocol': {'type': 'continuous',\n",
       "    'pulse_info': {'n_pulse': 4, 'frequency_Hz': 15}},\n",
       "   'laser_intensity_mW': 15,\n",
       "   'timing': {'event': 'pad_lift',\n",
       "    'start_rel_event_ms': 0,\n",
       "    'duration_ms': 1000,\n",
       "    'end_event': 'leverpress'}}},\n",
       " 'data_files': {'poly_dat_file': None,\n",
       "  'spike2_file': None,\n",
       "  'poly_task_file': None,\n",
       "  'fiber_event_file': None,\n",
       "  'fiber_recording_file': None,\n",
       "  'video_file': None}}"
      ]
     },
     "execution_count": 6,
     "metadata": {},
     "output_type": "execute_result"
    }
   ],
   "source": [
    "metadata_path = session_folder/\"metadata.yaml\"\n",
    "metadata = yaml.safe_load(metadata_path.open(\"r\"))\n",
    "metadata"
   ]
  },
  {
   "cell_type": "code",
   "execution_count": 7,
   "id": "124f55ec",
   "metadata": {
    "execution": {
     "iopub.execute_input": "2024-09-18T11:37:08.268114Z",
     "iopub.status.busy": "2024-09-18T11:37:08.267982Z",
     "iopub.status.idle": "2024-09-18T11:37:08.272677Z",
     "shell.execute_reply": "2024-09-18T11:37:08.272260Z"
    },
    "papermill": {
     "duration": 0.008372,
     "end_time": "2024-09-18T11:37:08.273696",
     "exception": false,
     "start_time": "2024-09-18T11:37:08.265324",
     "status": "completed"
    },
    "tags": []
   },
   "outputs": [
    {
     "data": {
      "text/plain": [
       "{'experimenter': {'name': 'Luisa Abels'},\n",
       " 'date': '2024/08/07',\n",
       " 'project_name': 'Dopa-Move',\n",
       " 'subject': {'name': 'Rat246',\n",
       "  'cre-line': 'TH-Cre',\n",
       "  'sex': 'F',\n",
       "  'handedness': 'Left',\n",
       "  'opsin': 'Jaws',\n",
       "  'opsin_injection_date': '2024/06',\n",
       "  'opsin_location': 'SNc'},\n",
       " 'recordings': {'fiber': {'channels': {'CH-1': {'brain_location': 'Left-DLS'},\n",
       "    'CH-2': {'brain_location': 'Right-DLS'}}},\n",
       "  'electrophy': None,\n",
       "  'poly': {'valid_recording_intervals': [{'start': None, 'end': None}]}},\n",
       " 'task': {'name': 'HF_55_RandomTrial_NoGoGo_left_both_sound_nico_LaserJAWS_S1_MT1_1sec_NoPadCheck_3000',\n",
       "  'position': 'head-fixed',\n",
       "  'opto': {'name': None,\n",
       "   'laser_protocol': {'type': 'continuous',\n",
       "    'pulse_info': {'n_pulse': 4, 'frequency_Hz': 15}},\n",
       "   'laser_intensity_mW': 15,\n",
       "   'timing': {'event': 'pad_lift',\n",
       "    'start_rel_event_ms': 0,\n",
       "    'duration_ms': 1000,\n",
       "    'end_event': 'leverpress'}},\n",
       "  'cue_location': {'LowPitch': 'Left', 'HighPitch': 'Left'}}}"
      ]
     },
     "execution_count": 7,
     "metadata": {},
     "output_type": "execute_result"
    }
   ],
   "source": [
    "del metadata[\"data_files\"]\n",
    "if \"behavior\" in metadata[\"task\"]:\n",
    "    del metadata[\"task\"][\"behavior\"]\n",
    "if \"behavior\" in metadata[\"recordings\"]:\n",
    "    del metadata[\"recordings\"][\"behavior\"]\n",
    "metadata[\"recordings\"][\"poly\"]={}\n",
    "del metadata[\"recordings\"][\"fiber\"][\"tool\"]\n",
    "metadata[\"recordings\"][\"poly\"][\"valid_recording_intervals\"] = [dict(start=None, end=None)]\n",
    "metadata[\"task\"][\"cue_location\"]=dict(LowPitch= \"Left\", HighPitch=\"Left\")\n",
    "metadata\n"
   ]
  },
  {
   "cell_type": "code",
   "execution_count": 8,
   "id": "fa571184",
   "metadata": {
    "execution": {
     "iopub.execute_input": "2024-09-18T11:37:08.279276Z",
     "iopub.status.busy": "2024-09-18T11:37:08.279090Z",
     "iopub.status.idle": "2024-09-18T11:37:08.294117Z",
     "shell.execute_reply": "2024-09-18T11:37:08.293740Z"
    },
    "papermill": {
     "duration": 0.019302,
     "end_time": "2024-09-18T11:37:08.295185",
     "exception": false,
     "start_time": "2024-09-18T11:37:08.275883",
     "status": "completed"
    },
    "tags": []
   },
   "outputs": [
    {
     "data": {
      "text/plain": [
       "{'task': {'name': 'HF_55_RandomTrial_NoGoGo_left_both_sound_nico_LaserJAWS_S1_MT1_1sec_NoPadCheck_3000',\n",
       "  'subject_position': 'head-fixed',\n",
       "  'cue_location': {'LowPitch': 'Left', 'HighPitch': 'Left'},\n",
       "  'events': {'poly': [{'detection': {'poly_line_num': 33},\n",
       "     'description': {'event': 'cue',\n",
       "      'trial_type': {'stimulation': 'None',\n",
       "       'go': False,\n",
       "       'cue': 'WhiteNoise'}}},\n",
       "    {'detection': {'poly_line_num': 41},\n",
       "     'description': {'event': 'cue',\n",
       "      'trial_type': {'stimulation': '1000ms', 'go': True, 'cue': 'LowPitch'}}},\n",
       "    {'detection': {'poly_line_num': 7},\n",
       "     'description': {'event': 'cue',\n",
       "      'trial_type': {'stimulation': 'None', 'go': True, 'cue': 'LowPitch'}}},\n",
       "    {'detection': {'poly_line_num': 12},\n",
       "     'description': {'event': 'cue',\n",
       "      'trial_type': {'stimulation': 'None', 'go': True, 'cue': 'HighPitch'}}},\n",
       "    {'detection': {'poly_name': 'MT'},\n",
       "     'description': {'event': 'mouvement_start'}},\n",
       "    {'detection': {'poly_line_num': [45, 11, 16, 34]},\n",
       "     'description': {'event': 'reward'}},\n",
       "    {'detection': {'poly_line_num': 3},\n",
       "     'description': {'event': 'trial_start'}},\n",
       "    {'detection': {'poly_name': 'MT\\\\d+', 'poly_ignore_name': 'erreur'},\n",
       "     'description': {'event': 'leverpress'}},\n",
       "    {'detection': {'poly_name': 'erreur'},\n",
       "     'description': {'event': 'error'}}]}}}"
      ]
     },
     "execution_count": 8,
     "metadata": {},
     "output_type": "execute_result"
    }
   ],
   "source": [
    "task  = metadata[\"task\"][\"name\"]\n",
    "try:\n",
    "    task_path = singleglob(session_folder, f\"*{task}*.xls\")\n",
    "except FileNotFoundError:\n",
    "    task_path = singleglob(templates_folder / \"PolyEventTemplates\",f\"*{task}*.xls\")\n",
    "task_poly_template = singleglob(templates_folder / \"PolyEventTemplates\",f\"*{task}*.yaml\")\n",
    "poly_template = yaml.safe_load(task_poly_template.open(\"r\"))\n",
    "poly_template\n"
   ]
  },
  {
   "cell_type": "code",
   "execution_count": 9,
   "id": "1205f33a",
   "metadata": {
    "execution": {
     "iopub.execute_input": "2024-09-18T11:37:08.300311Z",
     "iopub.status.busy": "2024-09-18T11:37:08.300193Z",
     "iopub.status.idle": "2024-09-18T11:37:08.305063Z",
     "shell.execute_reply": "2024-09-18T11:37:08.304875Z"
    },
    "papermill": {
     "duration": 0.007965,
     "end_time": "2024-09-18T11:37:08.305609",
     "exception": false,
     "start_time": "2024-09-18T11:37:08.297644",
     "status": "completed"
    },
    "tags": []
   },
   "outputs": [
    {
     "data": {
      "text/plain": [
       "[{'detection': {'name': 'Input1', 'duration_min': 0.13, 'duration_max': 0.17},\n",
       "  'description': {'event': 'cue',\n",
       "   'trial_type': {'stimulation': 'None',\n",
       "    'go': False,\n",
       "    'cue_type': 'WhiteNoise'}}},\n",
       " {'detection': {'name': 'Input1', 'duration_min': 0.18, 'duration_max': 0.22},\n",
       "  'description': {'event': 'cue',\n",
       "   'trial_type': {'stimulation': 'bilateral',\n",
       "    'go': True,\n",
       "    'cue_type': 'LowPitch'}}},\n",
       " {'detection': {'name': 'Input1', 'duration_min': 0.02, 'duration_max': 0.06},\n",
       "  'description': {'event': 'cue',\n",
       "   'trial_type': {'stimulation': 'None', 'go': True, 'cue_type': 'LowPitch'}}},\n",
       " {'detection': {'name': 'Input1', 'duration_min': 0.08, 'duration_max': 0.12},\n",
       "  'description': {'event': 'cue',\n",
       "   'trial_type': {'stimulation': 'None',\n",
       "    'go': True,\n",
       "    'cue_type': 'HighPitch'}}},\n",
       " {'detection': {'name': 'Input2'},\n",
       "  'description': {'event': 'mouvement_start'}},\n",
       " {'detection': {'name': 'Input3', 'duration_min': 0.13, 'duration_max': 0.17},\n",
       "  'description': {'event': 'reward', 'trial_type': {'go': False}}},\n",
       " {'detection': {'name': 'Input3', 'duration_min': 0.17},\n",
       "  'description': {'event': 'leverpress'}},\n",
       " {'detection': {'name': 'Input3', 'duration_max': 0.13},\n",
       "  'description': {'event': 'leverpress'}},\n",
       " {'detection': {'name': 'Input4'}, 'description': {'event': 'error'}}]"
      ]
     },
     "execution_count": 9,
     "metadata": {},
     "output_type": "execute_result"
    }
   ],
   "source": [
    "fiber_template = yaml.safe_load((templates_folder/\"fiber_event_template.yaml\").open(\"r\"))\n",
    "fiber_template"
   ]
  },
  {
   "cell_type": "markdown",
   "id": "451b9191",
   "metadata": {
    "papermill": {
     "duration": 0.001302,
     "end_time": "2024-09-18T11:37:08.308265",
     "exception": false,
     "start_time": "2024-09-18T11:37:08.306963",
     "status": "completed"
    },
    "tags": []
   },
   "source": []
  },
  {
   "cell_type": "code",
   "execution_count": 10,
   "id": "03ba92b1",
   "metadata": {
    "execution": {
     "iopub.execute_input": "2024-09-18T11:37:08.311501Z",
     "iopub.status.busy": "2024-09-18T11:37:08.311358Z",
     "iopub.status.idle": "2024-09-18T11:37:08.330258Z",
     "shell.execute_reply": "2024-09-18T11:37:08.329779Z"
    },
    "papermill": {
     "duration": 0.022077,
     "end_time": "2024-09-18T11:37:08.331619",
     "exception": false,
     "start_time": "2024-09-18T11:37:08.309542",
     "status": "completed"
    },
    "tags": []
   },
   "outputs": [],
   "source": [
    "dat_file = singleglob(session_folder, \"**/*.dat\")"
   ]
  },
  {
   "cell_type": "code",
   "execution_count": 11,
   "id": "8ff52ed7",
   "metadata": {
    "execution": {
     "iopub.execute_input": "2024-09-18T11:37:08.338461Z",
     "iopub.status.busy": "2024-09-18T11:37:08.338324Z",
     "iopub.status.idle": "2024-09-18T11:37:08.367544Z",
     "shell.execute_reply": "2024-09-18T11:37:08.366995Z"
    },
    "papermill": {
     "duration": 0.033984,
     "end_time": "2024-09-18T11:37:08.368986",
     "exception": false,
     "start_time": "2024-09-18T11:37:08.335002",
     "status": "completed"
    },
    "tags": []
   },
   "outputs": [
    {
     "data": {
      "text/plain": [
       "{'experimenter': {'name': 'Luisa Abels'},\n",
       " 'date': '2024/08/07',\n",
       " 'project_name': 'Dopa-Move',\n",
       " 'subject': {'name': 'Rat246',\n",
       "  'cre-line': 'TH-Cre',\n",
       "  'sex': 'F',\n",
       "  'handedness': 'Left',\n",
       "  'opsin': 'Jaws',\n",
       "  'opsin_injection_date': '2024/06',\n",
       "  'opsin_location': 'SNc'},\n",
       " 'recordings': {'fiber': {'channels': {'CH-1': {'brain_location': 'Left-DLS'},\n",
       "    'CH-2': {'brain_location': 'Right-DLS'}}},\n",
       "  'electrophy': None,\n",
       "  'poly': {'valid_recording_intervals': [{'start': None, 'end': None}]}},\n",
       " 'task': {'name': 'HF_55_RandomTrial_NoGoGo_left_both_sound_nico_LaserJAWS_S1_MT1_1sec_NoPadCheck_3000',\n",
       "  'position': 'head-fixed',\n",
       "  'opto': {'name': None,\n",
       "   'laser_protocol': {'type': 'continuous',\n",
       "    'pulse_info': {'n_pulse': 4, 'frequency_Hz': 15}},\n",
       "   'laser_intensity_mW': 15,\n",
       "   'timing': {'event': 'pad_lift',\n",
       "    'start_rel_event_ms': 0,\n",
       "    'duration_ms': 1000,\n",
       "    'end_event': 'leverpress'}},\n",
       "  'cue_location': {'LowPitch': 'Left', 'HighPitch': 'Left'},\n",
       "  'events': {'poly': [{'detection': {'poly_line_num': 33},\n",
       "     'description': {'event': 'cue',\n",
       "      'trial_type': {'stimulation': 'None',\n",
       "       'go': False,\n",
       "       'cue_type': 'WhiteNoise'}}},\n",
       "    {'detection': {'poly_line_num': 41},\n",
       "     'description': {'event': 'cue',\n",
       "      'trial_type': {'stimulation': 'bilateral',\n",
       "       'go': True,\n",
       "       'cue_type': 'LowPitch'}}},\n",
       "    {'detection': {'poly_line_num': 7},\n",
       "     'description': {'event': 'cue',\n",
       "      'trial_type': {'stimulation': 'None',\n",
       "       'go': True,\n",
       "       'cue_type': 'LowPitch'}}},\n",
       "    {'detection': {'poly_line_num': 12},\n",
       "     'description': {'event': 'cue',\n",
       "      'trial_type': {'stimulation': 'None',\n",
       "       'go': True,\n",
       "       'cue_type': 'HighPitch'}}},\n",
       "    {'detection': {'poly_name': 'MT'},\n",
       "     'description': {'event': 'mouvement_start'}},\n",
       "    {'detection': {'poly_line_num': [45, 11, 16, 34]},\n",
       "     'description': {'event': 'reward'}},\n",
       "    {'detection': {'poly_line_num': 3},\n",
       "     'description': {'event': 'trial_start'}},\n",
       "    {'detection': {'poly_name': 'MT\\\\d+', 'poly_ignore_name': 'erreur'},\n",
       "     'description': {'event': 'leverpress'}},\n",
       "    {'detection': {'poly_name': 'erreur'}, 'description': {'event': 'error'}},\n",
       "    {'description': {'event': 'trial_end'},\n",
       "     'detection': {'poly_line_num': 1}}],\n",
       "   'fiber': [{'detection': {'name': 'Input1',\n",
       "      'duration_min': 0.13,\n",
       "      'duration_max': 0.17},\n",
       "     'description': {'event': 'cue',\n",
       "      'trial_type': {'stimulation': 'None',\n",
       "       'go': False,\n",
       "       'cue_type': 'WhiteNoise'}}},\n",
       "    {'detection': {'name': 'Input1',\n",
       "      'duration_min': 0.18,\n",
       "      'duration_max': 0.22},\n",
       "     'description': {'event': 'cue',\n",
       "      'trial_type': {'stimulation': 'bilateral',\n",
       "       'go': True,\n",
       "       'cue_type': 'LowPitch'}}},\n",
       "    {'detection': {'name': 'Input1',\n",
       "      'duration_min': 0.02,\n",
       "      'duration_max': 0.06},\n",
       "     'description': {'event': 'cue',\n",
       "      'trial_type': {'stimulation': 'None',\n",
       "       'go': True,\n",
       "       'cue_type': 'LowPitch'}}},\n",
       "    {'detection': {'name': 'Input1',\n",
       "      'duration_min': 0.08,\n",
       "      'duration_max': 0.12},\n",
       "     'description': {'event': 'cue',\n",
       "      'trial_type': {'stimulation': 'None',\n",
       "       'go': True,\n",
       "       'cue_type': 'HighPitch'}}},\n",
       "    {'detection': {'name': 'Input2'},\n",
       "     'description': {'event': 'mouvement_start'}},\n",
       "    {'detection': {'name': 'Input3',\n",
       "      'duration_min': 0.13,\n",
       "      'duration_max': 0.17},\n",
       "     'description': {'event': 'reward', 'trial_type': {'go': False}}},\n",
       "    {'detection': {'name': 'Input3', 'duration_min': 0.17},\n",
       "     'description': {'event': 'leverpress'}},\n",
       "    {'detection': {'name': 'Input3', 'duration_max': 0.13},\n",
       "     'description': {'event': 'leverpress'}},\n",
       "    {'detection': {'name': 'Input4'}, 'description': {'event': 'error'}}]}}}"
      ]
     },
     "execution_count": 11,
     "metadata": {},
     "output_type": "execute_result"
    }
   ],
   "source": [
    "task_template = poly_template[\"task\"][\"events\"][\"poly\"]\n",
    "for d in task_template:\n",
    "    if \"trial_type\" in d[\"description\"]:\n",
    "        d[\"description\"][\"trial_type\"][\"cue_type\"] = d[\"description\"][\"trial_type\"][\"cue\"]\n",
    "        if str(d[\"description\"][\"trial_type\"][\"stimulation\"]).endswith(\"ms\") or str(d[\"description\"][\"trial_type\"][\"stimulation\"]).endswith(\"Hz\"):\n",
    "            d[\"description\"][\"trial_type\"][\"stimulation\"] = \"bilateral\"\n",
    "        del d[\"description\"][\"trial_type\"][\"cue\"]\n",
    "task_template.append(yaml.safe_load(\n",
    "\"\"\"\n",
    "description:\n",
    "  event: trial_end\n",
    "detection:\n",
    "  poly_line_num: 1\n",
    "\"\"\"\n",
    "))\n",
    "\n",
    "metadata[\"task\"][\"events\"] = dict(poly=task_template, fiber=fiber_template)\n",
    "metadata[\"date\"] = datetime.datetime.strptime(dat_file.open(\"r\").read(10), \"%d/%m/%Y\").strftime('%Y/%m/%d')\n",
    "metadata"
   ]
  },
  {
   "cell_type": "code",
   "execution_count": 12,
   "id": "90d6ad33",
   "metadata": {
    "execution": {
     "iopub.execute_input": "2024-09-18T11:37:08.376803Z",
     "iopub.status.busy": "2024-09-18T11:37:08.376643Z",
     "iopub.status.idle": "2024-09-18T11:37:08.383389Z",
     "shell.execute_reply": "2024-09-18T11:37:08.383027Z"
    },
    "papermill": {
     "duration": 0.011489,
     "end_time": "2024-09-18T11:37:08.383990",
     "exception": false,
     "start_time": "2024-09-18T11:37:08.372501",
     "status": "completed"
    },
    "tags": []
   },
   "outputs": [],
   "source": [
    "yaml.safe_dump(metadata, (dest_folder / \"metadata.yaml\").open(\"w\"), sort_keys=False)"
   ]
  },
  {
   "cell_type": "code",
   "execution_count": 13,
   "id": "ae6edd7b",
   "metadata": {
    "execution": {
     "iopub.execute_input": "2024-09-18T11:37:08.388078Z",
     "iopub.status.busy": "2024-09-18T11:37:08.387693Z",
     "iopub.status.idle": "2024-09-18T11:37:08.389935Z",
     "shell.execute_reply": "2024-09-18T11:37:08.389648Z"
    },
    "papermill": {
     "duration": 0.004989,
     "end_time": "2024-09-18T11:37:08.390527",
     "exception": false,
     "start_time": "2024-09-18T11:37:08.385538",
     "status": "completed"
    },
    "tags": []
   },
   "outputs": [],
   "source": [
    "if not (poly_folder/f\"task -- {task_path.name}\").exists():\n",
    "    shutil.copy(task_path, poly_folder/f\"task -- {task_path.name}\")\n"
   ]
  },
  {
   "cell_type": "code",
   "execution_count": 14,
   "id": "41fcb4e5",
   "metadata": {
    "execution": {
     "iopub.execute_input": "2024-09-18T11:37:08.394279Z",
     "iopub.status.busy": "2024-09-18T11:37:08.393951Z",
     "iopub.status.idle": "2024-09-18T11:37:08.418760Z",
     "shell.execute_reply": "2024-09-18T11:37:08.417606Z"
    },
    "papermill": {
     "duration": 0.029201,
     "end_time": "2024-09-18T11:37:08.421250",
     "exception": false,
     "start_time": "2024-09-18T11:37:08.392049",
     "status": "completed"
    },
    "tags": []
   },
   "outputs": [],
   "source": [
    "dat_file = singleglob(session_folder, \"**/*.dat\")\n",
    "if not (poly_folder/f\"events -- {dat_file.name}\").exists():\n",
    "    shutil.copy(dat_file, poly_folder/f\"events -- {dat_file.name}\")"
   ]
  },
  {
   "cell_type": "code",
   "execution_count": 15,
   "id": "76d598fb",
   "metadata": {
    "execution": {
     "iopub.execute_input": "2024-09-18T11:37:08.430598Z",
     "iopub.status.busy": "2024-09-18T11:37:08.430417Z",
     "iopub.status.idle": "2024-09-18T11:37:08.433806Z",
     "shell.execute_reply": "2024-09-18T11:37:08.433365Z"
    },
    "papermill": {
     "duration": 0.009064,
     "end_time": "2024-09-18T11:37:08.435062",
     "exception": false,
     "start_time": "2024-09-18T11:37:08.425998",
     "status": "completed"
    },
    "tags": []
   },
   "outputs": [],
   "source": [
    "for s in [\"Events.csv\", \"Fluorescence.csv\", \"Fluorescence-unaligned.csv\"]:\n",
    "    if not (fiber_folder/s).exists():\n",
    "        shutil.copy(singleglob(session_folder, f\"**/{s}\"), fiber_folder/s)"
   ]
  },
  {
   "cell_type": "code",
   "execution_count": 16,
   "id": "def775ba",
   "metadata": {
    "execution": {
     "iopub.execute_input": "2024-09-18T11:37:08.443413Z",
     "iopub.status.busy": "2024-09-18T11:37:08.443223Z",
     "iopub.status.idle": "2024-09-18T11:37:08.481895Z",
     "shell.execute_reply": "2024-09-18T11:37:08.479948Z"
    },
    "papermill": {
     "duration": 0.046291,
     "end_time": "2024-09-18T11:37:08.485120",
     "exception": false,
     "start_time": "2024-09-18T11:37:08.438829",
     "status": "completed"
    },
    "tags": []
   },
   "outputs": [],
   "source": [
    "for f in session_folder.glob(\"**/*.sea\"):\n",
    "    if not (poly_folder / f.name).exists():\n",
    "        shutil.copy(f, poly_folder / f.name)\n",
    "for f in session_folder.glob(\"**/*.cpt\"):\n",
    "    if not (poly_folder / f.name).exists():\n",
    "        shutil.copy(f, poly_folder / f.name)"
   ]
  },
  {
   "cell_type": "code",
   "execution_count": 17,
   "id": "76e70580",
   "metadata": {
    "execution": {
     "iopub.execute_input": "2024-09-18T11:37:08.495316Z",
     "iopub.status.busy": "2024-09-18T11:37:08.495046Z",
     "iopub.status.idle": "2024-09-18T11:37:08.533524Z",
     "shell.execute_reply": "2024-09-18T11:37:08.532108Z"
    },
    "papermill": {
     "duration": 0.045582,
     "end_time": "2024-09-18T11:37:08.535924",
     "exception": false,
     "start_time": "2024-09-18T11:37:08.490342",
     "status": "completed"
    },
    "tags": []
   },
   "outputs": [],
   "source": [
    "sr2x = singleglob(session_folder, \"**/*.s2rx\")\n",
    "if not (spike2_folder/f\"channel_metadata -- {sr2x.name}\").exists():\n",
    "    shutil.copy(sr2x, spike2_folder/f\"channel_metadata -- {sr2x.name}\")\n",
    "smrx = singleglob(session_folder, \"**/*.smrx\")\n",
    "if not (spike2_folder/f\"channel_data -- {sr2x.name}\").exists():\n",
    "    shutil.copy(smrx, spike2_folder/f\"channel_data -- {sr2x.name}\")"
   ]
  },
  {
   "cell_type": "code",
   "execution_count": 18,
   "id": "1e3cc669",
   "metadata": {
    "execution": {
     "iopub.execute_input": "2024-09-18T11:37:08.545927Z",
     "iopub.status.busy": "2024-09-18T11:37:08.545662Z",
     "iopub.status.idle": "2024-09-18T11:37:08.548967Z",
     "shell.execute_reply": "2024-09-18T11:37:08.548439Z"
    },
    "papermill": {
     "duration": 0.009417,
     "end_time": "2024-09-18T11:37:08.550354",
     "exception": false,
     "start_time": "2024-09-18T11:37:08.540937",
     "status": "completed"
    },
    "tags": []
   },
   "outputs": [],
   "source": [
    "analysis_folder = dest_folder / \"analysis\"\n",
    "analysis_folder.mkdir(exist_ok=True, parents=True)\n"
   ]
  }
 ],
 "metadata": {
  "kernelspec": {
   "display_name": "dev",
   "language": "python",
   "name": "python3"
  },
  "language_info": {
   "codemirror_mode": {
    "name": "ipython",
    "version": 3
   },
   "file_extension": ".py",
   "mimetype": "text/x-python",
   "name": "python",
   "nbconvert_exporter": "python",
   "pygments_lexer": "ipython3",
   "version": "3.11.8"
  },
  "papermill": {
   "default_parameters": {},
   "duration": 1.807011,
   "end_time": "2024-09-18T11:37:08.873711",
   "environment_variables": {},
   "exception": null,
   "input_path": "copy_session_data.ipynb",
   "output_path": "copy_session_data_tmp.ipynb",
   "parameters": {
    "dest_folder": "/home/julienb/Documents/Data/Luisa/Rat246/opto_MT/Session--Rat246_20240807",
    "session_folder": "/media/filer2/T4/Clara/Data/Luisa/Rat246/opto_MT/Rat246_20240807"
   },
   "start_time": "2024-09-18T11:37:07.066700",
   "version": "2.6.0"
  }
 },
 "nbformat": 4,
 "nbformat_minor": 5
}