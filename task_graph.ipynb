{
 "cells": [
  {
   "cell_type": "code",
   "execution_count": null,
   "id": "9c0d0bba",
   "metadata": {
    "execution": {
     "iopub.execute_input": "2024-09-11T16:01:50.590579Z",
     "iopub.status.busy": "2024-09-11T16:01:50.590456Z",
     "iopub.status.idle": "2024-09-11T16:01:51.019055Z",
     "shell.execute_reply": "2024-09-11T16:01:51.018483Z"
    },
    "papermill": {
     "duration": 0.437148,
     "end_time": "2024-09-11T16:01:51.020022",
     "exception": false,
     "start_time": "2024-09-11T16:01:50.582874",
     "status": "completed"
    },
    "tags": []
   },
   "outputs": [],
   "source": [
    "import numpy as np, pandas as pd, xarray as xr\n",
    "from pathlib import Path\n",
    "import datetime, networkx as nx, yaml\n",
    "from helper import singleglob, nxrender, Step, dict_merge, PdfWriter, DictWriter, TableWriter, TextWriter\n",
    "import matplotlib.pyplot as plt\n",
    "import matplotlib as mpl"
   ]
  },
  {
   "cell_type": "code",
   "execution_count": null,
   "id": "04fd1516",
   "metadata": {
    "execution": {
     "iopub.execute_input": "2024-09-11T16:01:51.030652Z",
     "iopub.status.busy": "2024-09-11T16:01:51.030455Z",
     "iopub.status.idle": "2024-09-11T16:01:51.032470Z",
     "shell.execute_reply": "2024-09-11T16:01:51.032237Z"
    },
    "papermill": {
     "duration": 0.011056,
     "end_time": "2024-09-11T16:01:51.033105",
     "exception": false,
     "start_time": "2024-09-11T16:01:51.022049",
     "status": "completed"
    },
    "tags": []
   },
   "outputs": [],
   "source": [
    "notebook_name = Path(\"task_graph.ipynb\")"
   ]
  },
  {
   "cell_type": "code",
   "execution_count": null,
   "id": "b31a06ef",
   "metadata": {
    "execution": {
     "iopub.execute_input": "2024-09-11T16:01:51.037159Z",
     "iopub.status.busy": "2024-09-11T16:01:51.036991Z",
     "iopub.status.idle": "2024-09-11T16:01:51.043703Z",
     "shell.execute_reply": "2024-09-11T16:01:51.043408Z"
    },
    "papermill": {
     "duration": 0.009387,
     "end_time": "2024-09-11T16:01:51.044452",
     "exception": false,
     "start_time": "2024-09-11T16:01:51.035065",
     "status": "completed"
    },
    "tags": []
   },
   "outputs": [],
   "source": [
    "base_folder = Path(\".\").resolve().parent\n",
    "result_folder = Path(\".\").resolve()/notebook_name.stem\n",
    "result_folder.mkdir(exist_ok=True, parents=True)\n",
    "task_path = singleglob(base_folder, \"poly/task.xls\", \"poly/task --*.xls\", \"poly/task--*.xls\")\n",
    "metadata_path = singleglob(base_folder, \"metadata.yaml\", \"metadata --*.yaml\", \"metadata--*.yaml\")\n",
    "node_metadata_path = (result_folder/\"node_metadata.yaml\")\n",
    "base_folder, result_folder, task_path, metadata_path, node_metadata_path"
   ]
  },
  {
   "cell_type": "code",
   "execution_count": null,
   "id": "68a5d757",
   "metadata": {
    "execution": {
     "iopub.execute_input": "2024-09-11T16:01:51.048338Z",
     "iopub.status.busy": "2024-09-11T16:01:51.048233Z",
     "iopub.status.idle": "2024-09-11T16:01:51.050149Z",
     "shell.execute_reply": "2024-09-11T16:01:51.049870Z"
    },
    "papermill": {
     "duration": 0.004388,
     "end_time": "2024-09-11T16:01:51.050789",
     "exception": false,
     "start_time": "2024-09-11T16:01:51.046401",
     "status": "completed"
    },
    "tags": []
   },
   "outputs": [],
   "source": [
    "tables = TableWriter(result_folder/\"tables.xlsx\")\n",
    "figures = PdfWriter(result_folder/\"figures.pdf\")\n",
    "dicts = DictWriter(result_folder/\"dicts.yaml\")\n",
    "notebook_save_path = result_folder/\"notebook.html\""
   ]
  },
  {
   "cell_type": "markdown",
   "id": "ac6e2cdd",
   "metadata": {
    "papermill": {
     "duration": 0.001349,
     "end_time": "2024-09-11T16:01:51.053664",
     "exception": false,
     "start_time": "2024-09-11T16:01:51.052315",
     "status": "completed"
    },
    "tags": []
   },
   "source": [
    "# Task"
   ]
  },
  {
   "cell_type": "code",
   "execution_count": null,
   "id": "aeb50ea4",
   "metadata": {
    "execution": {
     "iopub.execute_input": "2024-09-11T16:01:51.056975Z",
     "iopub.status.busy": "2024-09-11T16:01:51.056850Z",
     "iopub.status.idle": "2024-09-11T16:01:51.121772Z",
     "shell.execute_reply": "2024-09-11T16:01:51.121530Z"
    },
    "papermill": {
     "duration": 0.067421,
     "end_time": "2024-09-11T16:01:51.122594",
     "exception": false,
     "start_time": "2024-09-11T16:01:51.055173",
     "status": "completed"
    },
    "tags": []
   },
   "outputs": [],
   "source": [
    "\n",
    "task_df = pd.read_csv(task_path, sep=\"\\t\", header=11)\n",
    "task_df = task_df.rename(columns={\"Unnamed: 0\":\"line_num\"})\n",
    "task_df = task_df.loc[~pd.isna(task_df[\"line_num\"])]\n",
    "task_df[\"line_num\"] = task_df[\"line_num\"].astype(int)\n",
    "task_df = task_df.dropna(subset=task_df.columns[1:],  how=\"all\")\n",
    "tables.write(task_df=task_df) "
   ]
  },
  {
   "cell_type": "code",
   "execution_count": null,
   "id": "f8faeacf",
   "metadata": {
    "execution": {
     "iopub.execute_input": "2024-09-11T16:01:51.127789Z",
     "iopub.status.busy": "2024-09-11T16:01:51.127623Z",
     "iopub.status.idle": "2024-09-11T16:01:51.384067Z",
     "shell.execute_reply": "2024-09-11T16:01:51.383657Z"
    },
    "papermill": {
     "duration": 0.259654,
     "end_time": "2024-09-11T16:01:51.384972",
     "exception": false,
     "start_time": "2024-09-11T16:01:51.125318",
     "status": "completed"
    },
    "tags": []
   },
   "outputs": [],
   "source": [
    "graph = nx.DiGraph(size = \"9, 16\" )\n",
    "for _, row in task_df.iterrows():\n",
    "    graph.add_node(row[\"line_num\"], **row.dropna().to_dict())\n",
    "    for col in [col for col in task_df.columns if \"NEXT\" in col]:\n",
    "        if pd.isna(row[col]):\n",
    "            continue\n",
    "        import re\n",
    "        pattern = r'\\(.+\\)$'\n",
    "        ns = re.findall(pattern, row[col])\n",
    "        if len(ns) == 0:\n",
    "            next_line = row[\"line_num\"]+1\n",
    "            cond = row[col]\n",
    "        elif len(ns) ==1:\n",
    "            cond = row[col][:-len(ns[0])]\n",
    "            nlname = ns[0][1: -1]\n",
    "            if re.match(r'\\d+', nlname):\n",
    "                next_line = int(nlname)\n",
    "            else:\n",
    "                next_line = task_df.loc[(task_df[[\"T1\", \"T2\", \"T3\"]].apply(lambda s: s.str.lstrip(\"_\")) == nlname).any(axis=1)][\"line_num\"]\n",
    "                if len(next_line) != 1:\n",
    "                    raise Exception(f\"problem {len(next_line)} {nlname}\")\n",
    "                next_line = next_line.iat[0]\n",
    "        else:\n",
    "            raise Exception(\"Problem\")\n",
    "        graph.add_edge(row[\"line_num\"], next_line, cond=cond)\n",
    "\n",
    "descendants = nx.descendants(graph, 1).union({1})\n",
    "useless_nodes = set(graph.nodes) - set(descendants)\n",
    "print(f\"Found the following useless nodes in your task... {useless_nodes}\")\n",
    "graph = graph.subgraph(descendants)\n",
    "from IPython.core.display import SVG\n",
    "SVG(figures.write(nxrender(graph, nodeautolabel=[..., \"+dot\", re.compile('NEXT\\d*')], format=\"svg\", args='-Gsize=20 -Gratio=1.4')))\n",
    "\n"
   ]
  },
  {
   "cell_type": "markdown",
   "id": "b6ef9c97",
   "metadata": {
    "papermill": {
     "duration": 0.002189,
     "end_time": "2024-09-11T16:01:51.389642",
     "exception": false,
     "start_time": "2024-09-11T16:01:51.387453",
     "status": "completed"
    },
    "tags": []
   },
   "source": [
    "# Poly Event Metadata"
   ]
  },
  {
   "cell_type": "code",
   "execution_count": null,
   "id": "23b40fc0",
   "metadata": {
    "execution": {
     "iopub.execute_input": "2024-09-11T16:01:51.394850Z",
     "iopub.status.busy": "2024-09-11T16:01:51.394683Z",
     "iopub.status.idle": "2024-09-11T16:01:51.405196Z",
     "shell.execute_reply": "2024-09-11T16:01:51.404963Z"
    },
    "papermill": {
     "duration": 0.013761,
     "end_time": "2024-09-11T16:01:51.405793",
     "exception": false,
     "start_time": "2024-09-11T16:01:51.392032",
     "status": "completed"
    },
    "tags": []
   },
   "outputs": [],
   "source": [
    "metadata = yaml.safe_load(metadata_path.open(\"r\"))\n",
    "poly_event_metadata = metadata[\"task\"][\"events\"][\"poly\"]\n",
    "dicts.write(poly_event_metadata=poly_event_metadata)"
   ]
  },
  {
   "cell_type": "code",
   "execution_count": null,
   "id": "d1837c64",
   "metadata": {
    "execution": {
     "iopub.execute_input": "2024-09-11T16:01:51.411576Z",
     "iopub.status.busy": "2024-09-11T16:01:51.411466Z",
     "iopub.status.idle": "2024-09-11T16:01:51.419025Z",
     "shell.execute_reply": "2024-09-11T16:01:51.418783Z"
    },
    "papermill": {
     "duration": 0.010792,
     "end_time": "2024-09-11T16:01:51.419577",
     "exception": false,
     "start_time": "2024-09-11T16:01:51.408785",
     "status": "completed"
    },
    "tags": []
   },
   "outputs": [],
   "source": [
    "line_nums = list(descendants)\n",
    "node_metadata = {}\n",
    "for ev in poly_event_metadata:\n",
    "    nodes = line_nums\n",
    "    for k, v in ev[\"detection\"].items():\n",
    "        if k == \"poly_line_num\":\n",
    "            if not isinstance(v, list):\n",
    "                v = [v]\n",
    "            nodes = [n for n in nodes if n in v]\n",
    "        elif k == \"poly_name\":\n",
    "            if not isinstance(v, list):\n",
    "                v = [v]\n",
    "            vals = [re.compile(\"_\" +val+\"$\") for val in v]\n",
    "            nodes = [n for n in nodes if np.any([v.search(str(val)) is not None for val in graph.nodes(data=True)[n].values() for v in vals])]\n",
    "        elif k == \"poly_ignore_name\":\n",
    "            if not isinstance(v, list):\n",
    "                v = [v]\n",
    "            vals = [re.compile(\"_\" +val+\"$\") for val in v]\n",
    "            nodes = [n for n in nodes if np.all([v.search(str(val)) is None for val in graph.nodes(data=True)[n].values() for v in vals])]\n",
    "        else:\n",
    "            raise Exception(f\"unrecognized detection key {k}\")\n",
    "    for n in nodes:\n",
    "        if n in node_metadata:\n",
    "            raise Exception(f\"double event metadata information for node {n}\")\n",
    "        node_metadata[n] = {k:v for k,v in ev[\"description\"].items()}\n",
    "dicts.write(node_metadata=node_metadata)"
   ]
  },
  {
   "cell_type": "markdown",
   "id": "2a0f4e17",
   "metadata": {
    "papermill": {
     "duration": 0.002315,
     "end_time": "2024-09-11T16:01:51.424584",
     "exception": false,
     "start_time": "2024-09-11T16:01:51.422269",
     "status": "completed"
    },
    "tags": []
   },
   "source": [
    "# Annotating Graph"
   ]
  },
  {
   "cell_type": "code",
   "execution_count": null,
   "id": "bc11cc16",
   "metadata": {
    "execution": {
     "iopub.execute_input": "2024-09-11T16:01:51.429872Z",
     "iopub.status.busy": "2024-09-11T16:01:51.429716Z",
     "iopub.status.idle": "2024-09-11T16:01:51.617864Z",
     "shell.execute_reply": "2024-09-11T16:01:51.617475Z"
    },
    "papermill": {
     "duration": 0.191636,
     "end_time": "2024-09-11T16:01:51.618621",
     "exception": false,
     "start_time": "2024-09-11T16:01:51.426985",
     "status": "completed"
    },
    "tags": []
   },
   "outputs": [],
   "source": [
    "annotated_graph = graph.copy()\n",
    "cmap = mpl.colormaps[\"tab10\"].colors\n",
    "color_list= [mpl.colors.to_hex(c) for c in cmap[3:]]\n",
    "colors={\"error\": \"red\", \"reward\": \"lightgreen\"}\n",
    "for n, meta in node_metadata.items():\n",
    "    attr_dict = annotated_graph.nodes(data=True)[n]\n",
    "    attr_dict[\"event_metadata\"] = meta\n",
    "    attr_dict[\"shape\"] = \"rectangle\"\n",
    "    if \"fillcolor\" not in attr_dict:\n",
    "        if \"event\" in attr_dict[\"event_metadata\"]:\n",
    "            ev_name = attr_dict[\"event_metadata\"][\"event\"]\n",
    "            if not ev_name in colors:\n",
    "                colors[ev_name] = color_list[len(colors)]\n",
    "            attr_dict[\"fillcolor\"] = colors[ev_name]\n",
    "            attr_dict[\"style\"]=\"filled\"\n",
    "            attr_dict[\"legend\"]=ev_name\n",
    "svg = figures.write(nxrender(annotated_graph, nodeautolabel=[..., \"+dot\", re.compile('NEXT\\d*')], format=\"svg\", args='-Gsize=22 -Gratio=1.4'))\n",
    "SVG(svg)"
   ]
  },
  {
   "cell_type": "markdown",
   "id": "d90c9c6f",
   "metadata": {
    "papermill": {
     "duration": 0.003596,
     "end_time": "2024-09-11T16:01:51.626653",
     "exception": false,
     "start_time": "2024-09-11T16:01:51.623057",
     "status": "completed"
    },
    "tags": []
   },
   "source": [
    "# Exports"
   ]
  },
  {
   "cell_type": "code",
   "execution_count": null,
   "id": "13b3338b",
   "metadata": {
    "execution": {
     "iopub.execute_input": "2024-09-11T16:01:51.638877Z",
     "iopub.status.busy": "2024-09-11T16:01:51.638462Z",
     "iopub.status.idle": "2024-09-11T16:01:51.644415Z",
     "shell.execute_reply": "2024-09-11T16:01:51.643720Z"
    },
    "papermill": {
     "duration": 0.013517,
     "end_time": "2024-09-11T16:01:51.645778",
     "exception": false,
     "start_time": "2024-09-11T16:01:51.632261",
     "status": "completed"
    },
    "tags": []
   },
   "outputs": [],
   "source": [
    "yaml.safe_dump(node_metadata, node_metadata_path.open(\"w\"))"
   ]
  },
  {
   "cell_type": "markdown",
   "id": "f513dbfc",
   "metadata": {
    "papermill": {
     "duration": 0.005625,
     "end_time": "2024-09-11T16:01:51.657426",
     "exception": false,
     "start_time": "2024-09-11T16:01:51.651801",
     "status": "completed"
    },
    "tags": []
   },
   "source": [
    "# Finishing"
   ]
  },
  {
   "cell_type": "code",
   "execution_count": null,
   "id": "9252f30d",
   "metadata": {
    "execution": {
     "iopub.execute_input": "2024-09-11T16:01:51.665324Z",
     "iopub.status.busy": "2024-09-11T16:01:51.665135Z",
     "iopub.status.idle": "2024-09-11T16:01:51.668564Z",
     "shell.execute_reply": "2024-09-11T16:01:51.668201Z"
    },
    "papermill": {
     "duration": 0.008241,
     "end_time": "2024-09-11T16:01:51.669577",
     "exception": false,
     "start_time": "2024-09-11T16:01:51.661336",
     "status": "completed"
    },
    "tags": []
   },
   "outputs": [],
   "source": [
    "%%javascript\n",
    "IPython.notebook.save_notebook()"
   ]
  },
  {
   "cell_type": "code",
   "execution_count": null,
   "id": "1df24704",
   "metadata": {
    "execution": {
     "iopub.execute_input": "2024-09-11T16:01:51.676838Z",
     "iopub.status.busy": "2024-09-11T16:01:51.676481Z",
     "iopub.status.idle": "2024-09-11T16:01:52.516028Z",
     "shell.execute_reply": "2024-09-11T16:01:52.515660Z"
    },
    "papermill": {
     "duration": 0.843831,
     "end_time": "2024-09-11T16:01:52.516804",
     "exception": false,
     "start_time": "2024-09-11T16:01:51.672973",
     "status": "completed"
    },
    "tags": []
   },
   "outputs": [],
   "source": [
    "import os\n",
    "os.system(f'jupyter nbconvert --to html {notebook_name} --output {notebook_save_path}')"
   ]
  },
  {
   "cell_type": "code",
   "execution_count": null,
   "id": "9a5db617",
   "metadata": {
    "execution": {
     "iopub.execute_input": "2024-09-11T16:01:52.523876Z",
     "iopub.status.busy": "2024-09-11T16:01:52.523700Z",
     "iopub.status.idle": "2024-09-11T16:01:52.544281Z",
     "shell.execute_reply": "2024-09-11T16:01:52.543891Z"
    },
    "papermill": {
     "duration": 0.024993,
     "end_time": "2024-09-11T16:01:52.545180",
     "exception": false,
     "start_time": "2024-09-11T16:01:52.520187",
     "status": "completed"
    },
    "tags": []
   },
   "outputs": [],
   "source": [
    "del tables\n",
    "del dicts\n",
    "del figures"
   ]
  }
 ],
 "metadata": {
  "kernelspec": {
   "display_name": "dev",
   "language": "python",
   "name": "python3"
  },
  "language_info": {
   "codemirror_mode": {
    "name": "ipython",
    "version": 3
   },
   "file_extension": ".py",
   "mimetype": "text/x-python",
   "name": "python",
   "nbconvert_exporter": "python",
   "pygments_lexer": "ipython3",
   "version": "3.11.8"
  },
  "papermill": {
   "default_parameters": {},
   "duration": 2.814504,
   "end_time": "2024-09-11T16:01:52.869966",
   "environment_variables": {},
   "exception": null,
   "input_path": "/home/julienb/Documents/Luisa/Rat101_20240729/analysis/task_graph.ipynb",
   "output_path": "/home/julienb/Documents/Luisa/Rat101_20240729/analysis/task_graph_tmp.ipynb",
   "parameters": {},
   "start_time": "2024-09-11T16:01:50.055462",
   "version": "2.6.0"
  }
 },
 "nbformat": 4,
 "nbformat_minor": 5
}
