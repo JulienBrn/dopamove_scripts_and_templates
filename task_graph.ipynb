{
 "cells": [
  {
   "cell_type": "code",
   "execution_count": null,
   "metadata": {},
   "outputs": [],
   "source": [
    "import numpy as np, pandas as pd, xarray as xr\n",
    "from pathlib import Path\n",
    "import datetime, networkx as nx, yaml\n",
    "from helper import singleglob, nxrender\n",
    "import matplotlib.pyplot as plt\n",
    "import matplotlib as mpl"
   ]
  },
  {
   "cell_type": "code",
   "execution_count": null,
   "metadata": {},
   "outputs": [],
   "source": [
    "base_folder = Path(\".\").resolve().parent.parent\n",
    "task_path = singleglob(base_folder, \"task.xls\", \"task --*.xls\", \"task--*.xls\")\n",
    "metadata_path = singleglob(base_folder, \"metadata.yaml\", \"metadata --*.yaml\", \"metadata--*.yaml\")\n",
    "annotated_task_graph_path = (Path(\".\").resolve()/\"annotated_task_graph.svg\")\n",
    "node_metadata_path = (Path(\".\").resolve()/\"node_metadata.yaml\")\n",
    "base_folder, task_path, metadata_path, annotated_task_graph_path, node_metadata_path"
   ]
  },
  {
   "cell_type": "markdown",
   "metadata": {},
   "source": [
    "# Task"
   ]
  },
  {
   "cell_type": "code",
   "execution_count": null,
   "metadata": {},
   "outputs": [],
   "source": [
    "\n",
    "task_df = pd.read_csv(task_path, sep=\"\\t\", header=11)\n",
    "task_df = task_df.rename(columns={\"Unnamed: 0\":\"line_num\"})\n",
    "task_df = task_df.loc[~pd.isna(task_df[\"line_num\"])]\n",
    "task_df[\"line_num\"] = task_df[\"line_num\"].astype(int)\n",
    "task_df = task_df.dropna(subset=task_df.columns[1:],  how=\"all\")\n",
    "task_df "
   ]
  },
  {
   "cell_type": "code",
   "execution_count": null,
   "metadata": {},
   "outputs": [],
   "source": [
    "graph = nx.DiGraph(size = \"9, 16\" )\n",
    "for _, row in task_df.iterrows():\n",
    "    graph.add_node(row[\"line_num\"], **row.dropna().to_dict())\n",
    "    for col in [col for col in task_df.columns if \"NEXT\" in col]:\n",
    "        if pd.isna(row[col]):\n",
    "            continue\n",
    "        import re\n",
    "        pattern = r'\\(.+\\)$'\n",
    "        ns = re.findall(pattern, row[col])\n",
    "        if len(ns) == 0:\n",
    "            next_line = row[\"line_num\"]+1\n",
    "            cond = row[col]\n",
    "        elif len(ns) ==1:\n",
    "            cond = row[col][:-len(ns[0])]\n",
    "            nlname = ns[0][1: -1]\n",
    "            if re.match(r'\\d+', nlname):\n",
    "                next_line = int(nlname)\n",
    "            else:\n",
    "                next_line = task_df.loc[(task_df[[\"T1\", \"T2\", \"T3\"]].apply(lambda s: s.str.lstrip(\"_\")) == nlname).any(axis=1)][\"line_num\"]\n",
    "                if len(next_line) != 1:\n",
    "                    raise Exception(f\"problem {len(next_line)} {nlname}\")\n",
    "                next_line = next_line.iat[0]\n",
    "        else:\n",
    "            raise Exception(\"Problem\")\n",
    "        graph.add_edge(row[\"line_num\"], next_line, cond=cond)\n",
    "\n",
    "descendants = nx.descendants(graph, 1).union({1})\n",
    "useless_nodes = set(graph.nodes) - set(descendants)\n",
    "print(f\"Found the following useless nodes in your task... {useless_nodes}\")\n",
    "graph = graph.subgraph(descendants)\n",
    "from IPython.core.display import SVG\n",
    "SVG(nxrender(graph, nodeautolabel=[..., \"+dot\", re.compile('NEXT\\d*')], format=\"svg\", args='-Gsize=20 -Gratio=1.4'))\n",
    "\n"
   ]
  },
  {
   "cell_type": "markdown",
   "metadata": {},
   "source": [
    "# Poly Event Metadata"
   ]
  },
  {
   "cell_type": "code",
   "execution_count": null,
   "metadata": {},
   "outputs": [],
   "source": [
    "metadata = yaml.safe_load(metadata_path.open(\"r\"))\n",
    "poly_event_metadata = metadata[\"task\"][\"events\"][\"poly\"]\n",
    "poly_event_metadata"
   ]
  },
  {
   "cell_type": "code",
   "execution_count": null,
   "metadata": {},
   "outputs": [],
   "source": [
    "line_nums = list(descendants)\n",
    "node_metadata = {}\n",
    "for ev in poly_event_metadata:\n",
    "    nodes = line_nums\n",
    "    for k, v in ev[\"detection\"].items():\n",
    "        if k == \"poly_line_num\":\n",
    "            if not isinstance(v, list):\n",
    "                v = [v]\n",
    "            nodes = [n for n in nodes if n in v]\n",
    "        elif k == \"poly_name\":\n",
    "            if not isinstance(v, list):\n",
    "                v = [v]\n",
    "            vals = [re.compile(\"_\" +val+\"$\") for val in v]\n",
    "            nodes = [n for n in nodes if np.any([v.search(str(val)) is not None for val in graph.nodes(data=True)[n].values() for v in vals])]\n",
    "        elif k == \"poly_ignore_name\":\n",
    "            if not isinstance(v, list):\n",
    "                v = [v]\n",
    "            vals = [re.compile(\"_\" +val+\"$\") for val in v]\n",
    "            nodes = [n for n in nodes if np.all([v.search(str(val)) is None for val in graph.nodes(data=True)[n].values() for v in vals])]\n",
    "        else:\n",
    "            raise Exception(f\"unrecognized detection key {k}\")\n",
    "    for n in nodes:\n",
    "        if n in node_metadata:\n",
    "            raise Exception(f\"double event metadata information for node {n}\")\n",
    "        node_metadata[n] = {k:v for k,v in ev[\"description\"].items()}\n",
    "yaml.dump(node_metadata, node_metadata_path.open(\"w\"))\n",
    "node_metadata"
   ]
  },
  {
   "cell_type": "code",
   "execution_count": null,
   "metadata": {},
   "outputs": [],
   "source": [
    "annotated_graph = graph.copy()\n",
    "cmap = mpl.colormaps[\"tab10\"].colors\n",
    "color_list= [mpl.colors.to_hex(c) for c in cmap[3:]]\n",
    "colors={\"error\": \"red\", \"reward\": \"lightgreen\"}\n",
    "for n, meta in node_metadata.items():\n",
    "    attr_dict = annotated_graph.nodes(data=True)[n]\n",
    "    attr_dict[\"event_metadata\"] = meta\n",
    "    attr_dict[\"shape\"] = \"rectangle\"\n",
    "    if \"fillcolor\" not in attr_dict:\n",
    "        if \"event\" in attr_dict[\"event_metadata\"]:\n",
    "            ev_name = attr_dict[\"event_metadata\"][\"event\"]\n",
    "            if not ev_name in colors:\n",
    "                colors[ev_name] = color_list[len(colors)]\n",
    "            attr_dict[\"fillcolor\"] = colors[ev_name]\n",
    "            attr_dict[\"style\"]=\"filled\"\n",
    "            attr_dict[\"legend\"]=ev_name\n",
    "svg = nxrender(annotated_graph, nodeautolabel=[..., \"+dot\", re.compile('NEXT\\d*')], format=\"svg\", args='-Gsize=22 -Gratio=1.4')\n",
    "SVG(svg)"
   ]
  },
  {
   "cell_type": "code",
   "execution_count": null,
   "metadata": {},
   "outputs": [],
   "source": [
    "with annotated_task_graph_path.open(\"wb\") as f:\n",
    "    f.write(svg )"
   ]
  }
 ],
 "metadata": {
  "kernelspec": {
   "display_name": "dev",
   "language": "python",
   "name": "python3"
  },
  "language_info": {
   "codemirror_mode": {
    "name": "ipython",
    "version": 3
   },
   "file_extension": ".py",
   "mimetype": "text/x-python",
   "name": "python",
   "nbconvert_exporter": "python",
   "pygments_lexer": "ipython3",
   "version": "3.11.8"
  }
 },
 "nbformat": 4,
 "nbformat_minor": 2
}
